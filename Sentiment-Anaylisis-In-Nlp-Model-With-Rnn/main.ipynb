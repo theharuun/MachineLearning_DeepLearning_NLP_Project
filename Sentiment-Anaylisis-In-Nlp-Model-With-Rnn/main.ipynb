{
 "cells": [
  {
   "cell_type": "markdown",
   "metadata": {},
   "source": [
    "# BTK NLP ODEV RNN :\n",
    "- Kalem yorumlarıyla ilgili bir veri seti üzerinde sınıflandırma projesi yapmak\n",
    "# BTK NLP HOMEWORK RNN :\n",
    "- Making designs on a dataset related to pen comments"
   ]
  },
  {
   "cell_type": "markdown",
   "metadata": {},
   "source": [
    "# import libraries"
   ]
  },
  {
   "cell_type": "code",
   "execution_count": 2,
   "metadata": {},
   "outputs": [],
   "source": [
    "import pandas as pd\n",
    "import numpy as np\n",
    "\n",
    "from gensim.models import Word2Vec\n",
    "\n",
    "from tensorflow.keras.preprocessing.sequence import pad_sequences\n",
    "from tensorflow.keras.models import Sequential\n",
    "from tensorflow.keras.layers import SimpleRNN , Dense ,Embedding\n",
    "from tensorflow.keras.preprocessing.text import Tokenizer\n",
    "\n",
    "from sklearn.model_selection import train_test_split\n",
    "from sklearn.preprocessing import LabelEncoder\n",
    "\n",
    "import warnings\n",
    "warnings.filterwarnings(\"ignore\")"
   ]
  },
  {
   "cell_type": "markdown",
   "metadata": {},
   "source": [
    "# create dataset by chatgtp"
   ]
  },
  {
   "cell_type": "code",
   "execution_count": 3,
   "metadata": {},
   "outputs": [
    {
     "name": "stdout",
     "output_type": "stream",
     "text": [
      "50\n"
     ]
    },
    {
     "data": {
      "text/plain": [
       "{'text': ['Kalemin yazımı çok akıcı, hiç takılma yapmıyor.',\n",
       "  'Mürekkep kalitesi çok kötü, sürekli akıyor.',\n",
       "  'Tasarımı harika, ele çok iyi oturuyor.',\n",
       "  'Kalem çabuk bozuldu, bir hafta bile dayanmadı.',\n",
       "  'İnce uçlu olması yazımı çok rahat hale getiriyor.',\n",
       "  'Mürekkep hızlı bitiyor, çabuk tükeniyor.',\n",
       "  'Yumuşak yazımı sayesinde çok rahat kullanıyorum.',\n",
       "  'Kapak kısmı çok gevşek, sürekli düşüyor.',\n",
       "  'Fiyatına göre performansı gerçekten çok iyi.',\n",
       "  'Kalemin uç kısmı çabuk kırılıyor, pek sağlam değil.',\n",
       "  'İnce detaylar için mükemmel bir kalem.',\n",
       "  'Mürekkep rengi çok soluk, yeterince belirgin değil.',\n",
       "  'Elde kaymıyor ve rahat bir tutuş sağlıyor.',\n",
       "  'Çok çabuk mürekkebi bitiyor, yeterince uzun ömürlü değil.',\n",
       "  'Sınavlarda kullanmak için harika bir kalem.',\n",
       "  'Uç kalitesi çok kötü, yazarken sürekli kırılıyor.',\n",
       "  'Dolma kalem gibi yumuşak bir yazımı var.',\n",
       "  'Mürekkebi sürekli akıyor, defterimi mahvetti.',\n",
       "  'Yedek uçları kolayca bulunabiliyor, bu büyük bir avantaj.',\n",
       "  'Plastik gövdesi çok dayanıksız, kolayca çatlıyor.',\n",
       "  'Metal gövdesi sayesinde çok sağlam ve kaliteli.',\n",
       "  'Kalemin tutma yeri çok sert, uzun süre yazarken rahatsız ediyor.',\n",
       "  'Mürekkep dağılımı harika, pürüzsüz bir yazım sağlıyor.',\n",
       "  'Silinebilir olması harika, hata yapınca rahatça düzeltebiliyorum.',\n",
       "  'Mekanik kalem kısmı çok hassas, hemen bozuluyor.',\n",
       "  'Dolma kalem mürekkebi çok güzel akıyor, leke yapmıyor.',\n",
       "  'Kalem sürekli mürekkep bırakıyor, hiç kullanışlı değil.',\n",
       "  'Gövdesi çok kaliteli, sağlam ve uzun ömürlü.',\n",
       "  'Uç kalınlığı çok iyi, ne çok ince ne de çok kalın.',\n",
       "  'Renk seçenekleri çok fazla, istediğim rengi bulabiliyorum.',\n",
       "  'Fiyatı çok pahalı, daha uygun fiyata benzeri kalemler var.',\n",
       "  'Mekanik mekanizması çok sağlam, uzun ömürlü bir kalem.',\n",
       "  'Kalem sürekli sıkışıyor, yazarken çok zorlanıyorum.',\n",
       "  'Yazı yazarken mürekkep akışı mükemmel, hiç aksama yok.',\n",
       "  'Kalemin kapağı çok gevşek, cebimde sürekli açılıyor.',\n",
       "  'Ağır bir kalem olduğu için uzun süre yazmak zor oluyor.',\n",
       "  'Yedek mürekkep seçenekleri çok fazla, değiştirmek çok kolay.',\n",
       "  'Kalemin tutuş hissi çok rahat, elimi hiç yormuyor.',\n",
       "  'Kağıtta mürekkep izi bırakıyor, kötü bir deneyim oldu.',\n",
       "  'Yazarken hiç iz bırakmıyor, temiz bir yazım sağlıyor.',\n",
       "  'Mekanik kalemin uç değişimi çok basit ve pratik.',\n",
       "  'Mürekkep akışı düzensiz, bazen kesik kesik yazıyor.',\n",
       "  'Klasik bir tasarımı var, çok şık görünüyor.',\n",
       "  'Kalem kırıldığı zaman yedek parçasını bulmak çok zor.',\n",
       "  'İçerisindeki mürekkep miktarı fazla, uzun süre kullanabiliyorum.',\n",
       "  'Kalem çok hafif, yazarken çok rahat hissettiriyor.',\n",
       "  'Ucu çok ince olduğu için çizim yapmak için ideal.',\n",
       "  'Tutuş yeri kaygan olduğu için elde tutması zor.',\n",
       "  'Mürekkep hemen kuruyor, kağıda bulaşma yapmıyor.',\n",
       "  'Kalem baya kötü hemen kırıldı.'],\n",
       " 'label': ['positive',\n",
       "  'negative',\n",
       "  'positive',\n",
       "  'negative',\n",
       "  'positive',\n",
       "  'negative',\n",
       "  'positive',\n",
       "  'negative',\n",
       "  'positive',\n",
       "  'negative',\n",
       "  'positive',\n",
       "  'negative',\n",
       "  'positive',\n",
       "  'negative',\n",
       "  'positive',\n",
       "  'negative',\n",
       "  'positive',\n",
       "  'negative',\n",
       "  'positive',\n",
       "  'negative',\n",
       "  'positive',\n",
       "  'negative',\n",
       "  'positive',\n",
       "  'negative',\n",
       "  'positive',\n",
       "  'negative',\n",
       "  'positive',\n",
       "  'negative',\n",
       "  'positive',\n",
       "  'negative',\n",
       "  'positive',\n",
       "  'negative',\n",
       "  'positive',\n",
       "  'negative',\n",
       "  'positive',\n",
       "  'negative',\n",
       "  'positive',\n",
       "  'negative',\n",
       "  'positive',\n",
       "  'negative',\n",
       "  'positive',\n",
       "  'negative',\n",
       "  'positive',\n",
       "  'negative',\n",
       "  'positive',\n",
       "  'negative',\n",
       "  'positive',\n",
       "  'negative',\n",
       "  'positive',\n",
       "  'negative']}"
      ]
     },
     "execution_count": 3,
     "metadata": {},
     "output_type": "execute_result"
    }
   ],
   "source": [
    "import random\n",
    "\n",
    "data = {\n",
    "    \"text\": [\n",
    "        \"Kalemin yazımı çok akıcı, hiç takılma yapmıyor.\",\n",
    "        \"Mürekkep kalitesi çok kötü, sürekli akıyor.\",\n",
    "        \"Tasarımı harika, ele çok iyi oturuyor.\",\n",
    "        \"Kalem çabuk bozuldu, bir hafta bile dayanmadı.\",\n",
    "        \"İnce uçlu olması yazımı çok rahat hale getiriyor.\",\n",
    "        \"Mürekkep hızlı bitiyor, çabuk tükeniyor.\",\n",
    "        \"Yumuşak yazımı sayesinde çok rahat kullanıyorum.\",\n",
    "        \"Kapak kısmı çok gevşek, sürekli düşüyor.\",\n",
    "        \"Fiyatına göre performansı gerçekten çok iyi.\",\n",
    "        \"Kalemin uç kısmı çabuk kırılıyor, pek sağlam değil.\",\n",
    "        \"İnce detaylar için mükemmel bir kalem.\",\n",
    "        \"Mürekkep rengi çok soluk, yeterince belirgin değil.\",\n",
    "        \"Elde kaymıyor ve rahat bir tutuş sağlıyor.\",\n",
    "        \"Çok çabuk mürekkebi bitiyor, yeterince uzun ömürlü değil.\",\n",
    "        \"Sınavlarda kullanmak için harika bir kalem.\",\n",
    "        \"Uç kalitesi çok kötü, yazarken sürekli kırılıyor.\",\n",
    "        \"Dolma kalem gibi yumuşak bir yazımı var.\",\n",
    "        \"Mürekkebi sürekli akıyor, defterimi mahvetti.\",\n",
    "        \"Yedek uçları kolayca bulunabiliyor, bu büyük bir avantaj.\",\n",
    "        \"Plastik gövdesi çok dayanıksız, kolayca çatlıyor.\",\n",
    "        \"Metal gövdesi sayesinde çok sağlam ve kaliteli.\",\n",
    "        \"Kalemin tutma yeri çok sert, uzun süre yazarken rahatsız ediyor.\",\n",
    "        \"Mürekkep dağılımı harika, pürüzsüz bir yazım sağlıyor.\",\n",
    "        \"Silinebilir olması harika, hata yapınca rahatça düzeltebiliyorum.\",\n",
    "        \"Mekanik kalem kısmı çok hassas, hemen bozuluyor.\",\n",
    "        \"Dolma kalem mürekkebi çok güzel akıyor, leke yapmıyor.\",\n",
    "        \"Kalem sürekli mürekkep bırakıyor, hiç kullanışlı değil.\",\n",
    "        \"Gövdesi çok kaliteli, sağlam ve uzun ömürlü.\",\n",
    "        \"Uç kalınlığı çok iyi, ne çok ince ne de çok kalın.\",\n",
    "        \"Renk seçenekleri çok fazla, istediğim rengi bulabiliyorum.\",\n",
    "        \"Fiyatı çok pahalı, daha uygun fiyata benzeri kalemler var.\",\n",
    "        \"Mekanik mekanizması çok sağlam, uzun ömürlü bir kalem.\",\n",
    "        \"Kalem sürekli sıkışıyor, yazarken çok zorlanıyorum.\",\n",
    "        \"Yazı yazarken mürekkep akışı mükemmel, hiç aksama yok.\",\n",
    "        \"Kalemin kapağı çok gevşek, cebimde sürekli açılıyor.\",\n",
    "        \"Ağır bir kalem olduğu için uzun süre yazmak zor oluyor.\",\n",
    "        \"Yedek mürekkep seçenekleri çok fazla, değiştirmek çok kolay.\",\n",
    "        \"Kalemin tutuş hissi çok rahat, elimi hiç yormuyor.\",\n",
    "        \"Kağıtta mürekkep izi bırakıyor, kötü bir deneyim oldu.\",\n",
    "        \"Yazarken hiç iz bırakmıyor, temiz bir yazım sağlıyor.\",\n",
    "        \"Mekanik kalemin uç değişimi çok basit ve pratik.\",\n",
    "        \"Mürekkep akışı düzensiz, bazen kesik kesik yazıyor.\",\n",
    "        \"Klasik bir tasarımı var, çok şık görünüyor.\",\n",
    "        \"Kalem kırıldığı zaman yedek parçasını bulmak çok zor.\",\n",
    "        \"İçerisindeki mürekkep miktarı fazla, uzun süre kullanabiliyorum.\",\n",
    "        \"Kalem çok hafif, yazarken çok rahat hissettiriyor.\",\n",
    "        \"Ucu çok ince olduğu için çizim yapmak için ideal.\",\n",
    "        \"Tutuş yeri kaygan olduğu için elde tutması zor.\",\n",
    "        \"Mürekkep hemen kuruyor, kağıda bulaşma yapmıyor.\",\n",
    "        \"Kalem baya kötü hemen kırıldı.\"\n",
    "    ],\n",
    "    \"label\": [\"positive\", \"negative\"] * 25  # 25 pozitif, 25 negatif\n",
    "}\n",
    "\n",
    "\n",
    "print(len(data[\"text\"]))\n",
    "data"
   ]
  },
  {
   "cell_type": "code",
   "execution_count": 4,
   "metadata": {},
   "outputs": [
    {
     "data": {
      "application/vnd.microsoft.datawrangler.viewer.v0+json": {
       "columns": [
        {
         "name": "index",
         "rawType": "int64",
         "type": "integer"
        },
        {
         "name": "text",
         "rawType": "object",
         "type": "string"
        },
        {
         "name": "label",
         "rawType": "object",
         "type": "string"
        }
       ],
       "conversionMethod": "pd.DataFrame",
       "ref": "1a1865b1-b3db-4363-b2fc-b91790faf426",
       "rows": [
        [
         "0",
         "Kalemin yazımı çok akıcı, hiç takılma yapmıyor.",
         "positive"
        ],
        [
         "1",
         "Mürekkep kalitesi çok kötü, sürekli akıyor.",
         "negative"
        ],
        [
         "2",
         "Tasarımı harika, ele çok iyi oturuyor.",
         "positive"
        ],
        [
         "3",
         "Kalem çabuk bozuldu, bir hafta bile dayanmadı.",
         "negative"
        ],
        [
         "4",
         "İnce uçlu olması yazımı çok rahat hale getiriyor.",
         "positive"
        ],
        [
         "5",
         "Mürekkep hızlı bitiyor, çabuk tükeniyor.",
         "negative"
        ],
        [
         "6",
         "Yumuşak yazımı sayesinde çok rahat kullanıyorum.",
         "positive"
        ],
        [
         "7",
         "Kapak kısmı çok gevşek, sürekli düşüyor.",
         "negative"
        ],
        [
         "8",
         "Fiyatına göre performansı gerçekten çok iyi.",
         "positive"
        ],
        [
         "9",
         "Kalemin uç kısmı çabuk kırılıyor, pek sağlam değil.",
         "negative"
        ],
        [
         "10",
         "İnce detaylar için mükemmel bir kalem.",
         "positive"
        ],
        [
         "11",
         "Mürekkep rengi çok soluk, yeterince belirgin değil.",
         "negative"
        ],
        [
         "12",
         "Elde kaymıyor ve rahat bir tutuş sağlıyor.",
         "positive"
        ],
        [
         "13",
         "Çok çabuk mürekkebi bitiyor, yeterince uzun ömürlü değil.",
         "negative"
        ],
        [
         "14",
         "Sınavlarda kullanmak için harika bir kalem.",
         "positive"
        ],
        [
         "15",
         "Uç kalitesi çok kötü, yazarken sürekli kırılıyor.",
         "negative"
        ],
        [
         "16",
         "Dolma kalem gibi yumuşak bir yazımı var.",
         "positive"
        ],
        [
         "17",
         "Mürekkebi sürekli akıyor, defterimi mahvetti.",
         "negative"
        ],
        [
         "18",
         "Yedek uçları kolayca bulunabiliyor, bu büyük bir avantaj.",
         "positive"
        ],
        [
         "19",
         "Plastik gövdesi çok dayanıksız, kolayca çatlıyor.",
         "negative"
        ],
        [
         "20",
         "Metal gövdesi sayesinde çok sağlam ve kaliteli.",
         "positive"
        ],
        [
         "21",
         "Kalemin tutma yeri çok sert, uzun süre yazarken rahatsız ediyor.",
         "negative"
        ],
        [
         "22",
         "Mürekkep dağılımı harika, pürüzsüz bir yazım sağlıyor.",
         "positive"
        ],
        [
         "23",
         "Silinebilir olması harika, hata yapınca rahatça düzeltebiliyorum.",
         "negative"
        ],
        [
         "24",
         "Mekanik kalem kısmı çok hassas, hemen bozuluyor.",
         "positive"
        ],
        [
         "25",
         "Dolma kalem mürekkebi çok güzel akıyor, leke yapmıyor.",
         "negative"
        ],
        [
         "26",
         "Kalem sürekli mürekkep bırakıyor, hiç kullanışlı değil.",
         "positive"
        ],
        [
         "27",
         "Gövdesi çok kaliteli, sağlam ve uzun ömürlü.",
         "negative"
        ],
        [
         "28",
         "Uç kalınlığı çok iyi, ne çok ince ne de çok kalın.",
         "positive"
        ],
        [
         "29",
         "Renk seçenekleri çok fazla, istediğim rengi bulabiliyorum.",
         "negative"
        ],
        [
         "30",
         "Fiyatı çok pahalı, daha uygun fiyata benzeri kalemler var.",
         "positive"
        ],
        [
         "31",
         "Mekanik mekanizması çok sağlam, uzun ömürlü bir kalem.",
         "negative"
        ],
        [
         "32",
         "Kalem sürekli sıkışıyor, yazarken çok zorlanıyorum.",
         "positive"
        ],
        [
         "33",
         "Yazı yazarken mürekkep akışı mükemmel, hiç aksama yok.",
         "negative"
        ],
        [
         "34",
         "Kalemin kapağı çok gevşek, cebimde sürekli açılıyor.",
         "positive"
        ],
        [
         "35",
         "Ağır bir kalem olduğu için uzun süre yazmak zor oluyor.",
         "negative"
        ],
        [
         "36",
         "Yedek mürekkep seçenekleri çok fazla, değiştirmek çok kolay.",
         "positive"
        ],
        [
         "37",
         "Kalemin tutuş hissi çok rahat, elimi hiç yormuyor.",
         "negative"
        ],
        [
         "38",
         "Kağıtta mürekkep izi bırakıyor, kötü bir deneyim oldu.",
         "positive"
        ],
        [
         "39",
         "Yazarken hiç iz bırakmıyor, temiz bir yazım sağlıyor.",
         "negative"
        ],
        [
         "40",
         "Mekanik kalemin uç değişimi çok basit ve pratik.",
         "positive"
        ],
        [
         "41",
         "Mürekkep akışı düzensiz, bazen kesik kesik yazıyor.",
         "negative"
        ],
        [
         "42",
         "Klasik bir tasarımı var, çok şık görünüyor.",
         "positive"
        ],
        [
         "43",
         "Kalem kırıldığı zaman yedek parçasını bulmak çok zor.",
         "negative"
        ],
        [
         "44",
         "İçerisindeki mürekkep miktarı fazla, uzun süre kullanabiliyorum.",
         "positive"
        ],
        [
         "45",
         "Kalem çok hafif, yazarken çok rahat hissettiriyor.",
         "negative"
        ],
        [
         "46",
         "Ucu çok ince olduğu için çizim yapmak için ideal.",
         "positive"
        ],
        [
         "47",
         "Tutuş yeri kaygan olduğu için elde tutması zor.",
         "negative"
        ],
        [
         "48",
         "Mürekkep hemen kuruyor, kağıda bulaşma yapmıyor.",
         "positive"
        ],
        [
         "49",
         "Kalem baya kötü hemen kırıldı.",
         "negative"
        ]
       ],
       "shape": {
        "columns": 2,
        "rows": 50
       }
      },
      "text/html": [
       "<div>\n",
       "<style scoped>\n",
       "    .dataframe tbody tr th:only-of-type {\n",
       "        vertical-align: middle;\n",
       "    }\n",
       "\n",
       "    .dataframe tbody tr th {\n",
       "        vertical-align: top;\n",
       "    }\n",
       "\n",
       "    .dataframe thead th {\n",
       "        text-align: right;\n",
       "    }\n",
       "</style>\n",
       "<table border=\"1\" class=\"dataframe\">\n",
       "  <thead>\n",
       "    <tr style=\"text-align: right;\">\n",
       "      <th></th>\n",
       "      <th>text</th>\n",
       "      <th>label</th>\n",
       "    </tr>\n",
       "  </thead>\n",
       "  <tbody>\n",
       "    <tr>\n",
       "      <th>0</th>\n",
       "      <td>Kalemin yazımı çok akıcı, hiç takılma yapmıyor.</td>\n",
       "      <td>positive</td>\n",
       "    </tr>\n",
       "    <tr>\n",
       "      <th>1</th>\n",
       "      <td>Mürekkep kalitesi çok kötü, sürekli akıyor.</td>\n",
       "      <td>negative</td>\n",
       "    </tr>\n",
       "    <tr>\n",
       "      <th>2</th>\n",
       "      <td>Tasarımı harika, ele çok iyi oturuyor.</td>\n",
       "      <td>positive</td>\n",
       "    </tr>\n",
       "    <tr>\n",
       "      <th>3</th>\n",
       "      <td>Kalem çabuk bozuldu, bir hafta bile dayanmadı.</td>\n",
       "      <td>negative</td>\n",
       "    </tr>\n",
       "    <tr>\n",
       "      <th>4</th>\n",
       "      <td>İnce uçlu olması yazımı çok rahat hale getiriyor.</td>\n",
       "      <td>positive</td>\n",
       "    </tr>\n",
       "    <tr>\n",
       "      <th>5</th>\n",
       "      <td>Mürekkep hızlı bitiyor, çabuk tükeniyor.</td>\n",
       "      <td>negative</td>\n",
       "    </tr>\n",
       "    <tr>\n",
       "      <th>6</th>\n",
       "      <td>Yumuşak yazımı sayesinde çok rahat kullanıyorum.</td>\n",
       "      <td>positive</td>\n",
       "    </tr>\n",
       "    <tr>\n",
       "      <th>7</th>\n",
       "      <td>Kapak kısmı çok gevşek, sürekli düşüyor.</td>\n",
       "      <td>negative</td>\n",
       "    </tr>\n",
       "    <tr>\n",
       "      <th>8</th>\n",
       "      <td>Fiyatına göre performansı gerçekten çok iyi.</td>\n",
       "      <td>positive</td>\n",
       "    </tr>\n",
       "    <tr>\n",
       "      <th>9</th>\n",
       "      <td>Kalemin uç kısmı çabuk kırılıyor, pek sağlam d...</td>\n",
       "      <td>negative</td>\n",
       "    </tr>\n",
       "    <tr>\n",
       "      <th>10</th>\n",
       "      <td>İnce detaylar için mükemmel bir kalem.</td>\n",
       "      <td>positive</td>\n",
       "    </tr>\n",
       "    <tr>\n",
       "      <th>11</th>\n",
       "      <td>Mürekkep rengi çok soluk, yeterince belirgin d...</td>\n",
       "      <td>negative</td>\n",
       "    </tr>\n",
       "    <tr>\n",
       "      <th>12</th>\n",
       "      <td>Elde kaymıyor ve rahat bir tutuş sağlıyor.</td>\n",
       "      <td>positive</td>\n",
       "    </tr>\n",
       "    <tr>\n",
       "      <th>13</th>\n",
       "      <td>Çok çabuk mürekkebi bitiyor, yeterince uzun öm...</td>\n",
       "      <td>negative</td>\n",
       "    </tr>\n",
       "    <tr>\n",
       "      <th>14</th>\n",
       "      <td>Sınavlarda kullanmak için harika bir kalem.</td>\n",
       "      <td>positive</td>\n",
       "    </tr>\n",
       "    <tr>\n",
       "      <th>15</th>\n",
       "      <td>Uç kalitesi çok kötü, yazarken sürekli kırılıyor.</td>\n",
       "      <td>negative</td>\n",
       "    </tr>\n",
       "    <tr>\n",
       "      <th>16</th>\n",
       "      <td>Dolma kalem gibi yumuşak bir yazımı var.</td>\n",
       "      <td>positive</td>\n",
       "    </tr>\n",
       "    <tr>\n",
       "      <th>17</th>\n",
       "      <td>Mürekkebi sürekli akıyor, defterimi mahvetti.</td>\n",
       "      <td>negative</td>\n",
       "    </tr>\n",
       "    <tr>\n",
       "      <th>18</th>\n",
       "      <td>Yedek uçları kolayca bulunabiliyor, bu büyük b...</td>\n",
       "      <td>positive</td>\n",
       "    </tr>\n",
       "    <tr>\n",
       "      <th>19</th>\n",
       "      <td>Plastik gövdesi çok dayanıksız, kolayca çatlıyor.</td>\n",
       "      <td>negative</td>\n",
       "    </tr>\n",
       "    <tr>\n",
       "      <th>20</th>\n",
       "      <td>Metal gövdesi sayesinde çok sağlam ve kaliteli.</td>\n",
       "      <td>positive</td>\n",
       "    </tr>\n",
       "    <tr>\n",
       "      <th>21</th>\n",
       "      <td>Kalemin tutma yeri çok sert, uzun süre yazarke...</td>\n",
       "      <td>negative</td>\n",
       "    </tr>\n",
       "    <tr>\n",
       "      <th>22</th>\n",
       "      <td>Mürekkep dağılımı harika, pürüzsüz bir yazım s...</td>\n",
       "      <td>positive</td>\n",
       "    </tr>\n",
       "    <tr>\n",
       "      <th>23</th>\n",
       "      <td>Silinebilir olması harika, hata yapınca rahatç...</td>\n",
       "      <td>negative</td>\n",
       "    </tr>\n",
       "    <tr>\n",
       "      <th>24</th>\n",
       "      <td>Mekanik kalem kısmı çok hassas, hemen bozuluyor.</td>\n",
       "      <td>positive</td>\n",
       "    </tr>\n",
       "    <tr>\n",
       "      <th>25</th>\n",
       "      <td>Dolma kalem mürekkebi çok güzel akıyor, leke y...</td>\n",
       "      <td>negative</td>\n",
       "    </tr>\n",
       "    <tr>\n",
       "      <th>26</th>\n",
       "      <td>Kalem sürekli mürekkep bırakıyor, hiç kullanış...</td>\n",
       "      <td>positive</td>\n",
       "    </tr>\n",
       "    <tr>\n",
       "      <th>27</th>\n",
       "      <td>Gövdesi çok kaliteli, sağlam ve uzun ömürlü.</td>\n",
       "      <td>negative</td>\n",
       "    </tr>\n",
       "    <tr>\n",
       "      <th>28</th>\n",
       "      <td>Uç kalınlığı çok iyi, ne çok ince ne de çok ka...</td>\n",
       "      <td>positive</td>\n",
       "    </tr>\n",
       "    <tr>\n",
       "      <th>29</th>\n",
       "      <td>Renk seçenekleri çok fazla, istediğim rengi bu...</td>\n",
       "      <td>negative</td>\n",
       "    </tr>\n",
       "    <tr>\n",
       "      <th>30</th>\n",
       "      <td>Fiyatı çok pahalı, daha uygun fiyata benzeri k...</td>\n",
       "      <td>positive</td>\n",
       "    </tr>\n",
       "    <tr>\n",
       "      <th>31</th>\n",
       "      <td>Mekanik mekanizması çok sağlam, uzun ömürlü bi...</td>\n",
       "      <td>negative</td>\n",
       "    </tr>\n",
       "    <tr>\n",
       "      <th>32</th>\n",
       "      <td>Kalem sürekli sıkışıyor, yazarken çok zorlanıy...</td>\n",
       "      <td>positive</td>\n",
       "    </tr>\n",
       "    <tr>\n",
       "      <th>33</th>\n",
       "      <td>Yazı yazarken mürekkep akışı mükemmel, hiç aks...</td>\n",
       "      <td>negative</td>\n",
       "    </tr>\n",
       "    <tr>\n",
       "      <th>34</th>\n",
       "      <td>Kalemin kapağı çok gevşek, cebimde sürekli açı...</td>\n",
       "      <td>positive</td>\n",
       "    </tr>\n",
       "    <tr>\n",
       "      <th>35</th>\n",
       "      <td>Ağır bir kalem olduğu için uzun süre yazmak zo...</td>\n",
       "      <td>negative</td>\n",
       "    </tr>\n",
       "    <tr>\n",
       "      <th>36</th>\n",
       "      <td>Yedek mürekkep seçenekleri çok fazla, değiştir...</td>\n",
       "      <td>positive</td>\n",
       "    </tr>\n",
       "    <tr>\n",
       "      <th>37</th>\n",
       "      <td>Kalemin tutuş hissi çok rahat, elimi hiç yormu...</td>\n",
       "      <td>negative</td>\n",
       "    </tr>\n",
       "    <tr>\n",
       "      <th>38</th>\n",
       "      <td>Kağıtta mürekkep izi bırakıyor, kötü bir deney...</td>\n",
       "      <td>positive</td>\n",
       "    </tr>\n",
       "    <tr>\n",
       "      <th>39</th>\n",
       "      <td>Yazarken hiç iz bırakmıyor, temiz bir yazım sa...</td>\n",
       "      <td>negative</td>\n",
       "    </tr>\n",
       "    <tr>\n",
       "      <th>40</th>\n",
       "      <td>Mekanik kalemin uç değişimi çok basit ve pratik.</td>\n",
       "      <td>positive</td>\n",
       "    </tr>\n",
       "    <tr>\n",
       "      <th>41</th>\n",
       "      <td>Mürekkep akışı düzensiz, bazen kesik kesik yaz...</td>\n",
       "      <td>negative</td>\n",
       "    </tr>\n",
       "    <tr>\n",
       "      <th>42</th>\n",
       "      <td>Klasik bir tasarımı var, çok şık görünüyor.</td>\n",
       "      <td>positive</td>\n",
       "    </tr>\n",
       "    <tr>\n",
       "      <th>43</th>\n",
       "      <td>Kalem kırıldığı zaman yedek parçasını bulmak ç...</td>\n",
       "      <td>negative</td>\n",
       "    </tr>\n",
       "    <tr>\n",
       "      <th>44</th>\n",
       "      <td>İçerisindeki mürekkep miktarı fazla, uzun süre...</td>\n",
       "      <td>positive</td>\n",
       "    </tr>\n",
       "    <tr>\n",
       "      <th>45</th>\n",
       "      <td>Kalem çok hafif, yazarken çok rahat hissettiri...</td>\n",
       "      <td>negative</td>\n",
       "    </tr>\n",
       "    <tr>\n",
       "      <th>46</th>\n",
       "      <td>Ucu çok ince olduğu için çizim yapmak için ideal.</td>\n",
       "      <td>positive</td>\n",
       "    </tr>\n",
       "    <tr>\n",
       "      <th>47</th>\n",
       "      <td>Tutuş yeri kaygan olduğu için elde tutması zor.</td>\n",
       "      <td>negative</td>\n",
       "    </tr>\n",
       "    <tr>\n",
       "      <th>48</th>\n",
       "      <td>Mürekkep hemen kuruyor, kağıda bulaşma yapmıyor.</td>\n",
       "      <td>positive</td>\n",
       "    </tr>\n",
       "    <tr>\n",
       "      <th>49</th>\n",
       "      <td>Kalem baya kötü hemen kırıldı.</td>\n",
       "      <td>negative</td>\n",
       "    </tr>\n",
       "  </tbody>\n",
       "</table>\n",
       "</div>"
      ],
      "text/plain": [
       "                                                 text     label\n",
       "0     Kalemin yazımı çok akıcı, hiç takılma yapmıyor.  positive\n",
       "1         Mürekkep kalitesi çok kötü, sürekli akıyor.  negative\n",
       "2              Tasarımı harika, ele çok iyi oturuyor.  positive\n",
       "3      Kalem çabuk bozuldu, bir hafta bile dayanmadı.  negative\n",
       "4   İnce uçlu olması yazımı çok rahat hale getiriyor.  positive\n",
       "5            Mürekkep hızlı bitiyor, çabuk tükeniyor.  negative\n",
       "6    Yumuşak yazımı sayesinde çok rahat kullanıyorum.  positive\n",
       "7            Kapak kısmı çok gevşek, sürekli düşüyor.  negative\n",
       "8        Fiyatına göre performansı gerçekten çok iyi.  positive\n",
       "9   Kalemin uç kısmı çabuk kırılıyor, pek sağlam d...  negative\n",
       "10             İnce detaylar için mükemmel bir kalem.  positive\n",
       "11  Mürekkep rengi çok soluk, yeterince belirgin d...  negative\n",
       "12         Elde kaymıyor ve rahat bir tutuş sağlıyor.  positive\n",
       "13  Çok çabuk mürekkebi bitiyor, yeterince uzun öm...  negative\n",
       "14        Sınavlarda kullanmak için harika bir kalem.  positive\n",
       "15  Uç kalitesi çok kötü, yazarken sürekli kırılıyor.  negative\n",
       "16           Dolma kalem gibi yumuşak bir yazımı var.  positive\n",
       "17      Mürekkebi sürekli akıyor, defterimi mahvetti.  negative\n",
       "18  Yedek uçları kolayca bulunabiliyor, bu büyük b...  positive\n",
       "19  Plastik gövdesi çok dayanıksız, kolayca çatlıyor.  negative\n",
       "20    Metal gövdesi sayesinde çok sağlam ve kaliteli.  positive\n",
       "21  Kalemin tutma yeri çok sert, uzun süre yazarke...  negative\n",
       "22  Mürekkep dağılımı harika, pürüzsüz bir yazım s...  positive\n",
       "23  Silinebilir olması harika, hata yapınca rahatç...  negative\n",
       "24   Mekanik kalem kısmı çok hassas, hemen bozuluyor.  positive\n",
       "25  Dolma kalem mürekkebi çok güzel akıyor, leke y...  negative\n",
       "26  Kalem sürekli mürekkep bırakıyor, hiç kullanış...  positive\n",
       "27       Gövdesi çok kaliteli, sağlam ve uzun ömürlü.  negative\n",
       "28  Uç kalınlığı çok iyi, ne çok ince ne de çok ka...  positive\n",
       "29  Renk seçenekleri çok fazla, istediğim rengi bu...  negative\n",
       "30  Fiyatı çok pahalı, daha uygun fiyata benzeri k...  positive\n",
       "31  Mekanik mekanizması çok sağlam, uzun ömürlü bi...  negative\n",
       "32  Kalem sürekli sıkışıyor, yazarken çok zorlanıy...  positive\n",
       "33  Yazı yazarken mürekkep akışı mükemmel, hiç aks...  negative\n",
       "34  Kalemin kapağı çok gevşek, cebimde sürekli açı...  positive\n",
       "35  Ağır bir kalem olduğu için uzun süre yazmak zo...  negative\n",
       "36  Yedek mürekkep seçenekleri çok fazla, değiştir...  positive\n",
       "37  Kalemin tutuş hissi çok rahat, elimi hiç yormu...  negative\n",
       "38  Kağıtta mürekkep izi bırakıyor, kötü bir deney...  positive\n",
       "39  Yazarken hiç iz bırakmıyor, temiz bir yazım sa...  negative\n",
       "40   Mekanik kalemin uç değişimi çok basit ve pratik.  positive\n",
       "41  Mürekkep akışı düzensiz, bazen kesik kesik yaz...  negative\n",
       "42        Klasik bir tasarımı var, çok şık görünüyor.  positive\n",
       "43  Kalem kırıldığı zaman yedek parçasını bulmak ç...  negative\n",
       "44  İçerisindeki mürekkep miktarı fazla, uzun süre...  positive\n",
       "45  Kalem çok hafif, yazarken çok rahat hissettiri...  negative\n",
       "46  Ucu çok ince olduğu için çizim yapmak için ideal.  positive\n",
       "47    Tutuş yeri kaygan olduğu için elde tutması zor.  negative\n",
       "48   Mürekkep hemen kuruyor, kağıda bulaşma yapmıyor.  positive\n",
       "49                     Kalem baya kötü hemen kırıldı.  negative"
      ]
     },
     "execution_count": 4,
     "metadata": {},
     "output_type": "execute_result"
    }
   ],
   "source": [
    "df=pd.DataFrame(data=data)\n",
    "df"
   ]
  },
  {
   "cell_type": "markdown",
   "metadata": {},
   "source": [
    "# text cleaning (metin temizleme) : tokenization , padding , label encoding , train-test-split"
   ]
  },
  {
   "cell_type": "markdown",
   "metadata": {},
   "source": [
    "## tokenization "
   ]
  },
  {
   "cell_type": "code",
   "execution_count": 8,
   "metadata": {},
   "outputs": [
    {
     "name": "stdout",
     "output_type": "stream",
     "text": [
      "{'çok': 1, 'kalem': 2, 'bir': 3, 'mürekkep': 4, 'sürekli': 5, 'kalemin': 6, 'için': 7, 'uzun': 8, 'yazarken': 9, 'hiç': 10, 'rahat': 11, 'yazımı': 12, 'kötü': 13, 'harika': 14, 'çabuk': 15, 'uç': 16, 'sağlam': 17, 'değil': 18, 've': 19, 'yapmıyor': 20, 'akıyor': 21, 'iyi': 22, 'kısmı': 23, 'tutuş': 24, 'sağlıyor': 25, 'mürekkebi': 26, 'ömürlü': 27, 'var': 28, 'yedek': 29, 'gövdesi': 30, 'süre': 31, 'mekanik': 32, 'hemen': 33, 'fazla': 34, 'olduğu': 35, 'zor': 36, 'kalitesi': 37, 'tasarımı': 38, 'i̇nce': 39, 'olması': 40, 'bitiyor': 41, 'yumuşak': 42, 'sayesinde': 43, 'gevşek': 44, 'kırılıyor': 45, 'mükemmel': 46, 'rengi': 47, 'yeterince': 48, 'elde': 49, 'dolma': 50, 'kolayca': 51, 'kaliteli': 52, 'yeri': 53, 'yazım': 54, 'bırakıyor': 55, 'ne': 56, 'ince': 57, 'seçenekleri': 58, 'akışı': 59, 'kesik': 60, 'akıcı': 61, 'takılma': 62, 'ele': 63, 'oturuyor': 64, 'bozuldu': 65, 'hafta': 66, 'bile': 67, 'dayanmadı': 68, 'uçlu': 69, 'hale': 70, 'getiriyor': 71, 'hızlı': 72, 'tükeniyor': 73, 'kullanıyorum': 74, 'kapak': 75, 'düşüyor': 76, 'fiyatına': 77, 'göre': 78, 'performansı': 79, 'gerçekten': 80, 'pek': 81, 'detaylar': 82, 'soluk': 83, 'belirgin': 84, 'kaymıyor': 85, 'sınavlarda': 86, 'kullanmak': 87, 'gibi': 88, 'defterimi': 89, 'mahvetti': 90, 'uçları': 91, 'bulunabiliyor': 92, 'bu': 93, 'büyük': 94, 'avantaj': 95, 'plastik': 96, 'dayanıksız': 97, 'çatlıyor': 98, 'metal': 99, 'tutma': 100, 'sert': 101, 'rahatsız': 102, 'ediyor': 103, 'dağılımı': 104, 'pürüzsüz': 105, 'silinebilir': 106, 'hata': 107, 'yapınca': 108, 'rahatça': 109, 'düzeltebiliyorum': 110, 'hassas': 111, 'bozuluyor': 112, 'güzel': 113, 'leke': 114, 'kullanışlı': 115, 'kalınlığı': 116, 'de': 117, 'kalın': 118, 'renk': 119, 'istediğim': 120, 'bulabiliyorum': 121, 'fiyatı': 122, 'pahalı': 123, 'daha': 124, 'uygun': 125, 'fiyata': 126, 'benzeri': 127, 'kalemler': 128, 'mekanizması': 129, 'sıkışıyor': 130, 'zorlanıyorum': 131, 'yazı': 132, 'aksama': 133, 'yok': 134, 'kapağı': 135, 'cebimde': 136, 'açılıyor': 137, 'ağır': 138, 'yazmak': 139, 'oluyor': 140, 'değiştirmek': 141, 'kolay': 142, 'hissi': 143, 'elimi': 144, 'yormuyor': 145, 'kağıtta': 146, 'izi': 147, 'deneyim': 148, 'oldu': 149, 'iz': 150, 'bırakmıyor': 151, 'temiz': 152, 'değişimi': 153, 'basit': 154, 'pratik': 155, 'düzensiz': 156, 'bazen': 157, 'yazıyor': 158, 'klasik': 159, 'şık': 160, 'görünüyor': 161, 'kırıldığı': 162, 'zaman': 163, 'parçasını': 164, 'bulmak': 165, 'i̇çerisindeki': 166, 'miktarı': 167, 'kullanabiliyorum': 168, 'hafif': 169, 'hissettiriyor': 170, 'ucu': 171, 'çizim': 172, 'yapmak': 173, 'ideal': 174, 'kaygan': 175, 'tutması': 176, 'kuruyor': 177, 'kağıda': 178, 'bulaşma': 179, 'baya': 180, 'kırıldı': 181}\n",
      "[[6, 12, 1, 61, 10, 62, 20], [4, 37, 1, 13, 5, 21], [38, 14, 63, 1, 22, 64], [2, 15, 65, 3, 66, 67, 68], [39, 69, 40, 12, 1, 11, 70, 71], [4, 72, 41, 15, 73], [42, 12, 43, 1, 11, 74], [75, 23, 1, 44, 5, 76], [77, 78, 79, 80, 1, 22], [6, 16, 23, 15, 45, 81, 17, 18], [39, 82, 7, 46, 3, 2], [4, 47, 1, 83, 48, 84, 18], [49, 85, 19, 11, 3, 24, 25], [1, 15, 26, 41, 48, 8, 27, 18], [86, 87, 7, 14, 3, 2], [16, 37, 1, 13, 9, 5, 45], [50, 2, 88, 42, 3, 12, 28], [26, 5, 21, 89, 90], [29, 91, 51, 92, 93, 94, 3, 95], [96, 30, 1, 97, 51, 98], [99, 30, 43, 1, 17, 19, 52], [6, 100, 53, 1, 101, 8, 31, 9, 102, 103], [4, 104, 14, 105, 3, 54, 25], [106, 40, 14, 107, 108, 109, 110], [32, 2, 23, 1, 111, 33, 112], [50, 2, 26, 1, 113, 21, 114, 20], [2, 5, 4, 55, 10, 115, 18], [30, 1, 52, 17, 19, 8, 27], [16, 116, 1, 22, 56, 1, 57, 56, 117, 1, 118], [119, 58, 1, 34, 120, 47, 121], [122, 1, 123, 124, 125, 126, 127, 128, 28], [32, 129, 1, 17, 8, 27, 3, 2], [2, 5, 130, 9, 1, 131], [132, 9, 4, 59, 46, 10, 133, 134], [6, 135, 1, 44, 136, 5, 137], [138, 3, 2, 35, 7, 8, 31, 139, 36, 140], [29, 4, 58, 1, 34, 141, 1, 142], [6, 24, 143, 1, 11, 144, 10, 145], [146, 4, 147, 55, 13, 3, 148, 149], [9, 10, 150, 151, 152, 3, 54, 25], [32, 6, 16, 153, 1, 154, 19, 155], [4, 59, 156, 157, 60, 60, 158], [159, 3, 38, 28, 1, 160, 161], [2, 162, 163, 29, 164, 165, 1, 36], [166, 4, 167, 34, 8, 31, 168], [2, 1, 169, 9, 1, 11, 170], [171, 1, 57, 35, 7, 172, 173, 7, 174], [24, 53, 175, 35, 7, 49, 176, 36], [4, 33, 177, 178, 179, 20], [2, 180, 13, 33, 181]]\n"
     ]
    }
   ],
   "source": [
    "tokenizer=Tokenizer()\n",
    "tokenizer.fit_on_texts(df[\"text\"])\n",
    "sequences=tokenizer.texts_to_sequences(df[\"text\"])\n",
    "\n",
    "word_index=tokenizer.word_index\n",
    "\n",
    "print(word_index) # her kelimelin sayısal karşılıı-ğı\n",
    "print(sequences)  # cümledeki kelimelerin sayısal ifadesiyle cümle ifadesi"
   ]
  },
  {
   "cell_type": "markdown",
   "metadata": {},
   "source": [
    "## padding"
   ]
  },
  {
   "cell_type": "code",
   "execution_count": 10,
   "metadata": {},
   "outputs": [
    {
     "data": {
      "text/plain": [
       "(50, 11)"
      ]
     },
     "execution_count": 10,
     "metadata": {},
     "output_type": "execute_result"
    }
   ],
   "source": [
    "max_len=max(len(seq) for seq in sequences)\n",
    "\n",
    "X = pad_sequences(sequences,maxlen=max_len)\n",
    "X.shape  # 50 cümle en uzun cümlenin boyu(11) padding alarak her bir cümle standartlaştırıldı "
   ]
  },
  {
   "cell_type": "markdown",
   "metadata": {},
   "source": [
    "## label encoding"
   ]
  },
  {
   "cell_type": "code",
   "execution_count": 11,
   "metadata": {},
   "outputs": [
    {
     "data": {
      "text/plain": [
       "array([1, 0, 1, 0, 1, 0, 1, 0, 1, 0, 1, 0, 1, 0, 1, 0, 1, 0, 1, 0, 1, 0,\n",
       "       1, 0, 1, 0, 1, 0, 1, 0, 1, 0, 1, 0, 1, 0, 1, 0, 1, 0, 1, 0, 1, 0,\n",
       "       1, 0, 1, 0, 1, 0])"
      ]
     },
     "execution_count": 11,
     "metadata": {},
     "output_type": "execute_result"
    }
   ],
   "source": [
    "label_encoder=LabelEncoder()\n",
    "y=label_encoder.fit_transform(df[\"label\"])\n",
    "y"
   ]
  },
  {
   "cell_type": "markdown",
   "metadata": {},
   "source": [
    "## train test split"
   ]
  },
  {
   "cell_type": "code",
   "execution_count": 12,
   "metadata": {},
   "outputs": [],
   "source": [
    "X_train,X_test,y_train,y_test = train_test_split(X,y,test_size=0.2,random_state=42)"
   ]
  },
  {
   "cell_type": "markdown",
   "metadata": {},
   "source": [
    "# Feature Engineering : word embedding (Word2Vec)"
   ]
  },
  {
   "cell_type": "code",
   "execution_count": 13,
   "metadata": {},
   "outputs": [],
   "source": [
    "sentences=[text.split() for text in df[\"text\"]]\n",
    "\n",
    "word2vec_model=Word2Vec(sentences,vector_size=50,window=5,min_count=1)"
   ]
  },
  {
   "cell_type": "code",
   "execution_count": 14,
   "metadata": {},
   "outputs": [],
   "source": [
    "# create embedding matrix\n",
    "\n",
    "embedding_dim=50\n",
    "embedding_matrix=np.zeros((len(word_index)+1,embedding_dim))"
   ]
  },
  {
   "cell_type": "code",
   "execution_count": 16,
   "metadata": {},
   "outputs": [],
   "source": [
    "for word , i in word_index.items():       # kelime index olarak gelir items ile \n",
    "    if word in word2vec_model.wv:         # gelen kelime önceden eğitilmiş embedding modelde varsa gir\n",
    "        embedding_matrix[i] = word2vec_model.wv[word]   # matrixteki indekse bu kelimeyi eşle diğerleri 0 olarak kalıyor"
   ]
  },
  {
   "cell_type": "markdown",
   "metadata": {},
   "source": [
    "# modellling : build , train-test , rnn model"
   ]
  },
  {
   "cell_type": "code",
   "execution_count": 20,
   "metadata": {},
   "outputs": [
    {
     "name": "stdout",
     "output_type": "stream",
     "text": [
      "Epoch 1/10\n",
      "\u001b[1m20/20\u001b[0m \u001b[32m━━━━━━━━━━━━━━━━━━━━\u001b[0m\u001b[37m\u001b[0m \u001b[1m2s\u001b[0m 26ms/step - accuracy: 0.4012 - loss: 0.7051 - val_accuracy: 0.3000 - val_loss: 0.6986\n",
      "Epoch 2/10\n",
      "\u001b[1m20/20\u001b[0m \u001b[32m━━━━━━━━━━━━━━━━━━━━\u001b[0m\u001b[37m\u001b[0m \u001b[1m0s\u001b[0m 7ms/step - accuracy: 0.6722 - loss: 0.6874 - val_accuracy: 0.4000 - val_loss: 0.6955\n",
      "Epoch 3/10\n",
      "\u001b[1m20/20\u001b[0m \u001b[32m━━━━━━━━━━━━━━━━━━━━\u001b[0m\u001b[37m\u001b[0m \u001b[1m0s\u001b[0m 6ms/step - accuracy: 0.7535 - loss: 0.6749 - val_accuracy: 0.4000 - val_loss: 0.7018\n",
      "Epoch 4/10\n",
      "\u001b[1m20/20\u001b[0m \u001b[32m━━━━━━━━━━━━━━━━━━━━\u001b[0m\u001b[37m\u001b[0m \u001b[1m0s\u001b[0m 5ms/step - accuracy: 0.8066 - loss: 0.6477 - val_accuracy: 0.5000 - val_loss: 0.6992\n",
      "Epoch 5/10\n",
      "\u001b[1m20/20\u001b[0m \u001b[32m━━━━━━━━━━━━━━━━━━━━\u001b[0m\u001b[37m\u001b[0m \u001b[1m0s\u001b[0m 6ms/step - accuracy: 0.9353 - loss: 0.5923 - val_accuracy: 0.5000 - val_loss: 0.6917\n",
      "Epoch 6/10\n",
      "\u001b[1m20/20\u001b[0m \u001b[32m━━━━━━━━━━━━━━━━━━━━\u001b[0m\u001b[37m\u001b[0m \u001b[1m0s\u001b[0m 6ms/step - accuracy: 0.7912 - loss: 0.5221 - val_accuracy: 0.4000 - val_loss: 0.7542\n",
      "Epoch 7/10\n",
      "\u001b[1m20/20\u001b[0m \u001b[32m━━━━━━━━━━━━━━━━━━━━\u001b[0m\u001b[37m\u001b[0m \u001b[1m0s\u001b[0m 6ms/step - accuracy: 0.8968 - loss: 0.3634 - val_accuracy: 0.4000 - val_loss: 0.9062\n",
      "Epoch 8/10\n",
      "\u001b[1m20/20\u001b[0m \u001b[32m━━━━━━━━━━━━━━━━━━━━\u001b[0m\u001b[37m\u001b[0m \u001b[1m0s\u001b[0m 5ms/step - accuracy: 0.8377 - loss: 0.3254 - val_accuracy: 0.5000 - val_loss: 0.8979\n",
      "Epoch 9/10\n",
      "\u001b[1m20/20\u001b[0m \u001b[32m━━━━━━━━━━━━━━━━━━━━\u001b[0m\u001b[37m\u001b[0m \u001b[1m0s\u001b[0m 6ms/step - accuracy: 0.8954 - loss: 0.2945 - val_accuracy: 0.5000 - val_loss: 1.1770\n",
      "Epoch 10/10\n",
      "\u001b[1m20/20\u001b[0m \u001b[32m━━━━━━━━━━━━━━━━━━━━\u001b[0m\u001b[37m\u001b[0m \u001b[1m0s\u001b[0m 6ms/step - accuracy: 0.7758 - loss: 0.3419 - val_accuracy: 0.4000 - val_loss: 0.9146\n"
     ]
    },
    {
     "data": {
      "text/plain": [
       "<keras.src.callbacks.history.History at 0x2313c0989b0>"
      ]
     },
     "execution_count": 20,
     "metadata": {},
     "output_type": "execute_result"
    }
   ],
   "source": [
    "# build \n",
    "model=  Sequential()\n",
    "\n",
    "#embeding layer\n",
    "model.add(Embedding(input_dim=len(word_index)+1,output_dim=embedding_dim,weights=[embedding_matrix],input_length=max_len,trainable=False))\n",
    "\n",
    "# rnn layer \n",
    "model.add(SimpleRNN(units=50,return_sequences=False)) \n",
    "\n",
    "# output layer\n",
    "model.add(Dense(1,activation=\"sigmoid\"))\n",
    "\n",
    "# model compile \n",
    "model.compile(optimizer=\"adam\",loss=\"binary_crossentropy\",metrics=[\"accuracy\"])\n",
    "\n",
    "#train model\n",
    "model.fit(X_train,y_train,epochs=10,batch_size=2,validation_data=(X_test,y_test))  # val ile traine bölebilirdik"
   ]
  },
  {
   "cell_type": "code",
   "execution_count": 21,
   "metadata": {},
   "outputs": [
    {
     "name": "stdout",
     "output_type": "stream",
     "text": [
      "\u001b[1m1/1\u001b[0m \u001b[32m━━━━━━━━━━━━━━━━━━━━\u001b[0m\u001b[37m\u001b[0m \u001b[1m0s\u001b[0m 259ms/step - accuracy: 0.4000 - loss: 0.9146\n",
      "loss : 0.9145618677139282\n",
      "accuracy : 0.4000000059604645\n"
     ]
    }
   ],
   "source": [
    "# evaulate rnn model\n",
    "loss,accuracy=model.evaluate(X_test,y_test)\n",
    "print(f\"loss : {loss}\")\n",
    "print(f\"accuracy : {accuracy}\")"
   ]
  },
  {
   "cell_type": "code",
   "execution_count": 24,
   "metadata": {},
   "outputs": [
    {
     "name": "stdout",
     "output_type": "stream",
     "text": [
      "\u001b[1m1/1\u001b[0m \u001b[32m━━━━━━━━━━━━━━━━━━━━\u001b[0m\u001b[37m\u001b[0m \u001b[1m0s\u001b[0m 82ms/step\n",
      "Kalemin mürekkebi azalma hızı kötü lakin beğendim çok rahat kullanımı var konforlu tavsiye ederim. - cümlesi possitive şeklinde sınıflandırılmıştır\n"
     ]
    }
   ],
   "source": [
    "# working on classify new sentence\n",
    "def classify_sentence(sentence):\n",
    "    seq=tokenizer.texts_to_sequences([sentence])  # sırayla tokenlaştır-padsequences yaptıktan sonra modele sok\n",
    "    padded_seq=pad_sequences(seq,maxlen=max_len)\n",
    "    \n",
    "    prediction=model.predict(padded_seq)\n",
    "\n",
    "    pred_class=(prediction>0.5).astype(int)\n",
    "    label=\"possitive\" if pred_class[0][0]==1 else \"negative\"\n",
    "    return label\n",
    "\n",
    "\n",
    "sentence=\"Kalemin mürekkebi azalma hızı kötü lakin beğendim çok rahat kullanımı var konforlu tavsiye ederim.\"\n",
    "\n",
    "result=classify_sentence(sentence)\n",
    "print(f\"{sentence} - cümlesi {result} şeklinde sınıflandırılmıştır\")"
   ]
  }
 ],
 "metadata": {
  "kernelspec": {
   "display_name": "nlp_projects",
   "language": "python",
   "name": "python3"
  },
  "language_info": {
   "codemirror_mode": {
    "name": "ipython",
    "version": 3
   },
   "file_extension": ".py",
   "mimetype": "text/x-python",
   "name": "python",
   "nbconvert_exporter": "python",
   "pygments_lexer": "ipython3",
   "version": "3.12.9"
  }
 },
 "nbformat": 4,
 "nbformat_minor": 2
}
