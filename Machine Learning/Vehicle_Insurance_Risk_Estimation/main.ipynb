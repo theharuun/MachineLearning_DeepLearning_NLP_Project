{
 "cells": [
  {
   "cell_type": "markdown",
   "metadata": {},
   "source": [
    "# Vehicle Insurance Cost Estimation with Machine Learning\n",
    "- dataset link: https://www.kaggle.com/datasets/govindaramsriram/car-insurance-premium-dataset/data"
   ]
  },
  {
   "cell_type": "markdown",
   "metadata": {},
   "source": [
    "## Importing Libraries"
   ]
  },
  {
   "cell_type": "code",
   "execution_count": 69,
   "metadata": {},
   "outputs": [
    {
     "name": "stdout",
     "output_type": "stream",
     "text": [
      "Requirement already satisfied: xgboost in c:\\users\\harun\\appdata\\local\\programs\\python\\python312\\lib\\site-packages (3.0.0)\n",
      "Requirement already satisfied: numpy in c:\\users\\harun\\appdata\\local\\programs\\python\\python312\\lib\\site-packages (from xgboost) (2.0.2)\n",
      "Requirement already satisfied: scipy in c:\\users\\harun\\appdata\\local\\programs\\python\\python312\\lib\\site-packages (from xgboost) (1.14.1)\n"
     ]
    }
   ],
   "source": [
    "import pandas as pd\n",
    "import matplotlib.pyplot as plt\n",
    "\n",
    "\n",
    "from sklearn.preprocessing import StandardScaler\n",
    "from sklearn.metrics import mean_squared_error, mean_absolute_error, r2_score\n",
    "\n",
    "from sklearn.ensemble import RandomForestRegressor\n",
    "!pip install xgboost\n",
    "import xgboost as xg\n",
    "from xgboost import XGBRegressor"
   ]
  },
  {
   "cell_type": "markdown",
   "metadata": {},
   "source": [
    "## Load Dataset"
   ]
  },
  {
   "cell_type": "code",
   "execution_count": 23,
   "metadata": {},
   "outputs": [
    {
     "data": {
      "application/vnd.microsoft.datawrangler.viewer.v0+json": {
       "columns": [
        {
         "name": "index",
         "rawType": "int64",
         "type": "integer"
        },
        {
         "name": "Driver Age",
         "rawType": "int64",
         "type": "integer"
        },
        {
         "name": "Driver Experience",
         "rawType": "int64",
         "type": "integer"
        },
        {
         "name": "Previous Accidents",
         "rawType": "int64",
         "type": "integer"
        },
        {
         "name": "Annual Mileage (x1000 km)",
         "rawType": "int64",
         "type": "integer"
        },
        {
         "name": "Car Manufacturing Year",
         "rawType": "int64",
         "type": "integer"
        },
        {
         "name": "Car Age",
         "rawType": "int64",
         "type": "integer"
        },
        {
         "name": "Insurance Premium ($)",
         "rawType": "float64",
         "type": "float"
        }
       ],
       "conversionMethod": "pd.DataFrame",
       "ref": "fbeb70d4-5964-462b-9786-b973fafb1503",
       "rows": [
        [
         "0",
         "56",
         "32",
         "4",
         "17",
         "2002",
         "23",
         "488.35"
        ],
        [
         "1",
         "46",
         "19",
         "0",
         "21",
         "2025",
         "0",
         "486.15"
        ],
        [
         "2",
         "32",
         "11",
         "4",
         "15",
         "2020",
         "5",
         "497.55"
        ],
        [
         "3",
         "60",
         "0",
         "4",
         "19",
         "1991",
         "34",
         "498.35"
        ],
        [
         "4",
         "25",
         "7",
         "0",
         "13",
         "2005",
         "20",
         "495.55"
        ],
        [
         "5",
         "38",
         "13",
         "2",
         "11",
         "1998",
         "27",
         "494.75"
        ],
        [
         "6",
         "56",
         "37",
         "3",
         "14",
         "1998",
         "27",
         "485.6"
        ],
        [
         "7",
         "36",
         "18",
         "1",
         "19",
         "2000",
         "25",
         "492.35"
        ],
        [
         "8",
         "40",
         "10",
         "4",
         "14",
         "2011",
         "14",
         "497.1"
        ],
        [
         "9",
         "28",
         "10",
         "5",
         "12",
         "2022",
         "3",
         "499.8"
        ],
        [
         "10",
         "28",
         "10",
         "5",
         "20",
         "2025",
         "0",
         "499.9"
        ],
        [
         "11",
         "41",
         "2",
         "3",
         "24",
         "2012",
         "13",
         "498.2"
        ],
        [
         "12",
         "53",
         "32",
         "5",
         "24",
         "2023",
         "2",
         "488.7"
        ],
        [
         "13",
         "57",
         "5",
         "2",
         "15",
         "1998",
         "27",
         "493.55"
        ],
        [
         "14",
         "41",
         "9",
         "5",
         "13",
         "2013",
         "12",
         "498.45"
        ],
        [
         "15",
         "20",
         "2",
         "1",
         "23",
         "1997",
         "28",
         "500.85"
        ],
        [
         "16",
         "39",
         "21",
         "1",
         "22",
         "1996",
         "29",
         "491.4"
        ],
        [
         "17",
         "19",
         "1",
         "4",
         "23",
         "2025",
         "0",
         "503.05"
        ],
        [
         "18",
         "41",
         "1",
         "0",
         "19",
         "2007",
         "18",
         "494.25"
        ],
        [
         "19",
         "61",
         "12",
         "2",
         "14",
         "1992",
         "33",
         "491.2"
        ],
        [
         "20",
         "47",
         "29",
         "4",
         "16",
         "2017",
         "8",
         "489.5"
        ],
        [
         "21",
         "55",
         "1",
         "2",
         "12",
         "1995",
         "30",
         "495.3"
        ],
        [
         "22",
         "19",
         "1",
         "0",
         "16",
         "2010",
         "15",
         "498.2"
        ],
        [
         "23",
         "38",
         "0",
         "5",
         "13",
         "2017",
         "8",
         "501.35"
        ],
        [
         "24",
         "50",
         "32",
         "5",
         "22",
         "1990",
         "35",
         "492.5"
        ],
        [
         "25",
         "29",
         "8",
         "0",
         "22",
         "2025",
         "0",
         "492.9"
        ],
        [
         "26",
         "39",
         "16",
         "4",
         "19",
         "2010",
         "15",
         "495.85"
        ],
        [
         "27",
         "61",
         "8",
         "0",
         "21",
         "2024",
         "1",
         "486.55"
        ],
        [
         "28",
         "42",
         "10",
         "3",
         "12",
         "2002",
         "23",
         "496.0"
        ],
        [
         "29",
         "44",
         "14",
         "1",
         "25",
         "1999",
         "26",
         "492.35"
        ],
        [
         "30",
         "59",
         "23",
         "4",
         "22",
         "1999",
         "26",
         "491.0"
        ],
        [
         "31",
         "45",
         "27",
         "2",
         "22",
         "2002",
         "23",
         "489.3"
        ],
        [
         "32",
         "33",
         "15",
         "3",
         "19",
         "2013",
         "12",
         "495.55"
        ],
        [
         "33",
         "32",
         "14",
         "4",
         "15",
         "1991",
         "34",
         "499.55"
        ],
        [
         "34",
         "64",
         "30",
         "0",
         "18",
         "2011",
         "14",
         "480.5"
        ],
        [
         "35",
         "61",
         "4",
         "0",
         "12",
         "2006",
         "19",
         "489.1"
        ],
        [
         "36",
         "20",
         "2",
         "0",
         "16",
         "2025",
         "0",
         "496.2"
        ],
        [
         "37",
         "54",
         "10",
         "0",
         "13",
         "2003",
         "22",
         "489.05"
        ],
        [
         "38",
         "24",
         "6",
         "2",
         "22",
         "1999",
         "26",
         "500.1"
        ],
        [
         "39",
         "38",
         "20",
         "3",
         "22",
         "2024",
         "1",
         "492.1"
        ],
        [
         "40",
         "26",
         "8",
         "5",
         "24",
         "2014",
         "11",
         "502.2"
        ],
        [
         "41",
         "56",
         "34",
         "1",
         "20",
         "1992",
         "33",
         "484.4"
        ],
        [
         "42",
         "35",
         "17",
         "2",
         "15",
         "2006",
         "19",
         "493.55"
        ],
        [
         "43",
         "21",
         "0",
         "2",
         "22",
         "2001",
         "24",
         "502.3"
        ],
        [
         "44",
         "42",
         "24",
         "5",
         "18",
         "2013",
         "12",
         "494.0"
        ],
        [
         "45",
         "31",
         "13",
         "5",
         "20",
         "2018",
         "7",
         "499.1"
        ],
        [
         "46",
         "26",
         "8",
         "1",
         "24",
         "2014",
         "11",
         "496.2"
        ],
        [
         "47",
         "43",
         "7",
         "1",
         "11",
         "2025",
         "0",
         "491.35"
        ],
        [
         "48",
         "19",
         "1",
         "5",
         "15",
         "2015",
         "10",
         "505.15"
        ],
        [
         "49",
         "37",
         "19",
         "0",
         "13",
         "1990",
         "35",
         "491.05"
        ]
       ],
       "shape": {
        "columns": 7,
        "rows": 1000
       }
      },
      "text/html": [
       "<div>\n",
       "<style scoped>\n",
       "    .dataframe tbody tr th:only-of-type {\n",
       "        vertical-align: middle;\n",
       "    }\n",
       "\n",
       "    .dataframe tbody tr th {\n",
       "        vertical-align: top;\n",
       "    }\n",
       "\n",
       "    .dataframe thead th {\n",
       "        text-align: right;\n",
       "    }\n",
       "</style>\n",
       "<table border=\"1\" class=\"dataframe\">\n",
       "  <thead>\n",
       "    <tr style=\"text-align: right;\">\n",
       "      <th></th>\n",
       "      <th>Driver Age</th>\n",
       "      <th>Driver Experience</th>\n",
       "      <th>Previous Accidents</th>\n",
       "      <th>Annual Mileage (x1000 km)</th>\n",
       "      <th>Car Manufacturing Year</th>\n",
       "      <th>Car Age</th>\n",
       "      <th>Insurance Premium ($)</th>\n",
       "    </tr>\n",
       "  </thead>\n",
       "  <tbody>\n",
       "    <tr>\n",
       "      <th>0</th>\n",
       "      <td>56</td>\n",
       "      <td>32</td>\n",
       "      <td>4</td>\n",
       "      <td>17</td>\n",
       "      <td>2002</td>\n",
       "      <td>23</td>\n",
       "      <td>488.35</td>\n",
       "    </tr>\n",
       "    <tr>\n",
       "      <th>1</th>\n",
       "      <td>46</td>\n",
       "      <td>19</td>\n",
       "      <td>0</td>\n",
       "      <td>21</td>\n",
       "      <td>2025</td>\n",
       "      <td>0</td>\n",
       "      <td>486.15</td>\n",
       "    </tr>\n",
       "    <tr>\n",
       "      <th>2</th>\n",
       "      <td>32</td>\n",
       "      <td>11</td>\n",
       "      <td>4</td>\n",
       "      <td>15</td>\n",
       "      <td>2020</td>\n",
       "      <td>5</td>\n",
       "      <td>497.55</td>\n",
       "    </tr>\n",
       "    <tr>\n",
       "      <th>3</th>\n",
       "      <td>60</td>\n",
       "      <td>0</td>\n",
       "      <td>4</td>\n",
       "      <td>19</td>\n",
       "      <td>1991</td>\n",
       "      <td>34</td>\n",
       "      <td>498.35</td>\n",
       "    </tr>\n",
       "    <tr>\n",
       "      <th>4</th>\n",
       "      <td>25</td>\n",
       "      <td>7</td>\n",
       "      <td>0</td>\n",
       "      <td>13</td>\n",
       "      <td>2005</td>\n",
       "      <td>20</td>\n",
       "      <td>495.55</td>\n",
       "    </tr>\n",
       "    <tr>\n",
       "      <th>...</th>\n",
       "      <td>...</td>\n",
       "      <td>...</td>\n",
       "      <td>...</td>\n",
       "      <td>...</td>\n",
       "      <td>...</td>\n",
       "      <td>...</td>\n",
       "      <td>...</td>\n",
       "    </tr>\n",
       "    <tr>\n",
       "      <th>995</th>\n",
       "      <td>23</td>\n",
       "      <td>5</td>\n",
       "      <td>3</td>\n",
       "      <td>22</td>\n",
       "      <td>2020</td>\n",
       "      <td>5</td>\n",
       "      <td>500.00</td>\n",
       "    </tr>\n",
       "    <tr>\n",
       "      <th>996</th>\n",
       "      <td>43</td>\n",
       "      <td>8</td>\n",
       "      <td>3</td>\n",
       "      <td>17</td>\n",
       "      <td>2023</td>\n",
       "      <td>2</td>\n",
       "      <td>494.55</td>\n",
       "    </tr>\n",
       "    <tr>\n",
       "      <th>997</th>\n",
       "      <td>21</td>\n",
       "      <td>3</td>\n",
       "      <td>5</td>\n",
       "      <td>19</td>\n",
       "      <td>1998</td>\n",
       "      <td>27</td>\n",
       "      <td>506.05</td>\n",
       "    </tr>\n",
       "    <tr>\n",
       "      <th>998</th>\n",
       "      <td>36</td>\n",
       "      <td>18</td>\n",
       "      <td>1</td>\n",
       "      <td>23</td>\n",
       "      <td>2011</td>\n",
       "      <td>14</td>\n",
       "      <td>491.45</td>\n",
       "    </tr>\n",
       "    <tr>\n",
       "      <th>999</th>\n",
       "      <td>37</td>\n",
       "      <td>19</td>\n",
       "      <td>2</td>\n",
       "      <td>12</td>\n",
       "      <td>2002</td>\n",
       "      <td>23</td>\n",
       "      <td>492.80</td>\n",
       "    </tr>\n",
       "  </tbody>\n",
       "</table>\n",
       "<p>1000 rows × 7 columns</p>\n",
       "</div>"
      ],
      "text/plain": [
       "     Driver Age  Driver Experience  ...  Car Age  Insurance Premium ($)\n",
       "0            56                 32  ...       23                 488.35\n",
       "1            46                 19  ...        0                 486.15\n",
       "2            32                 11  ...        5                 497.55\n",
       "3            60                  0  ...       34                 498.35\n",
       "4            25                  7  ...       20                 495.55\n",
       "..          ...                ...  ...      ...                    ...\n",
       "995          23                  5  ...        5                 500.00\n",
       "996          43                  8  ...        2                 494.55\n",
       "997          21                  3  ...       27                 506.05\n",
       "998          36                 18  ...       14                 491.45\n",
       "999          37                 19  ...       23                 492.80\n",
       "\n",
       "[1000 rows x 7 columns]"
      ]
     },
     "execution_count": 23,
     "metadata": {},
     "output_type": "execute_result"
    }
   ],
   "source": [
    "train_df=pd.read_csv(\"car_insurance_premium_dataset.csv\")\n",
    "test_df=pd.read_csv(\"car_insurance_premium_dataset_TEST.csv\")\n",
    "\n",
    "train_df"
   ]
  },
  {
   "cell_type": "markdown",
   "metadata": {},
   "source": [
    "## Preprocessing"
   ]
  },
  {
   "cell_type": "code",
   "execution_count": 24,
   "metadata": {},
   "outputs": [
    {
     "name": "stdout",
     "output_type": "stream",
     "text": [
      "<class 'pandas.core.frame.DataFrame'>\n",
      "RangeIndex: 1000 entries, 0 to 999\n",
      "Data columns (total 7 columns):\n",
      " #   Column                     Non-Null Count  Dtype  \n",
      "---  ------                     --------------  -----  \n",
      " 0   Driver Age                 1000 non-null   int64  \n",
      " 1   Driver Experience          1000 non-null   int64  \n",
      " 2   Previous Accidents         1000 non-null   int64  \n",
      " 3   Annual Mileage (x1000 km)  1000 non-null   int64  \n",
      " 4   Car Manufacturing Year     1000 non-null   int64  \n",
      " 5   Car Age                    1000 non-null   int64  \n",
      " 6   Insurance Premium ($)      1000 non-null   float64\n",
      "dtypes: float64(1), int64(6)\n",
      "memory usage: 54.8 KB\n",
      "None\n",
      "<class 'pandas.core.frame.DataFrame'>\n",
      "RangeIndex: 100 entries, 0 to 99\n",
      "Data columns (total 7 columns):\n",
      " #   Column                     Non-Null Count  Dtype  \n",
      "---  ------                     --------------  -----  \n",
      " 0   Driver Age                 100 non-null    int64  \n",
      " 1   Driver Experience          100 non-null    int64  \n",
      " 2   Previous Accidents         100 non-null    int64  \n",
      " 3   Annual Mileage (x1000 km)  100 non-null    int64  \n",
      " 4   Car Manufacturing Year     100 non-null    int64  \n",
      " 5   Car Age                    100 non-null    int64  \n",
      " 6   Insurance Premium ($)      100 non-null    float64\n",
      "dtypes: float64(1), int64(6)\n",
      "memory usage: 5.6 KB\n",
      "None\n"
     ]
    }
   ],
   "source": [
    "print(train_df.info())\n",
    "print(test_df.info())"
   ]
  },
  {
   "cell_type": "code",
   "execution_count": 25,
   "metadata": {},
   "outputs": [
    {
     "data": {
      "text/plain": [
       "Previous Accidents\n",
       "3    185\n",
       "4    176\n",
       "1    171\n",
       "5    170\n",
       "0    154\n",
       "2    144\n",
       "Name: count, dtype: int64"
      ]
     },
     "execution_count": 25,
     "metadata": {},
     "output_type": "execute_result"
    }
   ],
   "source": [
    "# we looked the others but we didnt write again.\n",
    "train_df[\"Previous Accidents\"].value_counts() "
   ]
  },
  {
   "cell_type": "code",
   "execution_count": 26,
   "metadata": {},
   "outputs": [
    {
     "data": {
      "application/vnd.microsoft.datawrangler.viewer.v0+json": {
       "columns": [
        {
         "name": "index",
         "rawType": "object",
         "type": "string"
        },
        {
         "name": "Driver Age",
         "rawType": "float64",
         "type": "float"
        },
        {
         "name": "Driver Experience",
         "rawType": "float64",
         "type": "float"
        },
        {
         "name": "Previous Accidents",
         "rawType": "float64",
         "type": "float"
        },
        {
         "name": "Annual Mileage (x1000 km)",
         "rawType": "float64",
         "type": "float"
        },
        {
         "name": "Car Manufacturing Year",
         "rawType": "float64",
         "type": "float"
        },
        {
         "name": "Car Age",
         "rawType": "float64",
         "type": "float"
        },
        {
         "name": "Insurance Premium ($)",
         "rawType": "float64",
         "type": "float"
        }
       ],
       "conversionMethod": "pd.DataFrame",
       "ref": "13cf2e1f-848b-47be-a0e6-628acf1ec375",
       "rows": [
        [
         "Driver Age",
         "1.0",
         "0.6078899088111712",
         "0.031819371094120905",
         "0.05682170992735551",
         "0.008186646995467438",
         "-0.00818664699546716",
         "-0.7768483315311152"
        ],
        [
         "Driver Experience",
         "0.6078899088111712",
         "1.0",
         "0.020836635050217656",
         "-0.014423912737992355",
         "-0.03819441923474656",
         "0.03819441923474513",
         "-0.803323242458085"
        ],
        [
         "Previous Accidents",
         "0.031819371094120905",
         "0.020836635050217656",
         "1.0",
         "0.007087565020557507",
         "-0.030122590356658378",
         "0.030122590356658038",
         "0.4107855995691297"
        ],
        [
         "Annual Mileage (x1000 km)",
         "0.05682170992735551",
         "-0.014423912737992355",
         "0.007087565020557507",
         "1.0",
         "-0.002897742906952772",
         "0.0028977429069524216",
         "0.022130942810746384"
        ],
        [
         "Car Manufacturing Year",
         "0.008186646995467438",
         "-0.03819441923474656",
         "-0.030122590356658378",
         "-0.002897742906952772",
         "1.0",
         "-1.000000000000001",
         "-0.17182867618496805"
        ],
        [
         "Car Age",
         "-0.00818664699546716",
         "0.03819441923474513",
         "0.030122590356658038",
         "0.0028977429069524216",
         "-1.000000000000001",
         "1.0",
         "0.1718286761849684"
        ],
        [
         "Insurance Premium ($)",
         "-0.7768483315311152",
         "-0.803323242458085",
         "0.4107855995691297",
         "0.022130942810746384",
         "-0.17182867618496805",
         "0.1718286761849684",
         "1.0"
        ]
       ],
       "shape": {
        "columns": 7,
        "rows": 7
       }
      },
      "text/html": [
       "<div>\n",
       "<style scoped>\n",
       "    .dataframe tbody tr th:only-of-type {\n",
       "        vertical-align: middle;\n",
       "    }\n",
       "\n",
       "    .dataframe tbody tr th {\n",
       "        vertical-align: top;\n",
       "    }\n",
       "\n",
       "    .dataframe thead th {\n",
       "        text-align: right;\n",
       "    }\n",
       "</style>\n",
       "<table border=\"1\" class=\"dataframe\">\n",
       "  <thead>\n",
       "    <tr style=\"text-align: right;\">\n",
       "      <th></th>\n",
       "      <th>Driver Age</th>\n",
       "      <th>Driver Experience</th>\n",
       "      <th>Previous Accidents</th>\n",
       "      <th>Annual Mileage (x1000 km)</th>\n",
       "      <th>Car Manufacturing Year</th>\n",
       "      <th>Car Age</th>\n",
       "      <th>Insurance Premium ($)</th>\n",
       "    </tr>\n",
       "  </thead>\n",
       "  <tbody>\n",
       "    <tr>\n",
       "      <th>Driver Age</th>\n",
       "      <td>1.000000</td>\n",
       "      <td>0.607890</td>\n",
       "      <td>0.031819</td>\n",
       "      <td>0.056822</td>\n",
       "      <td>0.008187</td>\n",
       "      <td>-0.008187</td>\n",
       "      <td>-0.776848</td>\n",
       "    </tr>\n",
       "    <tr>\n",
       "      <th>Driver Experience</th>\n",
       "      <td>0.607890</td>\n",
       "      <td>1.000000</td>\n",
       "      <td>0.020837</td>\n",
       "      <td>-0.014424</td>\n",
       "      <td>-0.038194</td>\n",
       "      <td>0.038194</td>\n",
       "      <td>-0.803323</td>\n",
       "    </tr>\n",
       "    <tr>\n",
       "      <th>Previous Accidents</th>\n",
       "      <td>0.031819</td>\n",
       "      <td>0.020837</td>\n",
       "      <td>1.000000</td>\n",
       "      <td>0.007088</td>\n",
       "      <td>-0.030123</td>\n",
       "      <td>0.030123</td>\n",
       "      <td>0.410786</td>\n",
       "    </tr>\n",
       "    <tr>\n",
       "      <th>Annual Mileage (x1000 km)</th>\n",
       "      <td>0.056822</td>\n",
       "      <td>-0.014424</td>\n",
       "      <td>0.007088</td>\n",
       "      <td>1.000000</td>\n",
       "      <td>-0.002898</td>\n",
       "      <td>0.002898</td>\n",
       "      <td>0.022131</td>\n",
       "    </tr>\n",
       "    <tr>\n",
       "      <th>Car Manufacturing Year</th>\n",
       "      <td>0.008187</td>\n",
       "      <td>-0.038194</td>\n",
       "      <td>-0.030123</td>\n",
       "      <td>-0.002898</td>\n",
       "      <td>1.000000</td>\n",
       "      <td>-1.000000</td>\n",
       "      <td>-0.171829</td>\n",
       "    </tr>\n",
       "    <tr>\n",
       "      <th>Car Age</th>\n",
       "      <td>-0.008187</td>\n",
       "      <td>0.038194</td>\n",
       "      <td>0.030123</td>\n",
       "      <td>0.002898</td>\n",
       "      <td>-1.000000</td>\n",
       "      <td>1.000000</td>\n",
       "      <td>0.171829</td>\n",
       "    </tr>\n",
       "    <tr>\n",
       "      <th>Insurance Premium ($)</th>\n",
       "      <td>-0.776848</td>\n",
       "      <td>-0.803323</td>\n",
       "      <td>0.410786</td>\n",
       "      <td>0.022131</td>\n",
       "      <td>-0.171829</td>\n",
       "      <td>0.171829</td>\n",
       "      <td>1.000000</td>\n",
       "    </tr>\n",
       "  </tbody>\n",
       "</table>\n",
       "</div>"
      ],
      "text/plain": [
       "                           Driver Age  ...  Insurance Premium ($)\n",
       "Driver Age                   1.000000  ...              -0.776848\n",
       "Driver Experience            0.607890  ...              -0.803323\n",
       "Previous Accidents           0.031819  ...               0.410786\n",
       "Annual Mileage (x1000 km)    0.056822  ...               0.022131\n",
       "Car Manufacturing Year       0.008187  ...              -0.171829\n",
       "Car Age                     -0.008187  ...               0.171829\n",
       "Insurance Premium ($)       -0.776848  ...               1.000000\n",
       "\n",
       "[7 rows x 7 columns]"
      ]
     },
     "execution_count": 26,
     "metadata": {},
     "output_type": "execute_result"
    }
   ],
   "source": [
    "train_df.corr()"
   ]
  },
  {
   "cell_type": "markdown",
   "metadata": {},
   "source": [
    "## Train-test-split"
   ]
  },
  {
   "cell_type": "code",
   "execution_count": 41,
   "metadata": {},
   "outputs": [],
   "source": [
    "X_train=train_df.iloc[:, :-1]\n",
    "X_test=test_df.iloc[:, :-1]\n",
    "y_train=train_df.iloc[:, -1]\n",
    "y_test=test_df.iloc[:, -1]\n"
   ]
  },
  {
   "cell_type": "markdown",
   "metadata": {},
   "source": [
    "## Standardization"
   ]
  },
  {
   "cell_type": "code",
   "execution_count": 42,
   "metadata": {},
   "outputs": [
    {
     "data": {
      "application/vnd.microsoft.datawrangler.viewer.v0+json": {
       "columns": [
        {
         "name": "index",
         "rawType": "int64",
         "type": "integer"
        },
        {
         "name": "Driver Age",
         "rawType": "int64",
         "type": "integer"
        },
        {
         "name": "Driver Experience",
         "rawType": "int64",
         "type": "integer"
        },
        {
         "name": "Previous Accidents",
         "rawType": "int64",
         "type": "integer"
        },
        {
         "name": "Annual Mileage (x1000 km)",
         "rawType": "int64",
         "type": "integer"
        },
        {
         "name": "Car Manufacturing Year",
         "rawType": "int64",
         "type": "integer"
        },
        {
         "name": "Car Age",
         "rawType": "int64",
         "type": "integer"
        }
       ],
       "conversionMethod": "pd.DataFrame",
       "ref": "f735756f-e225-4076-bf79-21525eab667a",
       "rows": [
        [
         "0",
         "56",
         "32",
         "4",
         "17",
         "2002",
         "23"
        ],
        [
         "1",
         "46",
         "19",
         "0",
         "21",
         "2025",
         "0"
        ],
        [
         "2",
         "32",
         "11",
         "4",
         "15",
         "2020",
         "5"
        ],
        [
         "3",
         "60",
         "0",
         "4",
         "19",
         "1991",
         "34"
        ],
        [
         "4",
         "25",
         "7",
         "0",
         "13",
         "2005",
         "20"
        ],
        [
         "5",
         "38",
         "13",
         "2",
         "11",
         "1998",
         "27"
        ],
        [
         "6",
         "56",
         "37",
         "3",
         "14",
         "1998",
         "27"
        ],
        [
         "7",
         "36",
         "18",
         "1",
         "19",
         "2000",
         "25"
        ],
        [
         "8",
         "40",
         "10",
         "4",
         "14",
         "2011",
         "14"
        ],
        [
         "9",
         "28",
         "10",
         "5",
         "12",
         "2022",
         "3"
        ],
        [
         "10",
         "28",
         "10",
         "5",
         "20",
         "2025",
         "0"
        ],
        [
         "11",
         "41",
         "2",
         "3",
         "24",
         "2012",
         "13"
        ],
        [
         "12",
         "53",
         "32",
         "5",
         "24",
         "2023",
         "2"
        ],
        [
         "13",
         "57",
         "5",
         "2",
         "15",
         "1998",
         "27"
        ],
        [
         "14",
         "41",
         "9",
         "5",
         "13",
         "2013",
         "12"
        ],
        [
         "15",
         "20",
         "2",
         "1",
         "23",
         "1997",
         "28"
        ],
        [
         "16",
         "39",
         "21",
         "1",
         "22",
         "1996",
         "29"
        ],
        [
         "17",
         "19",
         "1",
         "4",
         "23",
         "2025",
         "0"
        ],
        [
         "18",
         "41",
         "1",
         "0",
         "19",
         "2007",
         "18"
        ],
        [
         "19",
         "61",
         "12",
         "2",
         "14",
         "1992",
         "33"
        ],
        [
         "20",
         "47",
         "29",
         "4",
         "16",
         "2017",
         "8"
        ],
        [
         "21",
         "55",
         "1",
         "2",
         "12",
         "1995",
         "30"
        ],
        [
         "22",
         "19",
         "1",
         "0",
         "16",
         "2010",
         "15"
        ],
        [
         "23",
         "38",
         "0",
         "5",
         "13",
         "2017",
         "8"
        ],
        [
         "24",
         "50",
         "32",
         "5",
         "22",
         "1990",
         "35"
        ],
        [
         "25",
         "29",
         "8",
         "0",
         "22",
         "2025",
         "0"
        ],
        [
         "26",
         "39",
         "16",
         "4",
         "19",
         "2010",
         "15"
        ],
        [
         "27",
         "61",
         "8",
         "0",
         "21",
         "2024",
         "1"
        ],
        [
         "28",
         "42",
         "10",
         "3",
         "12",
         "2002",
         "23"
        ],
        [
         "29",
         "44",
         "14",
         "1",
         "25",
         "1999",
         "26"
        ],
        [
         "30",
         "59",
         "23",
         "4",
         "22",
         "1999",
         "26"
        ],
        [
         "31",
         "45",
         "27",
         "2",
         "22",
         "2002",
         "23"
        ],
        [
         "32",
         "33",
         "15",
         "3",
         "19",
         "2013",
         "12"
        ],
        [
         "33",
         "32",
         "14",
         "4",
         "15",
         "1991",
         "34"
        ],
        [
         "34",
         "64",
         "30",
         "0",
         "18",
         "2011",
         "14"
        ],
        [
         "35",
         "61",
         "4",
         "0",
         "12",
         "2006",
         "19"
        ],
        [
         "36",
         "20",
         "2",
         "0",
         "16",
         "2025",
         "0"
        ],
        [
         "37",
         "54",
         "10",
         "0",
         "13",
         "2003",
         "22"
        ],
        [
         "38",
         "24",
         "6",
         "2",
         "22",
         "1999",
         "26"
        ],
        [
         "39",
         "38",
         "20",
         "3",
         "22",
         "2024",
         "1"
        ],
        [
         "40",
         "26",
         "8",
         "5",
         "24",
         "2014",
         "11"
        ],
        [
         "41",
         "56",
         "34",
         "1",
         "20",
         "1992",
         "33"
        ],
        [
         "42",
         "35",
         "17",
         "2",
         "15",
         "2006",
         "19"
        ],
        [
         "43",
         "21",
         "0",
         "2",
         "22",
         "2001",
         "24"
        ],
        [
         "44",
         "42",
         "24",
         "5",
         "18",
         "2013",
         "12"
        ],
        [
         "45",
         "31",
         "13",
         "5",
         "20",
         "2018",
         "7"
        ],
        [
         "46",
         "26",
         "8",
         "1",
         "24",
         "2014",
         "11"
        ],
        [
         "47",
         "43",
         "7",
         "1",
         "11",
         "2025",
         "0"
        ],
        [
         "48",
         "19",
         "1",
         "5",
         "15",
         "2015",
         "10"
        ],
        [
         "49",
         "37",
         "19",
         "0",
         "13",
         "1990",
         "35"
        ]
       ],
       "shape": {
        "columns": 6,
        "rows": 1000
       }
      },
      "text/html": [
       "<div>\n",
       "<style scoped>\n",
       "    .dataframe tbody tr th:only-of-type {\n",
       "        vertical-align: middle;\n",
       "    }\n",
       "\n",
       "    .dataframe tbody tr th {\n",
       "        vertical-align: top;\n",
       "    }\n",
       "\n",
       "    .dataframe thead th {\n",
       "        text-align: right;\n",
       "    }\n",
       "</style>\n",
       "<table border=\"1\" class=\"dataframe\">\n",
       "  <thead>\n",
       "    <tr style=\"text-align: right;\">\n",
       "      <th></th>\n",
       "      <th>Driver Age</th>\n",
       "      <th>Driver Experience</th>\n",
       "      <th>Previous Accidents</th>\n",
       "      <th>Annual Mileage (x1000 km)</th>\n",
       "      <th>Car Manufacturing Year</th>\n",
       "      <th>Car Age</th>\n",
       "    </tr>\n",
       "  </thead>\n",
       "  <tbody>\n",
       "    <tr>\n",
       "      <th>0</th>\n",
       "      <td>56</td>\n",
       "      <td>32</td>\n",
       "      <td>4</td>\n",
       "      <td>17</td>\n",
       "      <td>2002</td>\n",
       "      <td>23</td>\n",
       "    </tr>\n",
       "    <tr>\n",
       "      <th>1</th>\n",
       "      <td>46</td>\n",
       "      <td>19</td>\n",
       "      <td>0</td>\n",
       "      <td>21</td>\n",
       "      <td>2025</td>\n",
       "      <td>0</td>\n",
       "    </tr>\n",
       "    <tr>\n",
       "      <th>2</th>\n",
       "      <td>32</td>\n",
       "      <td>11</td>\n",
       "      <td>4</td>\n",
       "      <td>15</td>\n",
       "      <td>2020</td>\n",
       "      <td>5</td>\n",
       "    </tr>\n",
       "    <tr>\n",
       "      <th>3</th>\n",
       "      <td>60</td>\n",
       "      <td>0</td>\n",
       "      <td>4</td>\n",
       "      <td>19</td>\n",
       "      <td>1991</td>\n",
       "      <td>34</td>\n",
       "    </tr>\n",
       "    <tr>\n",
       "      <th>4</th>\n",
       "      <td>25</td>\n",
       "      <td>7</td>\n",
       "      <td>0</td>\n",
       "      <td>13</td>\n",
       "      <td>2005</td>\n",
       "      <td>20</td>\n",
       "    </tr>\n",
       "    <tr>\n",
       "      <th>...</th>\n",
       "      <td>...</td>\n",
       "      <td>...</td>\n",
       "      <td>...</td>\n",
       "      <td>...</td>\n",
       "      <td>...</td>\n",
       "      <td>...</td>\n",
       "    </tr>\n",
       "    <tr>\n",
       "      <th>995</th>\n",
       "      <td>23</td>\n",
       "      <td>5</td>\n",
       "      <td>3</td>\n",
       "      <td>22</td>\n",
       "      <td>2020</td>\n",
       "      <td>5</td>\n",
       "    </tr>\n",
       "    <tr>\n",
       "      <th>996</th>\n",
       "      <td>43</td>\n",
       "      <td>8</td>\n",
       "      <td>3</td>\n",
       "      <td>17</td>\n",
       "      <td>2023</td>\n",
       "      <td>2</td>\n",
       "    </tr>\n",
       "    <tr>\n",
       "      <th>997</th>\n",
       "      <td>21</td>\n",
       "      <td>3</td>\n",
       "      <td>5</td>\n",
       "      <td>19</td>\n",
       "      <td>1998</td>\n",
       "      <td>27</td>\n",
       "    </tr>\n",
       "    <tr>\n",
       "      <th>998</th>\n",
       "      <td>36</td>\n",
       "      <td>18</td>\n",
       "      <td>1</td>\n",
       "      <td>23</td>\n",
       "      <td>2011</td>\n",
       "      <td>14</td>\n",
       "    </tr>\n",
       "    <tr>\n",
       "      <th>999</th>\n",
       "      <td>37</td>\n",
       "      <td>19</td>\n",
       "      <td>2</td>\n",
       "      <td>12</td>\n",
       "      <td>2002</td>\n",
       "      <td>23</td>\n",
       "    </tr>\n",
       "  </tbody>\n",
       "</table>\n",
       "<p>1000 rows × 6 columns</p>\n",
       "</div>"
      ],
      "text/plain": [
       "     Driver Age  Driver Experience  ...  Car Manufacturing Year  Car Age\n",
       "0            56                 32  ...                    2002       23\n",
       "1            46                 19  ...                    2025        0\n",
       "2            32                 11  ...                    2020        5\n",
       "3            60                  0  ...                    1991       34\n",
       "4            25                  7  ...                    2005       20\n",
       "..          ...                ...  ...                     ...      ...\n",
       "995          23                  5  ...                    2020        5\n",
       "996          43                  8  ...                    2023        2\n",
       "997          21                  3  ...                    1998       27\n",
       "998          36                 18  ...                    2011       14\n",
       "999          37                 19  ...                    2002       23\n",
       "\n",
       "[1000 rows x 6 columns]"
      ]
     },
     "execution_count": 42,
     "metadata": {},
     "output_type": "execute_result"
    }
   ],
   "source": [
    "X_train"
   ]
  },
  {
   "cell_type": "code",
   "execution_count": 43,
   "metadata": {},
   "outputs": [
    {
     "data": {
      "text/plain": [
       "array([[ 1.04842048,  1.63592078,  0.84331996, -0.21163858, -0.54420925,\n",
       "         0.54420925],\n",
       "       [ 0.32161252,  0.40240937, -1.51232238,  0.69570795,  1.6762649 ,\n",
       "        -1.6762649 ],\n",
       "       [-0.69591862, -0.35667457,  0.84331996, -0.66531184,  1.19355313,\n",
       "        -1.19355313],\n",
       "       ...,\n",
       "       [-1.49540738, -1.11575851,  1.43223054,  0.24203469, -0.93037867,\n",
       "         0.93037867],\n",
       "       [-0.40519544,  0.30752388, -0.9234118 ,  1.14938122,  0.32467194,\n",
       "        -0.32467194],\n",
       "       [-0.33251464,  0.40240937, -0.33450121, -1.34582174, -0.54420925,\n",
       "         0.54420925]])"
      ]
     },
     "execution_count": 43,
     "metadata": {},
     "output_type": "execute_result"
    }
   ],
   "source": [
    "scaler=StandardScaler()\n",
    "X_train=scaler.fit_transform(X_train)\n",
    "X_test=scaler.fit_transform(X_test)\n",
    "X_train"
   ]
  },
  {
   "cell_type": "markdown",
   "metadata": {},
   "source": [
    "## Model create : RANDOM FOREST REGRESSOR"
   ]
  },
  {
   "cell_type": "code",
   "execution_count": 46,
   "metadata": {},
   "outputs": [],
   "source": [
    "rfr=RandomForestRegressor(n_estimators=50,random_state=42)\n",
    "model=rfr.fit(X_train,y_train)"
   ]
  },
  {
   "cell_type": "markdown",
   "metadata": {},
   "source": [
    "## Model Performance Evaluation : RANDOM FOREST REGRESSOR"
   ]
  },
  {
   "cell_type": "code",
   "execution_count": 52,
   "metadata": {},
   "outputs": [
    {
     "name": "stdout",
     "output_type": "stream",
     "text": [
      "MSE: 0.7140707699999862\n",
      "MAE: 0.6563099999999997\n",
      "R2 Score: 0.978239019702219\n"
     ]
    }
   ],
   "source": [
    "y_pred = model.predict(X_test)\n",
    "\n",
    "print(\"MSE:\", mean_squared_error(y_test, y_pred))\n",
    "print(\"MAE:\", mean_absolute_error(y_test, y_pred))\n",
    "print(\"R2 Score:\", r2_score(y_test, y_pred))\n"
   ]
  },
  {
   "cell_type": "code",
   "execution_count": 48,
   "metadata": {},
   "outputs": [
    {
     "data": {
      "image/png": "[encoded data removed]",
      "text/plain": [
       "<Figure size 1000x600 with 1 Axes>"
      ]
     },
     "metadata": {},
     "output_type": "display_data"
    }
   ],
   "source": [
    "# Tahmin yap\n",
    "y_pred = model.predict(X_test)\n",
    "\n",
    "# Görselleştirme\n",
    "plt.figure(figsize=(10, 6))\n",
    "plt.scatter(y_test, y_pred, color='blue', label='Tahmin Edilen Değerler')  # Gerçek vs Tahmin\n",
    "plt.plot(y_test, y_test, color='red', linewidth=2, label='Doğrusal Çizgi')  # Mükemmel Doğrusal Çizgi\n",
    "plt.xlabel('Gerçek fiyatlar')\n",
    "plt.ylabel('Tahmin Edilen fiyatlar')\n",
    "plt.title('random forest Regression Tahmin Sonuçları')\n",
    "plt.legend()\n",
    "plt.grid(True)\n",
    "plt.show()"
   ]
  },
  {
   "cell_type": "markdown",
   "metadata": {},
   "source": [
    "## Prediction :: RANDOM FOREST REGRESSOR"
   ]
  },
  {
   "cell_type": "code",
   "execution_count": 65,
   "metadata": {},
   "outputs": [
    {
     "data": {
      "text/plain": [
       "array([494.349])"
      ]
     },
     "execution_count": 65,
     "metadata": {},
     "output_type": "execute_result"
    }
   ],
   "source": [
    "example=[[22,2,0,10,2021,4]]\n",
    "example=scaler.fit_transform(example)\n",
    "y_pred2 = model.predict(example)\n",
    "y_pred2"
   ]
  },
  {
   "cell_type": "markdown",
   "metadata": {},
   "source": [
    "## Model Create : XGBOOST REGRESSOR"
   ]
  },
  {
   "cell_type": "code",
   "execution_count": 70,
   "metadata": {},
   "outputs": [
    {
     "data": {
      "text/html": [
       "<style>#sk-container-id-3 {\n",
       "  /* Definition of color scheme common for light and dark mode */\n",
       "  --sklearn-color-text: black;\n",
       "  --sklearn-color-line: gray;\n",
       "  /* Definition of color scheme for unfitted estimators */\n",
       "  --sklearn-color-unfitted-level-0: #fff5e6;\n",
       "  --sklearn-color-unfitted-level-1: #f6e4d2;\n",
       "  --sklearn-color-unfitted-level-2: #ffe0b3;\n",
       "  --sklearn-color-unfitted-level-3: chocolate;\n",
       "  /* Definition of color scheme for fitted estimators */\n",
       "  --sklearn-color-fitted-level-0: #f0f8ff;\n",
       "  --sklearn-color-fitted-level-1: #d4ebff;\n",
       "  --sklearn-color-fitted-level-2: #b3dbfd;\n",
       "  --sklearn-color-fitted-level-3: cornflowerblue;\n",
       "\n",
       "  /* Specific color for light theme */\n",
       "  --sklearn-color-text-on-default-background: var(--sg-text-color, var(--theme-code-foreground, var(--jp-content-font-color1, black)));\n",
       "  --sklearn-color-background: var(--sg-background-color, var(--theme-background, var(--jp-layout-color0, white)));\n",
       "  --sklearn-color-border-box: var(--sg-text-color, var(--theme-code-foreground, var(--jp-content-font-color1, black)));\n",
       "  --sklearn-color-icon: #696969;\n",
       "\n",
       "  @media (prefers-color-scheme: dark) {\n",
       "    /* Redefinition of color scheme for dark theme */\n",
       "    --sklearn-color-text-on-default-background: var(--sg-text-color, var(--theme-code-foreground, var(--jp-content-font-color1, white)));\n",
       "    --sklearn-color-background: var(--sg-background-color, var(--theme-background, var(--jp-layout-color0, #111)));\n",
       "    --sklearn-color-border-box: var(--sg-text-color, var(--theme-code-foreground, var(--jp-content-font-color1, white)));\n",
       "    --sklearn-color-icon: #878787;\n",
       "  }\n",
       "}\n",
       "\n",
       "#sk-container-id-3 {\n",
       "  color: var(--sklearn-color-text);\n",
       "}\n",
       "\n",
       "#sk-container-id-3 pre {\n",
       "  padding: 0;\n",
       "}\n",
       "\n",
       "#sk-container-id-3 input.sk-hidden--visually {\n",
       "  border: 0;\n",
       "  clip: rect(1px 1px 1px 1px);\n",
       "  clip: rect(1px, 1px, 1px, 1px);\n",
       "  height: 1px;\n",
       "  margin: -1px;\n",
       "  overflow: hidden;\n",
       "  padding: 0;\n",
       "  position: absolute;\n",
       "  width: 1px;\n",
       "}\n",
       "\n",
       "#sk-container-id-3 div.sk-dashed-wrapped {\n",
       "  border: 1px dashed var(--sklearn-color-line);\n",
       "  margin: 0 0.4em 0.5em 0.4em;\n",
       "  box-sizing: border-box;\n",
       "  padding-bottom: 0.4em;\n",
       "  background-color: var(--sklearn-color-background);\n",
       "}\n",
       "\n",
       "#sk-container-id-3 div.sk-container {\n",
       "  /* jupyter's `normalize.less` sets `[hidden] { display: none; }`\n",
       "     but bootstrap.min.css set `[hidden] { display: none !important; }`\n",
       "     so we also need the `!important` here to be able to override the\n",
       "     default hidden behavior on the sphinx rendered scikit-learn.org.\n",
       "     See: https://github.com/scikit-learn/scikit-learn/issues/21755 */\n",
       "  display: inline-block !important;\n",
       "  position: relative;\n",
       "}\n",
       "\n",
       "#sk-container-id-3 div.sk-text-repr-fallback {\n",
       "  display: none;\n",
       "}\n",
       "\n",
       "div.sk-parallel-item,\n",
       "div.sk-serial,\n",
       "div.sk-item {\n",
       "  /* draw centered vertical line to link estimators */\n",
       "  background-image: linear-gradient(var(--sklearn-color-text-on-default-background), var(--sklearn-color-text-on-default-background));\n",
       "  background-size: 2px 100%;\n",
       "  background-repeat: no-repeat;\n",
       "  background-position: center center;\n",
       "}\n",
       "\n",
       "/* Parallel-specific style estimator block */\n",
       "\n",
       "#sk-container-id-3 div.sk-parallel-item::after {\n",
       "  content: \"\";\n",
       "  width: 100%;\n",
       "  border-bottom: 2px solid var(--sklearn-color-text-on-default-background);\n",
       "  flex-grow: 1;\n",
       "}\n",
       "\n",
       "#sk-container-id-3 div.sk-parallel {\n",
       "  display: flex;\n",
       "  align-items: stretch;\n",
       "  justify-content: center;\n",
       "  background-color: var(--sklearn-color-background);\n",
       "  position: relative;\n",
       "}\n",
       "\n",
       "#sk-container-id-3 div.sk-parallel-item {\n",
       "  display: flex;\n",
       "  flex-direction: column;\n",
       "}\n",
       "\n",
       "#sk-container-id-3 div.sk-parallel-item:first-child::after {\n",
       "  align-self: flex-end;\n",
       "  width: 50%;\n",
       "}\n",
       "\n",
       "#sk-container-id-3 div.sk-parallel-item:last-child::after {\n",
       "  align-self: flex-start;\n",
       "  width: 50%;\n",
       "}\n",
       "\n",
       "#sk-container-id-3 div.sk-parallel-item:only-child::after {\n",
       "  width: 0;\n",
       "}\n",
       "\n",
       "/* Serial-specific style estimator block */\n",
       "\n",
       "#sk-container-id-3 div.sk-serial {\n",
       "  display: flex;\n",
       "  flex-direction: column;\n",
       "  align-items: center;\n",
       "  background-color: var(--sklearn-color-background);\n",
       "  padding-right: 1em;\n",
       "  padding-left: 1em;\n",
       "}\n",
       "\n",
       "\n",
       "/* Toggleable style: style used for estimator/Pipeline/ColumnTransformer box that is\n",
       "clickable and can be expanded/collapsed.\n",
       "- Pipeline and ColumnTransformer use this feature and define the default style\n",
       "- Estimators will overwrite some part of the style using the `sk-estimator` class\n",
       "*/\n",
       "\n",
       "/* Pipeline and ColumnTransformer style (default) */\n",
       "\n",
       "#sk-container-id-3 div.sk-toggleable {\n",
       "  /* Default theme specific background. It is overwritten whether we have a\n",
       "  specific estimator or a Pipeline/ColumnTransformer */\n",
       "  background-color: var(--sklearn-color-background);\n",
       "}\n",
       "\n",
       "/* Toggleable label */\n",
       "#sk-container-id-3 label.sk-toggleable__label {\n",
       "  cursor: pointer;\n",
       "  display: block;\n",
       "  width: 100%;\n",
       "  margin-bottom: 0;\n",
       "  padding: 0.5em;\n",
       "  box-sizing: border-box;\n",
       "  text-align: center;\n",
       "}\n",
       "\n",
       "#sk-container-id-3 label.sk-toggleable__label-arrow:before {\n",
       "  /* Arrow on the left of the label */\n",
       "  content: \"▸\";\n",
       "  float: left;\n",
       "  margin-right: 0.25em;\n",
       "  color: var(--sklearn-color-icon);\n",
       "}\n",
       "\n",
       "#sk-container-id-3 label.sk-toggleable__label-arrow:hover:before {\n",
       "  color: var(--sklearn-color-text);\n",
       "}\n",
       "\n",
       "/* Toggleable content - dropdown */\n",
       "\n",
       "#sk-container-id-3 div.sk-toggleable__content {\n",
       "  max-height: 0;\n",
       "  max-width: 0;\n",
       "  overflow: hidden;\n",
       "  text-align: left;\n",
       "  /* unfitted */\n",
       "  background-color: var(--sklearn-color-unfitted-level-0);\n",
       "}\n",
       "\n",
       "#sk-container-id-3 div.sk-toggleable__content.fitted {\n",
       "  /* fitted */\n",
       "  background-color: var(--sklearn-color-fitted-level-0);\n",
       "}\n",
       "\n",
       "#sk-container-id-3 div.sk-toggleable__content pre {\n",
       "  margin: 0.2em;\n",
       "  border-radius: 0.25em;\n",
       "  color: var(--sklearn-color-text);\n",
       "  /* unfitted */\n",
       "  background-color: var(--sklearn-color-unfitted-level-0);\n",
       "}\n",
       "\n",
       "#sk-container-id-3 div.sk-toggleable__content.fitted pre {\n",
       "  /* unfitted */\n",
       "  background-color: var(--sklearn-color-fitted-level-0);\n",
       "}\n",
       "\n",
       "#sk-container-id-3 input.sk-toggleable__control:checked~div.sk-toggleable__content {\n",
       "  /* Expand drop-down */\n",
       "  max-height: 200px;\n",
       "  max-width: 100%;\n",
       "  overflow: auto;\n",
       "}\n",
       "\n",
       "#sk-container-id-3 input.sk-toggleable__control:checked~label.sk-toggleable__label-arrow:before {\n",
       "  content: \"▾\";\n",
       "}\n",
       "\n",
       "/* Pipeline/ColumnTransformer-specific style */\n",
       "\n",
       "#sk-container-id-3 div.sk-label input.sk-toggleable__control:checked~label.sk-toggleable__label {\n",
       "  color: var(--sklearn-color-text);\n",
       "  background-color: var(--sklearn-color-unfitted-level-2);\n",
       "}\n",
       "\n",
       "#sk-container-id-3 div.sk-label.fitted input.sk-toggleable__control:checked~label.sk-toggleable__label {\n",
       "  background-color: var(--sklearn-color-fitted-level-2);\n",
       "}\n",
       "\n",
       "/* Estimator-specific style */\n",
       "\n",
       "/* Colorize estimator box */\n",
       "#sk-container-id-3 div.sk-estimator input.sk-toggleable__control:checked~label.sk-toggleable__label {\n",
       "  /* unfitted */\n",
       "  background-color: var(--sklearn-color-unfitted-level-2);\n",
       "}\n",
       "\n",
       "#sk-container-id-3 div.sk-estimator.fitted input.sk-toggleable__control:checked~label.sk-toggleable__label {\n",
       "  /* fitted */\n",
       "  background-color: var(--sklearn-color-fitted-level-2);\n",
       "}\n",
       "\n",
       "#sk-container-id-3 div.sk-label label.sk-toggleable__label,\n",
       "#sk-container-id-3 div.sk-label label {\n",
       "  /* The background is the default theme color */\n",
       "  color: var(--sklearn-color-text-on-default-background);\n",
       "}\n",
       "\n",
       "/* On hover, darken the color of the background */\n",
       "#sk-container-id-3 div.sk-label:hover label.sk-toggleable__label {\n",
       "  color: var(--sklearn-color-text);\n",
       "  background-color: var(--sklearn-color-unfitted-level-2);\n",
       "}\n",
       "\n",
       "/* Label box, darken color on hover, fitted */\n",
       "#sk-container-id-3 div.sk-label.fitted:hover label.sk-toggleable__label.fitted {\n",
       "  color: var(--sklearn-color-text);\n",
       "  background-color: var(--sklearn-color-fitted-level-2);\n",
       "}\n",
       "\n",
       "/* Estimator label */\n",
       "\n",
       "#sk-container-id-3 div.sk-label label {\n",
       "  font-family: monospace;\n",
       "  font-weight: bold;\n",
       "  display: inline-block;\n",
       "  line-height: 1.2em;\n",
       "}\n",
       "\n",
       "#sk-container-id-3 div.sk-label-container {\n",
       "  text-align: center;\n",
       "}\n",
       "\n",
       "/* Estimator-specific */\n",
       "#sk-container-id-3 div.sk-estimator {\n",
       "  font-family: monospace;\n",
       "  border: 1px dotted var(--sklearn-color-border-box);\n",
       "  border-radius: 0.25em;\n",
       "  box-sizing: border-box;\n",
       "  margin-bottom: 0.5em;\n",
       "  /* unfitted */\n",
       "  background-color: var(--sklearn-color-unfitted-level-0);\n",
       "}\n",
       "\n",
       "#sk-container-id-3 div.sk-estimator.fitted {\n",
       "  /* fitted */\n",
       "  background-color: var(--sklearn-color-fitted-level-0);\n",
       "}\n",
       "\n",
       "/* on hover */\n",
       "#sk-container-id-3 div.sk-estimator:hover {\n",
       "  /* unfitted */\n",
       "  background-color: var(--sklearn-color-unfitted-level-2);\n",
       "}\n",
       "\n",
       "#sk-container-id-3 div.sk-estimator.fitted:hover {\n",
       "  /* fitted */\n",
       "  background-color: var(--sklearn-color-fitted-level-2);\n",
       "}\n",
       "\n",
       "/* Specification for estimator info (e.g. \"i\" and \"?\") */\n",
       "\n",
       "/* Common style for \"i\" and \"?\" */\n",
       "\n",
       ".sk-estimator-doc-link,\n",
       "a:link.sk-estimator-doc-link,\n",
       "a:visited.sk-estimator-doc-link {\n",
       "  float: right;\n",
       "  font-size: smaller;\n",
       "  line-height: 1em;\n",
       "  font-family: monospace;\n",
       "  background-color: var(--sklearn-color-background);\n",
       "  border-radius: 1em;\n",
       "  height: 1em;\n",
       "  width: 1em;\n",
       "  text-decoration: none !important;\n",
       "  margin-left: 1ex;\n",
       "  /* unfitted */\n",
       "  border: var(--sklearn-color-unfitted-level-1) 1pt solid;\n",
       "  color: var(--sklearn-color-unfitted-level-1);\n",
       "}\n",
       "\n",
       ".sk-estimator-doc-link.fitted,\n",
       "a:link.sk-estimator-doc-link.fitted,\n",
       "a:visited.sk-estimator-doc-link.fitted {\n",
       "  /* fitted */\n",
       "  border: var(--sklearn-color-fitted-level-1) 1pt solid;\n",
       "  color: var(--sklearn-color-fitted-level-1);\n",
       "}\n",
       "\n",
       "/* On hover */\n",
       "div.sk-estimator:hover .sk-estimator-doc-link:hover,\n",
       ".sk-estimator-doc-link:hover,\n",
       "div.sk-label-container:hover .sk-estimator-doc-link:hover,\n",
       ".sk-estimator-doc-link:hover {\n",
       "  /* unfitted */\n",
       "  background-color: var(--sklearn-color-unfitted-level-3);\n",
       "  color: var(--sklearn-color-background);\n",
       "  text-decoration: none;\n",
       "}\n",
       "\n",
       "div.sk-estimator.fitted:hover .sk-estimator-doc-link.fitted:hover,\n",
       ".sk-estimator-doc-link.fitted:hover,\n",
       "div.sk-label-container:hover .sk-estimator-doc-link.fitted:hover,\n",
       ".sk-estimator-doc-link.fitted:hover {\n",
       "  /* fitted */\n",
       "  background-color: var(--sklearn-color-fitted-level-3);\n",
       "  color: var(--sklearn-color-background);\n",
       "  text-decoration: none;\n",
       "}\n",
       "\n",
       "/* Span, style for the box shown on hovering the info icon */\n",
       ".sk-estimator-doc-link span {\n",
       "  display: none;\n",
       "  z-index: 9999;\n",
       "  position: relative;\n",
       "  font-weight: normal;\n",
       "  right: .2ex;\n",
       "  padding: .5ex;\n",
       "  margin: .5ex;\n",
       "  width: min-content;\n",
       "  min-width: 20ex;\n",
       "  max-width: 50ex;\n",
       "  color: var(--sklearn-color-text);\n",
       "  box-shadow: 2pt 2pt 4pt #999;\n",
       "  /* unfitted */\n",
       "  background: var(--sklearn-color-unfitted-level-0);\n",
       "  border: .5pt solid var(--sklearn-color-unfitted-level-3);\n",
       "}\n",
       "\n",
       ".sk-estimator-doc-link.fitted span {\n",
       "  /* fitted */\n",
       "  background: var(--sklearn-color-fitted-level-0);\n",
       "  border: var(--sklearn-color-fitted-level-3);\n",
       "}\n",
       "\n",
       ".sk-estimator-doc-link:hover span {\n",
       "  display: block;\n",
       "}\n",
       "\n",
       "/* \"?\"-specific style due to the `<a>` HTML tag */\n",
       "\n",
       "#sk-container-id-3 a.estimator_doc_link {\n",
       "  float: right;\n",
       "  font-size: 1rem;\n",
       "  line-height: 1em;\n",
       "  font-family: monospace;\n",
       "  background-color: var(--sklearn-color-background);\n",
       "  border-radius: 1rem;\n",
       "  height: 1rem;\n",
       "  width: 1rem;\n",
       "  text-decoration: none;\n",
       "  /* unfitted */\n",
       "  color: var(--sklearn-color-unfitted-level-1);\n",
       "  border: var(--sklearn-color-unfitted-level-1) 1pt solid;\n",
       "}\n",
       "\n",
       "#sk-container-id-3 a.estimator_doc_link.fitted {\n",
       "  /* fitted */\n",
       "  border: var(--sklearn-color-fitted-level-1) 1pt solid;\n",
       "  color: var(--sklearn-color-fitted-level-1);\n",
       "}\n",
       "\n",
       "/* On hover */\n",
       "#sk-container-id-3 a.estimator_doc_link:hover {\n",
       "  /* unfitted */\n",
       "  background-color: var(--sklearn-color-unfitted-level-3);\n",
       "  color: var(--sklearn-color-background);\n",
       "  text-decoration: none;\n",
       "}\n",
       "\n",
       "#sk-container-id-3 a.estimator_doc_link.fitted:hover {\n",
       "  /* fitted */\n",
       "  background-color: var(--sklearn-color-fitted-level-3);\n",
       "}\n",
       "</style><div id=\"sk-container-id-3\" class=\"sk-top-container\"><div class=\"sk-text-repr-fallback\"><pre>XGBRegressor(base_score=None, booster=None, callbacks=None,\n",
       "             colsample_bylevel=None, colsample_bynode=None,\n",
       "             colsample_bytree=None, device=None, early_stopping_rounds=None,\n",
       "             enable_categorical=False, eval_metric=None, feature_types=None,\n",
       "             feature_weights=None, gamma=None, grow_policy=None,\n",
       "             importance_type=None, interaction_constraints=None,\n",
       "             learning_rate=0.1, max_bin=None, max_cat_threshold=None,\n",
       "             max_cat_to_onehot=None, max_delta_step=None, max_depth=6,\n",
       "             max_leaves=None, min_child_weight=None, missing=nan,\n",
       "             monotone_constraints=None, multi_strategy=None, n_estimators=100,\n",
       "             n_jobs=None, num_parallel_tree=None, ...)</pre><b>In a Jupyter environment, please rerun this cell to show the HTML representation or trust the notebook. <br />On GitHub, the HTML representation is unable to render, please try loading this page with nbviewer.org.</b></div><div class=\"sk-container\" hidden><div class=\"sk-item\"><div class=\"sk-estimator fitted sk-toggleable\"><input class=\"sk-toggleable__control sk-hidden--visually\" id=\"sk-estimator-id-3\" type=\"checkbox\" checked><label for=\"sk-estimator-id-3\" class=\"sk-toggleable__label fitted sk-toggleable__label-arrow fitted\">&nbsp;&nbsp;XGBRegressor<a class=\"sk-estimator-doc-link fitted\" rel=\"noreferrer\" target=\"_blank\" href=\"https://xgboost.readthedocs.io/en/release_3.0.0/python/python_api.html#xgboost.XGBRegressor\">?<span>Documentation for XGBRegressor</span></a><span class=\"sk-estimator-doc-link fitted\">i<span>Fitted</span></span></label><div class=\"sk-toggleable__content fitted\"><pre>XGBRegressor(base_score=None, booster=None, callbacks=None,\n",
       "             colsample_bylevel=None, colsample_bynode=None,\n",
       "             colsample_bytree=None, device=None, early_stopping_rounds=None,\n",
       "             enable_categorical=False, eval_metric=None, feature_types=None,\n",
       "             feature_weights=None, gamma=None, grow_policy=None,\n",
       "             importance_type=None, interaction_constraints=None,\n",
       "             learning_rate=0.1, max_bin=None, max_cat_threshold=None,\n",
       "             max_cat_to_onehot=None, max_delta_step=None, max_depth=6,\n",
       "             max_leaves=None, min_child_weight=None, missing=nan,\n",
       "             monotone_constraints=None, multi_strategy=None, n_estimators=100,\n",
       "             n_jobs=None, num_parallel_tree=None, ...)</pre></div> </div></div></div></div>"
      ],
      "text/plain": [
       "XGBRegressor(base_score=None, booster=None, callbacks=None,\n",
       "             colsample_bylevel=None, colsample_bynode=None,\n",
       "             colsample_bytree=None, device=None, early_stopping_rounds=None,\n",
       "             enable_categorical=False, eval_metric=None, feature_types=None,\n",
       "             feature_weights=None, gamma=None, grow_policy=None,\n",
       "             importance_type=None, interaction_constraints=None,\n",
       "             learning_rate=0.1, max_bin=None, max_cat_threshold=None,\n",
       "             max_cat_to_onehot=None, max_delta_step=None, max_depth=6,\n",
       "             max_leaves=None, min_child_weight=None, missing=nan,\n",
       "             monotone_constraints=None, multi_strategy=None, n_estimators=100,\n",
       "             n_jobs=None, num_parallel_tree=None, ...)"
      ]
     },
     "execution_count": 70,
     "metadata": {},
     "output_type": "execute_result"
    }
   ],
   "source": [
    "xgb_model = XGBRegressor(n_estimators=100, learning_rate=0.1, max_depth=6, random_state=42)\n",
    "xgb_model.fit(X_train, y_train)"
   ]
  },
  {
   "cell_type": "markdown",
   "metadata": {},
   "source": [
    "## Model Performance Evaluation : XGBOOST REGRESSOR"
   ]
  },
  {
   "cell_type": "code",
   "execution_count": 71,
   "metadata": {},
   "outputs": [
    {
     "name": "stdout",
     "output_type": "stream",
     "text": [
      "MSE: 0.3571815154544997\n",
      "MAE: 0.4492230224609375\n",
      "R2 Score: 0.9891150565923079\n"
     ]
    }
   ],
   "source": [
    "y_pred_xgb = xgb_model.predict(X_test)\n",
    "\n",
    "print(\"MSE:\", mean_squared_error(y_test, y_pred_xgb))\n",
    "print(\"MAE:\", mean_absolute_error(y_test, y_pred_xgb))\n",
    "print(\"R2 Score:\", r2_score(y_test, y_pred_xgb))"
   ]
  },
  {
   "cell_type": "code",
   "execution_count": 72,
   "metadata": {},
   "outputs": [
    {
     "data": {
      "image/png": "[encoded data removed]",
      "text/plain": [
       "<Figure size 1000x600 with 1 Axes>"
      ]
     },
     "metadata": {},
     "output_type": "display_data"
    }
   ],
   "source": [
    "# Tahmin yap\n",
    "y_pred_xgb = xgb_model.predict(X_test)\n",
    "\n",
    "# Görselleştirme\n",
    "plt.figure(figsize=(10, 6))\n",
    "plt.scatter(y_test, y_pred_xgb, color='blue', label='Tahmin Edilen Değerler')  # Gerçek vs Tahmin\n",
    "plt.plot(y_test, y_test, color='red', linewidth=2, label='Doğrusal Çizgi')  # Mükemmel Doğrusal Çizgi\n",
    "plt.xlabel('Gerçek fiyatlar')\n",
    "plt.ylabel('Tahmin Edilen fiyatlar')\n",
    "plt.title('Xgboost Regression Tahmin Sonuçları')\n",
    "plt.legend()\n",
    "plt.grid(True)\n",
    "plt.show()"
   ]
  },
  {
   "cell_type": "markdown",
   "metadata": {},
   "source": [
    "## Prediction : XGBOOST REGRESSOR"
   ]
  },
  {
   "cell_type": "code",
   "execution_count": 74,
   "metadata": {},
   "outputs": [
    {
     "data": {
      "text/plain": [
       "array([492.55634], dtype=float32)"
      ]
     },
     "execution_count": 74,
     "metadata": {},
     "output_type": "execute_result"
    }
   ],
   "source": [
    "example=[[22,2,0,10,2021,4]]\n",
    "example=scaler.fit_transform(example)\n",
    "y_pred_xgb = xgb_model.predict(example)\n",
    "y_pred_xgb"
   ]
  },
  {
   "cell_type": "markdown",
   "metadata": {},
   "source": [
    "## Compare both model"
   ]
  },
  {
   "cell_type": "code",
   "execution_count": 73,
   "metadata": {},
   "outputs": [
    {
     "name": "stdout",
     "output_type": "stream",
     "text": [
      "Random Forest R2 Score: 0.978239019702219\n",
      "XGBoost R2 Score: 0.9891150565923079\n"
     ]
    }
   ],
   "source": [
    "rf_pred = rfr.predict(X_test)  # Random Forest tahmini\n",
    "xgb_pred = xgb_model.predict(X_test)  # XGBoost tahmini\n",
    "\n",
    "print(\"Random Forest R2 Score:\", r2_score(y_test, rf_pred))\n",
    "print(\"XGBoost R2 Score:\", r2_score(y_test, xgb_pred))"
   ]
  }
 ],
 "metadata": {
  "kernelspec": {
   "display_name": "Python 3",
   "language": "python",
   "name": "python3"
  },
  "language_info": {
   "codemirror_mode": {
    "name": "ipython",
    "version": 3
   },
   "file_extension": ".py",
   "mimetype": "text/x-python",
   "name": "python",
   "nbconvert_exporter": "python",
   "pygments_lexer": "ipython3",
   "version": "3.12.0"
  }
 },
 "nbformat": 4,
 "nbformat_minor": 2
}
