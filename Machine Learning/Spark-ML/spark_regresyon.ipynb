{
 "cells": [
  {
   "cell_type": "markdown",
   "metadata": {},
   "source": [
    "# Ogrenci Bilgileri -> Harun Korkmaz\n",
    "# ODEV ISTERLERI\n",
    "1. Verilerin yüklenmesi\n",
    "2. Verilerin çeşitli Spark fonksiyonları kullanılarak incelenmesi\n",
    "3. Özniteliklerin seçimi ve verilerin makine öğrenmesi için hazırlanması, \n",
    "4. PySpark ile makine öğrenmesi modelinin oluşturulması\n",
    "5. Geliştirilen modelin performansının ölçümü"
   ]
  },
  {
   "cell_type": "markdown",
   "metadata": {
    "id": "K6HuRYZd8_1G"
   },
   "source": [
    "###  1. Kütüphaneleri Yükleme ve Spark Oturumunu Başlatma"
   ]
  },
  {
   "cell_type": "code",
   "execution_count": 83,
   "metadata": {
    "id": "RwgwjDQ935EE"
   },
   "outputs": [],
   "source": [
    "from pyspark.sql import SparkSession\n",
    "from pyspark.sql.types import *\n",
    "from pyspark.sql.functions import *\n",
    "from pyspark.ml.feature import VectorAssembler\n",
    "from pyspark.ml.regression import LinearRegression, RandomForestRegressor, GBTRegressor\n",
    "from pyspark.ml.evaluation import RegressionEvaluator\n",
    "from pyspark.sql.functions import col, isnan, when, count"
   ]
  },
  {
   "cell_type": "markdown",
   "metadata": {
    "id": "c33mwQAb9Ikn"
   },
   "source": [
    "###  2. Veriyi Yükleme ve İnceleme\n",
    "- \"CaliforniaHousing\" session isminde oluşturma işlemi .\n",
    "- housing.csv dosyasını okuma işlemi .\n",
    "- header=True → İlk satırı başlık olarak almamızı sağladı .\n",
    "- inferSchema=True → Veri tiplerini otomatik belirler.\n",
    "- .show(5) ile ilk 5 rowu yazdırımı ."
   ]
  },
  {
   "cell_type": "code",
   "execution_count": 84,
   "metadata": {
    "colab": {
     "base_uri": "https://localhost:8080/"
    },
    "executionInfo": {
     "elapsed": 776,
     "status": "ok",
     "timestamp": 1739008378484,
     "user": {
      "displayName": "Harun Korkmaz",
      "userId": "12652336479387593241"
     },
     "user_tz": -180
    },
    "id": "0GEsD62X4nN-",
    "outputId": "d686668c-763c-4c22-a38e-bbc132f4d143"
   },
   "outputs": [
    {
     "name": "stdout",
     "output_type": "stream",
     "text": [
      "+---------+--------+------------------+-----------+--------------+----------+----------+-------------+------------------+---------------+\n",
      "|longitude|latitude|housing_median_age|total_rooms|total_bedrooms|population|households|median_income|median_house_value|ocean_proximity|\n",
      "+---------+--------+------------------+-----------+--------------+----------+----------+-------------+------------------+---------------+\n",
      "|  -122.23|   37.88|              41.0|      880.0|         129.0|     322.0|     126.0|       8.3252|          452600.0|       NEAR BAY|\n",
      "|  -122.22|   37.86|              21.0|     7099.0|        1106.0|    2401.0|    1138.0|       8.3014|          358500.0|       NEAR BAY|\n",
      "|  -122.24|   37.85|              52.0|     1467.0|         190.0|     496.0|     177.0|       7.2574|          352100.0|       NEAR BAY|\n",
      "|  -122.25|   37.85|              52.0|     1274.0|         235.0|     558.0|     219.0|       5.6431|          341300.0|       NEAR BAY|\n",
      "|  -122.25|   37.85|              52.0|     1627.0|         280.0|     565.0|     259.0|       3.8462|          342200.0|       NEAR BAY|\n",
      "+---------+--------+------------------+-----------+--------------+----------+----------+-------------+------------------+---------------+\n",
      "only showing top 5 rows\n",
      "\n"
     ]
    }
   ],
   "source": [
    "spark = SparkSession.builder.appName(\"CaliforniaHousing\").getOrCreate()\n",
    "\n",
    "df = spark.read.csv(f'./housing.csv', inferSchema=True, header=True)\n",
    "df.show(5)"
   ]
  },
  {
   "cell_type": "markdown",
   "metadata": {},
   "source": [
    "- .printSchema() -> pandas kütüphanesinden aşina olduğumuz df.info benzeri her bir sütunun bilgilerini veren fonksiyondur "
   ]
  },
  {
   "cell_type": "code",
   "execution_count": 85,
   "metadata": {
    "colab": {
     "base_uri": "https://localhost:8080/"
    },
    "executionInfo": {
     "elapsed": 6,
     "status": "ok",
     "timestamp": 1739008379488,
     "user": {
      "displayName": "Harun Korkmaz",
      "userId": "12652336479387593241"
     },
     "user_tz": -180
    },
    "id": "zH_XUPle5Ddw",
    "outputId": "dad47d4d-2dfb-45e5-aba5-45c089fa085b"
   },
   "outputs": [
    {
     "name": "stdout",
     "output_type": "stream",
     "text": [
      "root\n",
      " |-- longitude: double (nullable = true)\n",
      " |-- latitude: double (nullable = true)\n",
      " |-- housing_median_age: double (nullable = true)\n",
      " |-- total_rooms: double (nullable = true)\n",
      " |-- total_bedrooms: double (nullable = true)\n",
      " |-- population: double (nullable = true)\n",
      " |-- households: double (nullable = true)\n",
      " |-- median_income: double (nullable = true)\n",
      " |-- median_house_value: double (nullable = true)\n",
      " |-- ocean_proximity: string (nullable = true)\n",
      "\n"
     ]
    }
   ],
   "source": [
    "df.printSchema()  "
   ]
  },
  {
   "cell_type": "markdown",
   "metadata": {
    "id": "_I6FlZ2k9Q8A"
   },
   "source": [
    "###  3. Eksik Değerleri İnceleme ve Düzeltme\n",
    "- Her bir sütunun içinde kaç adet null değer olduğunun gösterimi"
   ]
  },
  {
   "cell_type": "code",
   "execution_count": 86,
   "metadata": {
    "colab": {
     "base_uri": "https://localhost:8080/"
    },
    "executionInfo": {
     "elapsed": 878,
     "status": "ok",
     "timestamp": 1739008382390,
     "user": {
      "displayName": "Harun Korkmaz",
      "userId": "12652336479387593241"
     },
     "user_tz": -180
    },
    "id": "jaPfqZV39aLy",
    "outputId": "3223240e-4cef-48a4-dd60-8b20c04718b3"
   },
   "outputs": [
    {
     "name": "stdout",
     "output_type": "stream",
     "text": [
      "+---------+--------+------------------+-----------+--------------+----------+----------+-------------+------------------+---------------+\n",
      "|longitude|latitude|housing_median_age|total_rooms|total_bedrooms|population|households|median_income|median_house_value|ocean_proximity|\n",
      "+---------+--------+------------------+-----------+--------------+----------+----------+-------------+------------------+---------------+\n",
      "|        0|       0|                 0|          0|           207|         0|         0|            0|                 0|              0|\n",
      "+---------+--------+------------------+-----------+--------------+----------+----------+-------------+------------------+---------------+\n",
      "\n"
     ]
    }
   ],
   "source": [
    "df.select([count(when(col(c).isNull(), c)).alias(c) for c in df.columns]).show()"
   ]
  },
  {
   "cell_type": "markdown",
   "metadata": {},
   "source": [
    "- Eksik değerlerin sahip olduğu sütunun medyani ile doldurma işlemi \n",
    "- Tekrardan ekrana null değerlerin gösterimi "
   ]
  },
  {
   "cell_type": "code",
   "execution_count": 87,
   "metadata": {
    "colab": {
     "base_uri": "https://localhost:8080/"
    },
    "executionInfo": {
     "elapsed": 1400,
     "status": "ok",
     "timestamp": 1739008385269,
     "user": {
      "displayName": "Harun Korkmaz",
      "userId": "12652336479387593241"
     },
     "user_tz": -180
    },
    "id": "azfJLnyx6DLX",
    "outputId": "15abe340-1201-444e-914d-3aeb8841f5b2"
   },
   "outputs": [
    {
     "name": "stdout",
     "output_type": "stream",
     "text": [
      "+---------+--------+------------------+-----------+--------------+----------+----------+-------------+------------------+---------------+\n",
      "|longitude|latitude|housing_median_age|total_rooms|total_bedrooms|population|households|median_income|median_house_value|ocean_proximity|\n",
      "+---------+--------+------------------+-----------+--------------+----------+----------+-------------+------------------+---------------+\n",
      "|        0|       0|                 0|          0|             0|         0|         0|            0|                 0|              0|\n",
      "+---------+--------+------------------+-----------+--------------+----------+----------+-------------+------------------+---------------+\n",
      "\n"
     ]
    }
   ],
   "source": [
    "median_total_bedrooms = df.approxQuantile(\"total_bedrooms\", [0.5], 0.01)[0]\n",
    "df = df.fillna({\"total_bedrooms\": median_total_bedrooms})\n",
    "\n",
    "df.select([count(when(col(c).isNull(), c)).alias(c) for c in df.columns]).show()"
   ]
  },
  {
   "cell_type": "markdown",
   "metadata": {},
   "source": [
    "- Temel istatistikleri gösterimi"
   ]
  },
  {
   "cell_type": "code",
   "execution_count": 88,
   "metadata": {
    "colab": {
     "base_uri": "https://localhost:8080/"
    },
    "executionInfo": {
     "elapsed": 1328,
     "status": "ok",
     "timestamp": 1739008388541,
     "user": {
      "displayName": "Harun Korkmaz",
      "userId": "12652336479387593241"
     },
     "user_tz": -180
    },
    "id": "380FSw_o6FHX",
    "outputId": "eca41bc7-3c83-4121-9ab2-56ebdb28cae8"
   },
   "outputs": [
    {
     "name": "stdout",
     "output_type": "stream",
     "text": [
      "+-------+-------------------+-----------------+------------------+------------------+------------------+------------------+-----------------+------------------+------------------+---------------+\n",
      "|summary|          longitude|         latitude|housing_median_age|       total_rooms|    total_bedrooms|        population|       households|     median_income|median_house_value|ocean_proximity|\n",
      "+-------+-------------------+-----------------+------------------+------------------+------------------+------------------+-----------------+------------------+------------------+---------------+\n",
      "|  count|              20640|            20640|             20640|             20640|             20640|             20640|            20640|             20640|             20640|          20640|\n",
      "|   mean|-119.56970445736148| 35.6318614341087|28.639486434108527|2635.7630813953488| 536.8187984496124|1425.4767441860465|499.5396802325581|3.8706710029070246|206855.81690891474|           NULL|\n",
      "| stddev|  2.003531723502584|2.135952397457101| 12.58555761211163|2181.6152515827944|419.39679609707485|  1132.46212176534|382.3297528316098| 1.899821717945263|115395.61587441359|           NULL|\n",
      "|    min|            -124.35|            32.54|               1.0|               2.0|               1.0|               3.0|              1.0|            0.4999|           14999.0|      <1H OCEAN|\n",
      "|    max|            -114.31|            41.95|              52.0|           39320.0|            6445.0|           35682.0|           6082.0|           15.0001|          500001.0|     NEAR OCEAN|\n",
      "+-------+-------------------+-----------------+------------------+------------------+------------------+------------------+-----------------+------------------+------------------+---------------+\n",
      "\n"
     ]
    }
   ],
   "source": [
    "df.describe().show()"
   ]
  },
  {
   "cell_type": "markdown",
   "metadata": {
    "id": "lUpIHBVY9yLc"
   },
   "source": [
    "###  4. Kategorik Değişkenleri Dönüştürme\n",
    "\n",
    "1. benzersiz değerleri ekrana yazdırma\n",
    " - <1H OCEAN: Okyanusa 1 saat mesafede\n",
    " - INLAND: İç bölge\n",
    " - NEAR OCEAN: Okyanusa yakın\n",
    " - NEAR BAY: Körfeze yakın\n",
    " - ISLAND: Ada\n",
    "\n",
    "2. Kategorik değişkenin dağılımını gösterme\n",
    "3. Manuel olarak kategorik değerleri numeric hale getirme \n"
   ]
  },
  {
   "cell_type": "code",
   "execution_count": 89,
   "metadata": {
    "colab": {
     "base_uri": "https://localhost:8080/"
    },
    "executionInfo": {
     "elapsed": 316,
     "status": "ok",
     "timestamp": 1739008391967,
     "user": {
      "displayName": "Harun Korkmaz",
      "userId": "12652336479387593241"
     },
     "user_tz": -180
    },
    "id": "kUcFhWD56Hvh",
    "outputId": "8c8e06b9-6730-4590-a496-6c5ce77f08a9"
   },
   "outputs": [
    {
     "name": "stdout",
     "output_type": "stream",
     "text": [
      "+---------------+\n",
      "|ocean_proximity|\n",
      "+---------------+\n",
      "|         ISLAND|\n",
      "|     NEAR OCEAN|\n",
      "|       NEAR BAY|\n",
      "|      <1H OCEAN|\n",
      "|         INLAND|\n",
      "+---------------+\n",
      "\n"
     ]
    }
   ],
   "source": [
    "df.select(\"ocean_proximity\").distinct().show()"
   ]
  },
  {
   "cell_type": "code",
   "execution_count": 90,
   "metadata": {
    "colab": {
     "base_uri": "https://localhost:8080/"
    },
    "executionInfo": {
     "elapsed": 389,
     "status": "ok",
     "timestamp": 1739008393533,
     "user": {
      "displayName": "Harun Korkmaz",
      "userId": "12652336479387593241"
     },
     "user_tz": -180
    },
    "id": "LSmmtmJ16QI6",
    "outputId": "c5d4b29a-6bcd-4100-d033-622fa109cbba"
   },
   "outputs": [
    {
     "name": "stdout",
     "output_type": "stream",
     "text": [
      "+---------------+-----+\n",
      "|ocean_proximity|count|\n",
      "+---------------+-----+\n",
      "|         ISLAND|    5|\n",
      "|     NEAR OCEAN| 2658|\n",
      "|       NEAR BAY| 2290|\n",
      "|      <1H OCEAN| 9136|\n",
      "|         INLAND| 6551|\n",
      "+---------------+-----+\n",
      "\n"
     ]
    }
   ],
   "source": [
    "df.groupBy(\"ocean_proximity\").count().show()"
   ]
  },
  {
   "cell_type": "markdown",
   "metadata": {},
   "source": [
    "- Island değeri az olduğu için onu NEAR OCEAN değerine dahil etme kararı alındı."
   ]
  },
  {
   "cell_type": "code",
   "execution_count": 91,
   "metadata": {
    "id": "WGkmrmSI6UoK"
   },
   "outputs": [],
   "source": [
    "from pyspark.sql.functions import when\n",
    "\n",
    "df = df.withColumn(\"ocean_proximity_index\",\n",
    "                   when(df[\"ocean_proximity\"] == \"<1H OCEAN\", 3)\n",
    "                   .when(df[\"ocean_proximity\"] == \"NEAR OCEAN\", 2)\n",
    "                   .when(df[\"ocean_proximity\"] == \"NEAR BAY\", 1)\n",
    "                   .when(df[\"ocean_proximity\"] == \"INLAND\", 0)\n",
    "                   .otherwise(2))  # ISLAND da NEAR OCEAN gibi 2 olabilir\n"
   ]
  },
  {
   "cell_type": "code",
   "execution_count": 92,
   "metadata": {},
   "outputs": [
    {
     "name": "stdout",
     "output_type": "stream",
     "text": [
      "root\n",
      " |-- longitude: double (nullable = true)\n",
      " |-- latitude: double (nullable = true)\n",
      " |-- housing_median_age: double (nullable = true)\n",
      " |-- total_rooms: double (nullable = true)\n",
      " |-- total_bedrooms: double (nullable = false)\n",
      " |-- population: double (nullable = true)\n",
      " |-- households: double (nullable = true)\n",
      " |-- median_income: double (nullable = true)\n",
      " |-- median_house_value: double (nullable = true)\n",
      " |-- ocean_proximity: string (nullable = true)\n",
      " |-- ocean_proximity_index: integer (nullable = false)\n",
      "\n"
     ]
    }
   ],
   "source": [
    "df.printSchema()"
   ]
  },
  {
   "cell_type": "markdown",
   "metadata": {
    "id": "noiaqZwr-EVM"
   },
   "source": [
    "###  5. Seçili Özellikleri Vektörleştirme\n",
    "- Kullanılacak tüm değişkenleri feautre_columns değişkeninde birleştirme .\n",
    "- VectorAssembler ile vektörleştirme işlemi ."
   ]
  },
  {
   "cell_type": "code",
   "execution_count": 93,
   "metadata": {
    "colab": {
     "base_uri": "https://localhost:8080/"
    },
    "executionInfo": {
     "elapsed": 724,
     "status": "ok",
     "timestamp": 1739008397285,
     "user": {
      "displayName": "Harun Korkmaz",
      "userId": "12652336479387593241"
     },
     "user_tz": -180
    },
    "id": "yP8g_AjS6V99",
    "outputId": "0251d0fe-f4cc-4eae-9601-92b7ffc11b10"
   },
   "outputs": [
    {
     "name": "stdout",
     "output_type": "stream",
     "text": [
      "+-----------------------------------------------------------+------------------+\n",
      "|features                                                   |median_house_value|\n",
      "+-----------------------------------------------------------+------------------+\n",
      "|[-122.23,37.88,41.0,880.0,129.0,322.0,126.0,8.3252,1.0]    |452600.0          |\n",
      "|[-122.22,37.86,21.0,7099.0,1106.0,2401.0,1138.0,8.3014,1.0]|358500.0          |\n",
      "|[-122.24,37.85,52.0,1467.0,190.0,496.0,177.0,7.2574,1.0]   |352100.0          |\n",
      "|[-122.25,37.85,52.0,1274.0,235.0,558.0,219.0,5.6431,1.0]   |341300.0          |\n",
      "|[-122.25,37.85,52.0,1627.0,280.0,565.0,259.0,3.8462,1.0]   |342200.0          |\n",
      "+-----------------------------------------------------------+------------------+\n",
      "only showing top 5 rows\n",
      "\n"
     ]
    }
   ],
   "source": [
    "from pyspark.ml.feature import VectorAssembler\n",
    "\n",
    "feature_columns = [\n",
    "    \"longitude\", \"latitude\", \"housing_median_age\",\n",
    "    \"total_rooms\", \"total_bedrooms\", \"population\", \"households\",\n",
    "    \"median_income\", \"ocean_proximity_index\"\n",
    "]\n",
    "\n",
    "assembler = VectorAssembler(inputCols=feature_columns, outputCol=\"features\")\n",
    "df = assembler.transform(df)\n",
    "\n",
    "df.select(\"features\", \"median_house_value\").show(5, truncate=False)"
   ]
  },
  {
   "cell_type": "markdown",
   "metadata": {
    "id": "bg1SMxnT-Peu"
   },
   "source": [
    "###  6. Veriyi Eğitim ve Test Setlerine Ayırma\n",
    "- %80 kısmı eğitim verisi %20 kısım test verisi olucak şekilde ayırma .\n",
    "- Ekrana yazdırtma dağılımı ."
   ]
  },
  {
   "cell_type": "code",
   "execution_count": 94,
   "metadata": {
    "colab": {
     "base_uri": "https://localhost:8080/"
    },
    "executionInfo": {
     "elapsed": 1167,
     "status": "ok",
     "timestamp": 1739008401203,
     "user": {
      "displayName": "Harun Korkmaz",
      "userId": "12652336479387593241"
     },
     "user_tz": -180
    },
    "id": "lLnxc21K6d17",
    "outputId": "b1f1c0e9-9e7f-4a9a-c3f1-8a814c8a7a46"
   },
   "outputs": [
    {
     "name": "stdout",
     "output_type": "stream",
     "text": [
      "Eğitim verisi: 16560 satır\n",
      "Test verisi: 4080 satır\n"
     ]
    }
   ],
   "source": [
    "train_data, test_data = df.randomSplit([0.8, 0.2], seed=42)\n",
    "\n",
    "print(f\"Eğitim verisi: {train_data.count()} satır\")\n",
    "print(f\"Test verisi: {test_data.count()} satır\")"
   ]
  },
  {
   "cell_type": "markdown",
   "metadata": {
    "id": "P8-7BQvh-Syk"
   },
   "source": [
    "###  7. Lineer Regresyon Modeli Eğitme ve Test Etme"
   ]
  },
  {
   "cell_type": "code",
   "execution_count": 95,
   "metadata": {
    "colab": {
     "base_uri": "https://localhost:8080/"
    },
    "executionInfo": {
     "elapsed": 1610,
     "status": "ok",
     "timestamp": 1739008404330,
     "user": {
      "displayName": "Harun Korkmaz",
      "userId": "12652336479387593241"
     },
     "user_tz": -180
    },
    "id": "m9iQnMAY6grJ",
    "outputId": "639c767f-a157-4fc4-ec0d-433228413e24"
   },
   "outputs": [
    {
     "name": "stdout",
     "output_type": "stream",
     "text": [
      "Model Katsayıları: [-34623.591733409,-32836.01197630847,1125.2439675008786,-3.425828315045274,74.10962701197703,-47.25030918966792,87.13946484932589,38505.15353348364,9898.613410371747]\n",
      "Model Sabiti (Intercept): -2968478.4821013696\n"
     ]
    }
   ],
   "source": [
    "from pyspark.ml.regression import LinearRegression\n",
    "\n",
    "lr = LinearRegression(featuresCol=\"features\", labelCol=\"median_house_value\")\n",
    "\n",
    "model = lr.fit(train_data)\n",
    "\n",
    "print(f\"Model Katsayıları: {model.coefficients}\")\n",
    "print(f\"Model Sabiti (Intercept): {model.intercept}\")"
   ]
  },
  {
   "cell_type": "markdown",
   "metadata": {},
   "source": [
    "#### RegressionEvaluator ile LinearRegression modelinin değerlendirilmesi \n",
    "- R² ve RSME skorlarının hesaplanması ve yazdırılması ."
   ]
  },
  {
   "cell_type": "code",
   "execution_count": 96,
   "metadata": {
    "colab": {
     "base_uri": "https://localhost:8080/"
    },
    "executionInfo": {
     "elapsed": 1129,
     "status": "ok",
     "timestamp": 1739008406890,
     "user": {
      "displayName": "Harun Korkmaz",
      "userId": "12652336479387593241"
     },
     "user_tz": -180
    },
    "id": "bxlJWCtm6kME",
    "outputId": "0a496133-cf66-414b-97d9-e760fe0a44e2"
   },
   "outputs": [
    {
     "name": "stdout",
     "output_type": "stream",
     "text": [
      "Modelin RMSE (Hata Oranı): 71260.00963511101\n",
      "Modelin R² (Doğruluk Skoru): 0.6329835589760625\n"
     ]
    }
   ],
   "source": [
    "from pyspark.ml.evaluation import RegressionEvaluator\n",
    "\n",
    "predictions = model.transform(test_data)\n",
    "\n",
    "# RMSE (Hata Oranı) hesapla\n",
    "rmse_evaluator = RegressionEvaluator(labelCol=\"median_house_value\", metricName=\"rmse\")\n",
    "rmse = rmse_evaluator.evaluate(predictions)\n",
    "\n",
    "# R² skorunu hesapla\n",
    "r2_evaluator = RegressionEvaluator(labelCol=\"median_house_value\", metricName=\"r2\")\n",
    "r2 = r2_evaluator.evaluate(predictions)\n",
    "\n",
    "print(f\"Modelin RMSE (Hata Oranı): {rmse}\")\n",
    "print(f\"Modelin R² (Doğruluk Skoru): {r2}\")\n",
    "#Modelin RMSE (Hata Oranı): 71260.00963511101\n",
    "#Modelin R² (Doğruluk Skoru): 0.6329835589760625"
   ]
  },
  {
   "cell_type": "markdown",
   "metadata": {
    "id": "ZtJDW3eo-Uf2"
   },
   "source": [
    "###  8. Random Forest Modeli Eğitme ve Test Etme"
   ]
  },
  {
   "cell_type": "code",
   "execution_count": 97,
   "metadata": {
    "id": "ftgWMC3R66CC"
   },
   "outputs": [],
   "source": [
    "from pyspark.ml.regression import RandomForestRegressor\n",
    "\n",
    "rf = RandomForestRegressor(featuresCol=\"features\", labelCol=\"median_house_value\", numTrees=100)\n",
    "\n",
    "rf_model = rf.fit(train_data)\n",
    "\n",
    "rf_predictions = rf_model.transform(test_data)"
   ]
  },
  {
   "cell_type": "markdown",
   "metadata": {},
   "source": [
    "#### RegressionEvaluator ile RandomForestRegressor modelinin değerlendirilmesi \n",
    "- R² ve RSME skorlarının hesaplanması ve yazdırılması ."
   ]
  },
  {
   "cell_type": "code",
   "execution_count": 98,
   "metadata": {
    "colab": {
     "base_uri": "https://localhost:8080/"
    },
    "executionInfo": {
     "elapsed": 1619,
     "status": "ok",
     "timestamp": 1739008422395,
     "user": {
      "displayName": "Harun Korkmaz",
      "userId": "12652336479387593241"
     },
     "user_tz": -180
    },
    "id": "JZ_49KFB7fAN",
    "outputId": "0dc9ba49-abdc-4cdc-b082-3403dc04baa9"
   },
   "outputs": [
    {
     "name": "stdout",
     "output_type": "stream",
     "text": [
      "Modelin RMSE (Hata Oranı): 71260.00963511101\n",
      "Modelin R² (Doğruluk Skoru): 0.6329835589760625\n"
     ]
    }
   ],
   "source": [
    "from pyspark.ml.evaluation import RegressionEvaluator\n",
    "\n",
    "# RMSE (Hata Oranı) hesapla\n",
    "rmse_evaluator = RegressionEvaluator(labelCol=\"median_house_value\", predictionCol=\"prediction\", metricName=\"rmse\")\n",
    "rmse_rf = rmse_evaluator.evaluate(rf_predictions)\n",
    "\n",
    "# R² skorunu hesapla\n",
    "r2_evaluator = RegressionEvaluator(labelCol=\"median_house_value\", predictionCol=\"prediction\", metricName=\"r2\")\n",
    "r2_rf = r2_evaluator.evaluate(rf_predictions)\n",
    "\n",
    "print(f\"Modelin RMSE (Hata Oranı): {rmse}\")\n",
    "print(f\"Modelin R² (Doğruluk Skoru): {r2}\")"
   ]
  },
  {
   "cell_type": "markdown",
   "metadata": {
    "id": "tsnM2k7F-YoF"
   },
   "source": [
    "###  9. Gradient Boosted Trees Modeli Eğitme ve Test Etme"
   ]
  },
  {
   "cell_type": "code",
   "execution_count": 99,
   "metadata": {
    "id": "6oPPttKC6pDN"
   },
   "outputs": [],
   "source": [
    "from pyspark.ml.regression import GBTRegressor\n",
    "\n",
    "gbt = GBTRegressor(featuresCol=\"features\", labelCol=\"median_house_value\", maxIter=10)\n",
    "\n",
    "gbt_model = gbt.fit(train_data)\n",
    "\n",
    "gbt_predictions = gbt_model.transform(test_data)"
   ]
  },
  {
   "cell_type": "markdown",
   "metadata": {},
   "source": [
    "#### RegressionEvaluator ile GBTRegressor modelinin değerlendirilmesi \n",
    "- R² ve RSME skorlarının hesaplanması ve yazdırılması ."
   ]
  },
  {
   "cell_type": "code",
   "execution_count": 100,
   "metadata": {
    "colab": {
     "base_uri": "https://localhost:8080/"
    },
    "executionInfo": {
     "elapsed": 1831,
     "status": "ok",
     "timestamp": 1739008438183,
     "user": {
      "displayName": "Harun Korkmaz",
      "userId": "12652336479387593241"
     },
     "user_tz": -180
    },
    "id": "QrWDvnYw6wM5",
    "outputId": "189c2c7a-496e-46a9-e2b5-47d826eacb1b"
   },
   "outputs": [
    {
     "name": "stdout",
     "output_type": "stream",
     "text": [
      "Modelin RMSE (Hata Oranı): 60559.94094706756\n",
      "Modelin R² (Doğruluk Skoru): 0.7349275134500518\n"
     ]
    }
   ],
   "source": [
    "from pyspark.ml.evaluation import RegressionEvaluator\n",
    "\n",
    "# RMSE (Hata Oranı) hesapla\n",
    "rmse_evaluator = RegressionEvaluator(labelCol=\"median_house_value\", metricName=\"rmse\")\n",
    "rmse = rmse_evaluator.evaluate(gbt_predictions)\n",
    "\n",
    "# R² skorunu hesapla\n",
    "r2_evaluator = RegressionEvaluator(labelCol=\"median_house_value\", metricName=\"r2\")\n",
    "r2 = r2_evaluator.evaluate(gbt_predictions)\n",
    "\n",
    "print(f\"Modelin RMSE (Hata Oranı): {rmse}\")\n",
    "print(f\"Modelin R² (Doğruluk Skoru): {r2}\")\n",
    "\n"
   ]
  },
  {
   "cell_type": "markdown",
   "metadata": {},
   "source": [
    "### Sonuç \n",
    "\n",
    "Bu çalışma kapsamında, **California Housing Prices** veri seti üzerinde **Spark ML** kütüphanesi kullanılarak konut fiyatlarının tahmin edilmesi amaçlanmıştır. **PySpark** kullanılarak veriler işlenmiş, öznitelikler belirlenmiş ve regresyon modelleri oluşturulmuştur.\n",
    "\n",
    "Model performansını değerlendirmek için **R² skoru** ve **RMSE (Root Mean Squared Error)** gibi metrikler kullanılmıştır. Elde edilen sonuçlara göre:\n",
    "\n",
    "- **Modelin doğruluk seviyesi** incelenmiş ve **hata oranı** belirlenmiştir.\n",
    "- **Öznitelik seçimi**, modelin başarısını doğrudan etkileyen faktörlerden biri olmuştur.\n",
    "- **Regresyon modellerinin kıyaslaması** yapılmış ve en iyi performans veren model belirlenmiştir.\n",
    "\n",
    "Sonuç olarak, **Spark ML** ile büyük veri üzerinde regresyon analizi gerçekleştirilmiş ve konut fiyatlarını tahmin etmek için uygun bir model geliştirilmiştir. Modelin performansını artırmak için **hiperparametre optimizasyonu** ve **daha fazla veri temizleme işlemi** gibi ek adımlar önerilebilir.\n"
   ]
  }
 ],
 "metadata": {
  "colab": {
   "authorship_tag": "ABX9TyP8nuESfByB997dORRjZ18e",
   "mount_file_id": "1yGlubWdQsg47EMlI0SZpV-YJqKSSuh4f",
   "provenance": []
  },
  "kernelspec": {
   "display_name": "spark_env",
   "language": "python",
   "name": "python3"
  },
  "language_info": {
   "codemirror_mode": {
    "name": "ipython",
    "version": 3
   },
   "file_extension": ".py",
   "mimetype": "text/x-python",
   "name": "python",
   "nbconvert_exporter": "python",
   "pygments_lexer": "ipython3",
   "version": "3.12.8"
  }
 },
 "nbformat": 4,
 "nbformat_minor": 0
}
