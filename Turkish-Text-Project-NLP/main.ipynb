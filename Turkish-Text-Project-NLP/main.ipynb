{
 "cells": [
  {
   "cell_type": "markdown",
   "metadata": {},
   "source": [
    "# Türkçe Veri Seti üzerinde nlp projesi çalışması\n",
    "- veri seti linki : https://github.com/turkish-nlp-suite/BeyazPerde-Movie-Reviews/blob/main/butun-fimler/all_movies_reviews.json"
   ]
  },
  {
   "cell_type": "markdown",
   "metadata": {},
   "source": [
    "## kütüphaneleri yükleme"
   ]
  },
  {
   "cell_type": "code",
   "execution_count": 10,
   "metadata": {},
   "outputs": [
    {
     "name": "stderr",
     "output_type": "stream",
     "text": [
      "[nltk_data] Downloading package stopwords to\n",
      "[nltk_data]     C:\\Users\\Harun\\AppData\\Roaming\\nltk_data...\n",
      "[nltk_data]   Package stopwords is already up-to-date!\n"
     ]
    }
   ],
   "source": [
    "import json\n",
    "\n",
    "import pandas as pd\n",
    "import numpy as np\n",
    "\n",
    "import re\n",
    "import nltk\n",
    "nltk.download('stopwords')\n",
    "from nltk.corpus import stopwords\n",
    "stop_words = set(stopwords.words('turkish'))\n",
    "\n",
    "from sklearn.model_selection import train_test_split\n",
    "from sklearn.feature_extraction.text import TfidfVectorizer\n",
    "from sklearn.naive_bayes import MultinomialNB\n",
    "from sklearn.metrics import accuracy_score, classification_report, confusion_matrix"
   ]
  },
  {
   "cell_type": "markdown",
   "metadata": {},
   "source": [
    "## Veri Setini Yükle ve Hazırla"
   ]
  },
  {
   "cell_type": "code",
   "execution_count": null,
   "metadata": {},
   "outputs": [],
   "source": [
    "with open('all_movies_reviews.json','r',encoding='utf-8') as file:  # aynı dizinde olmalı all_movies_reviews.json dosyası main.ipynb ile \n",
    "    data=json.load(file)"
   ]
  },
  {
   "cell_type": "code",
   "execution_count": 3,
   "metadata": {},
   "outputs": [],
   "source": [
    "yorumlar=[]\n",
    "derecelendirmeler=[]\n",
    "\n",
    "for film in data:\n",
    "    for review in film['reviews']:\n",
    "        yorumlar.append(review['review'])\n",
    "        derecelendirmeler.append(float(review['rating'].replace(',', '.')))"
   ]
  },
  {
   "cell_type": "code",
   "execution_count": 5,
   "metadata": {},
   "outputs": [
    {
     "data": {
      "application/vnd.microsoft.datawrangler.viewer.v0+json": {
       "columns": [
        {
         "name": "index",
         "rawType": "int64",
         "type": "integer"
        },
        {
         "name": "review",
         "rawType": "object",
         "type": "string"
        },
        {
         "name": "rating",
         "rawType": "float64",
         "type": "float"
        }
       ],
       "conversionMethod": "pd.DataFrame",
       "ref": "20f59654-c0a7-486f-a322-96080ec9cc5e",
       "rows": [
        [
         "0",
         "Filmi bugün Nişanlımla birlikte izleme şansım oldu. Avatarı ilk izlediğimde nedense çokta etkisinde kalmamıştım. bu filme de gittiğimde ilk filmi unutmuştum bile. Avatar 2 yi izleyince Avatar evreni ilgimi çekmeyi başardı. üçüncü filmi beklemiyorum desem yalan olur. Üçüncü Filmde fantastik ögelerden çok bilim kurgu yönünün ağır basması filmi daha anlamlı kılacağını düşünüyorum. Umarım üçüncü filmde yönetmen bu konuya önem verir. Onun dışında Film son zamanlarda izlediğim en naif en ahlaklı yapım diyebilirim. Ailecek gönül rahatlığıyla gidip izleyebilirsiniz. Günümüz yapımları gibi saçma sapan cinsel içerikli konuşmalardan, hareketlerden ibaret değildi. Filmde iki önemli mesaj vardı bunlardan biri aile diğeri küresel iklim değişikliği yani Doğa. Hep doğaya hemde aile yaşantısına karşı çokça mesaj çokça replik barındıran anlamlı bir filmdi. (Aile olmak hem en büyük zaafımız hemde en büyük gücümüz.) Üç saat olmasına rağmen hiçbir sıkılmadım. Aksiyon ve Trajediyi harmanlayıp izleyiciye çok iyi aktarıldığını düşünüyorum. Görsel efekt çekim teknikleri karakterler ve mekanlar harikulade diyebilirim. Tek kusur gördüğüm şey keşke iyi ve kötünün savaşını sadece bir aile sorununa indirgemeyip bu sorunu gezegenin tüm sorunu olarak göstermesi daha ihtişamlı olabilirdi. Sonuçta düşmanlar gezegene sadece Jake için gelmiyordu gezegeni tümüyle işgal edip, sömürmek için geliyordu. Ayrıca çocuk karakterler filmin yarısından sonra biraz fazla filme dahil olmaya başladı, bu bazı seyircileri sıkmış olabilir. Neyse sonuçta James Cameron müthiş bir evren oluşturmuş, izlemeye değer.",
         "4.0"
        ],
        [
         "1",
         "Film gerçekten hakkını veriyor. Saatin nasıl geçtiğini anlamıyorsunuz. Filmin geri kalan serisini sabırsızlıkla bekliyoruz.",
         "5.0"
        ],
        [
         "2",
         "Açıkçası film beklentilerimi karşılayamadı. Tabi her şeyin ilki güzel ama son seride iyi olabilirdi. Filmde görsel olarak her şey güzeldi kendimi filmi izledikten sonra ıslanmış gibi hissettim :D Puan kırdığım noktalar filmin bilim kurgudan fantastiğe doğru kayması. Ardından sır kapısına döndürüp iyilik yapan iyilik bulur moduna girmesi. Çoğu sahnelerin çocuklara hitap etmesi. Neyse serinin üçüncü filmi sağlam olucak gibi...",
         "3.5"
        ],
        [
         "3",
         "Bu eleştiride spoiler vardır! Avatar the way of Water tam anlamıyla bir dastan olmuş filmi 4dx bir salonda en önün en köşesinden izlememe rağmen filme hayranlık duydum... Filmin görselliğine büyülendim bir an olsun 3 saatlik süresine rağmen sıkılmadım farklı dünyalara atıldım tüm gündelik dertlerimi unutup ağzım açık bir şekilde izledim film bitince başım dönüyordu avatar 2 izlemesi gerçekten yorucu bir film olsada filmi 2. Kez birde imax olarak izleyeceğim. Film benim için dünyanın en iyi ilk 10 filmine girecek düzeyde ilk filmden epey önde muhteşem ötesi destansı bir işti. Şimdi filmi enine boyuna konuşacacağım. Film ilk filmin kaldığı yerden başlıyor Jake ve Neytiri'nin çocukları olmuş,bir aile olmuşlar film zaten tema olarak aile ve babalık üzerinden gidiyor. İlk filmde gördüğümüz Albay Miles kendini navi yapmış ve yine kötü karakter onun dışında filme eklenen ve gelecek filmlerde büyük önemi olacağını düşündüğüm Albayın oğlu Spider var,spider bence filmde iyi işlenmiş bir karakterdi ancak devam filmlerinde bir hainlik yapacsk gibiydi özellikle son kısımda, neyse ondan sonra muhteşem bir görsellik ve kurgu eşliğinde Pandorra 'nın ormanları yakıp Spiderı kaçırıyorlar Albay ve ordusu, bunun üzerine film tam olarak başlıyor diyebiliriz benim filmi ilk filmden daha çok sevmemin en büyük nedeni Pandorranın okyanusları bence ormanlarından daha ilgi çekici bir konu. Bu arada film de en çok yer alan çocuk hem de ilk çocukları olan Neyatam açıkçası filmin sonunda Neyetamın ölmesine hem şaşırdım hem de üzüldüm şaşırmamın nedeni filmde çok yer alıyor ve film onun üzerinden ilerliyor ama böyle giderken birden pat diye ölmesi garipti, neyse filmin sonunda 40 dakikalık bir aksiyon sahnesi var ve bu sahne izlediğim en iyi aksiyon sahnelerinden olabilir. Filmde etkileyici çok yer vardı ama bence etkileyici yer Neyetamın ölüsünü doğumuyla aynı pozisyonda o deniz yerine yatırmalarıydı... Ama ben filmin sonunda Spider 'ın Albayı kurtarmasına aşırı sinir oldum ya Ben cidden bir film daha aynı kötüyü görmek istemiyorum. Toparlarsak bu yazıyı filmi mutlaka izleyin,izletin gencinden,yaşlısına arthousecusundan gişe filmcisine herkesin izlemesi gereken bir başyapıttan bile öte bir şaheser umarım film gişede istediğini bulur ve her zaman böyle kusursuz işler izleriz. MUTLAKA İZLEYİN 10/10",
         "5.0"
        ],
        [
         "4",
         "SADECE SİNEMA KONUŞULAN, YORUMLAR YAPILAN, TAVSİYELER ALINIP VERİLEN BİR SİNEMA WHATSAPP GURUBU DÜŞÜNÜN. 2. YILIMIZI KUTLUYORUZ. 05522477170",
         "5.0"
        ],
        [
         "5",
         "Şirinlerin teknolojik versiyonu sinemanın geldiği dip nokta birincisi neydi ki ikincisi birşeye benzesin !!!!",
         "0.5"
        ],
        [
         "6",
         "Bugün sinemada izledim görsel olarak çok beğendim inşallah devamı gelir serinin ama tabi ilk filmin daha güzeldi sanki",
         "5.0"
        ],
        [
         "7",
         "seyretmedim daha ne diyebilirim ki boş konuşmak istemiyorum ilk defa giriyorum siteyee inşallah bekledigim gibi çıkar site",
         "3.0"
        ],
        [
         "8",
         "Avatar1 benim en sevdiğim film dir, benim için filmlerin nirvanası ve bu kadar yıl ikincisini bekledikten sonra beklentim çok yüksek gittim. Gelelim avatar 2 ye; görsel efektler muhteşem, emek çok fazla, 3D izledim, bi ara koltuktan düşecekgibiydim tutunma ihtiyacı hissettim. Bunun için 5 yıldız. Gelelim hikayeye; [spoiler][/spoiler]Film Jake nin salak iki oğlunun aptallıkları yüzünden başlarına gelenleri anlatıyor. Film bu ikisine sinir olmakla geçiyor. Hani ilk filmi ormanda yaptıkya ikincisini de denizde çekelim demişler, çekmişler sadece. Ya çocukları kurtarmaya koca bir ordu gittiler, sadece aile (5kişi, jake ve ailesi) ve insan spider savaştı o kadar düşmana karşı. O koca ordu neredeydi, nereye kayboldu biri anlatsın ya? ya spider kardeşim navilerden misin, insanlardan mı? Baban olacak o yavşağı neden kurtardın? o zaman onun yanında kal niye navi lerle kalıyorsun, yada kurtarma.. Netice de en sevdiğim film olarak ben hikayeyi ve işlenişini beğenmedim, çok basit olmuş özellikle bukadar yıl bekledikten sonra. Hani görsel olmasa sıradan bir film. Bu yüzden 2 yıldız kestim. Filmi eğer izleyecekseniz görseli için mutlaka 3D izleyin, çok keyifli. tv de izlerim diyorsanız 3 saatinizi boşa harcamayın. Hikayesi için de beklentinizi yüksek tutmayın.[spoiler][/spoiler]",
         "3.0"
        ],
        [
         "9",
         "Berrak denizde su altı gündüz nasıl görünür, bir de gece ışıklar nasıl parıldar, 3,5 saat seyredip çıktık. Oğlum bile pişman oldu, &İlk bölümde de hiç konu yoktu, biz buna niye geldik& diye :) Ben de dedim, &En azından &12 yılda hazırlanan bir film nasıldır acaba?& diye artık merak etmeyeceğiz&. Milyon kere tekrarlanmış klişeler, &muhteşeme efektler& paketinde tekrar sunulmuş (kibarca ifade ediyorum). Efekt meraklıları, evde ortalardan bir yeri açıp 10 dakika bakarlarsa filmi seyretmiş olurlar. Filmin kendisi 6,5'u geçmez, efektlerin hakkını yemeyelim diye 7/10.",
         "3.0"
        ],
        [
         "10",
         "Sıkıldım ve başım ağrıdı. Konu sürükleyici değil. Kendilerince görsel bir şölen hazırlamışlar. O yönü fena değil ama bu kadar süre fazla",
         "3.0"
        ],
        [
         "11",
         "Film genel olarak güzeldi. Çok az yerde sıkıldım süresi bir tık uzun ama görsel açıdan çok kaliteli bir film olduğu için hiç sıkmıyor. Hikaye olarak bize ailenin önemini anlatan bir film olurken bir yandan farklı farklı karakterlerin kendi öz hikayesini anlatıyor. Bazı yerlerde mantık hataları var o da bir zahmet olsun ama James Cameron döktürmüş yine. Genel olarak Avatar filmini çok seven biri değilim bu filme de gittiğimde ilk filmi unuttum bile tabi bunun sebebi ilk film çok eski olması ama üçüncü filmi beklemiyorum desem yalan olur. Bence gişe rekoları kırabilecek bir film bakalım ilk filmi geçebilecek mi?",
         "3.5"
        ],
        [
         "12",
         "Efekt göresel bakımdan mükemmel bir film. Birincisine nazaran daha iyi olmuş. Keyif alacağınız bir film. Ellerinize sağlık avatar ekibi. Mutlaka izleyin",
         "5.0"
        ],
        [
         "13",
         "Kesinlikle vakit harcamaya değmez çok sıkılıp yarısında çıktık çocuk çizgi filmi mantığında yapılmış 2.45 dk lık bir zaman kaybı",
         "0.5"
        ],
        [
         "14",
         "James Cameron der dururum Bu adam Boş duvarı çekse film yapsa gider seyrederim. Avatar Suyun Yolu Muhteşem görsel şov ve geliştirilmiş cgi efektleri gerçeklik algısı 3D Harika bir biçimde işlenmiş, Öncelikle bu filmi kesinlikle İMAX VEYA SCREEN X3D sinemalarında izlemelisiniz çünkü filmin yapısı ona göre 3 saat lik sürede film hiç kopmuyor sürekli bir action var Jake Sully ve Neytri aile olmuşlar ve farklı bir evrende yeni navi türleriyle Pandora'nın müthiş okyanusu ve harika yeni canlı türlerine ve görsel şölene eşlik edeceksiniz. Filmin Ana teması doğayı Evrenin var oluşundaki enerjiyi ve hayat formlarını aileyi SEVGİYİ ve korumayı çok iyi işlemiş, Tabi senaryo daha da farklı geliştirilebilirdi ama bu devam filminin de geleceği anlamına geliyor. spoiler vermeden söyleyeyim bu tarz fantastik ve bilim kurgu yapıtlarını seviyorsanız gidin rahat kıyafetlerle oturun ve bambaşka hayal dünyasına dalın, Filmden çıkınca da İnsan ırkının hırsının bu evrende nasıl kötü bir tür olduğumuzu bir kez daha düşünün ve sorgulayın.&Her hayat ve enerji geçici verilmiş bir armağındır. zamanı geldiğinde geri vermek gerekir& Teşekkürler James CAMERON iyi seyiler",
         "4.0"
        ],
        [
         "15",
         "Filme girmeden önce yorumları okumuştum. Ya çok sevilmiş ya da hiç sevilmemiş olduğunu gördüm. Filmi izledikten sonra anladım ki olumsuz görüş sahiplerinin çoğunun mutsuzlukları mısır cipsi ve kola eşliğinde hepimizin aşina olduğu hollywood estetiği beklentisinin karşılanmamasındanmış. Böyle bir isteğiniz, beklentiniz varsa bu filmden hemen kaçın. Filmin böyle bir derdi yok. Filmin nasıl yaşadığımız, ya da yaşamak zorunda bırakıldıklarımizla ilgili söylemek istediği bir sürü şey var. Bunları , bu memnuniyetsizliklerini de doğal olarak -halinden memnun- bir bakış açısıyla anlatmıyor. Ayrıca size kurtarıcı bir kahraman da vaat etmiyor üzgünüm. Bu bokun içinde bir başınasınız! Şöyle düşünebiliriz, örneğin soğan, sarımsak yemiş bir adamın ağzınızın içine girerek dakikalarca konuşmasını bir 3. kişiye hissettirerek anlatmak istiyorsunuz. Dogru anlatırsanız adamın nasıl canı sıkılır degil mi, bu filmden de onu beklemek lazım. Bence film derdini anlatıyor sadece bazı bölümler bence son 2 bölüm gereğinden fazla hızlandırılmış, bir parça daha sindirerek ilerlerse daha derin bir ürüne dönüşebilirdi. Yine de son 2 yıldır izlediğim en iyi yerli filmdi. Emeği Geçen herkese Teşekkür ederim. Kurak Kayseri'den selamlar",
         "4.0"
        ],
        [
         "16",
         "hukukun adaletin yozmasligi, ahlak, harika bir turkiye alegorisi gerilim unsurlarini cok iyi kullanmis seyircinin kendisini rahat hissetmemesini saglamis katharsis yasatmamis tabi ki. alegorinin kotu tarafi sagolsun filmin reklamina cok vesile oldu, ilk haftasonu sayisi kis uykusu ahlat agacini gecmis. kendisini boyle basarilarda gormek cok onur verici cunku filmi tasarladigi siralarda biz muhendislere sinema sanati dersi veriyodu teknik universitede. gercekten inanilmaz dolu bir insan ve hayatimizda aldigimiz en iyi dersti sinif arkadaslarimla.",
         "5.0"
        ],
        [
         "17",
         "Nuri Bilge Ceylan tadında bir film Sinema şölenine hoş geldiniz.Yerellikten evrensellige ustaca atlamalar ve ilmek,ilmek örgüsüyle muhteşem bir görsel şölen.",
         "5.0"
        ],
        [
         "18",
         "Güzel bir film olmuş. Sürükleyici ve gerilim dolu. Bence son dönemlerdeki en iyi politik film. Günümüz sağ iktidarlarının kirli yüzünü ortaya çıkarmış.",
         "3.5"
        ],
        [
         "19",
         "Emin Alper son yılların en iyi yönetmenlerinden biri. Daha önce Kızkardeşler filmini çok beğenmiştim. Filmin başlangıcı ve finali çarpıcı. Çekimleriyle ve temasıyla muhteşem bir film. Oyuncular da çok başarılı. Eğer sadece eğlenmek için film izliyorsanız size hitap etmez.",
         "5.0"
        ],
        [
         "20",
         "Büyük bir hevesle gittiğim film, hayal kırıklığı ile sonuçlandı. Sıkıcı ve amaçsız bir film. Vermek istediği bir mesaj yok",
         "0.5"
        ],
        [
         "21",
         "İstanbul Forum sinemasında bu filmi 17.12 2022 tarihinde izledim izlediğime izleyeceğime her türlü pişman oldum bir tiyatro yönetmeni olarak filmde hiçbir şeyi anlatmayayım amaçsız bir olgu uğruna beni meşgul eden sevgili yönetmen meslektaşıma sevgilerimi iletiyorum anladınız siz beş para etmez bir film sakın gitmeyin zaten yakında TV'ye düşer ya da internete düşer oradan izlersiniz eğer izleyeceksiniz",
         "1.0"
        ],
        [
         "22",
         "Berbat bir film sonu yok gidin çizmeli kedi izleyin daha mantıklıdır bundan - yıldız olsa o bile fazla gerçekten",
         "1.0"
        ],
        [
         "23",
         "Film tek kelimeyle muhteşemdi ,emeği geçen herkesin o kocaman yüreklerine sağlık diliyorum...Üllkemizin gerçeklerini tokat gibi yüzümüze vuruyor.Bittiğinde ise gerçekten aydın, iyi ve farkında olan insanların zihinlerinde ve kalplerinde iyileşebilmek için ve ülkemizi iyileştirebilmek için yanması gereken bir kutu kibriti ateşliyor...Diğerleri içinse bir nebze ar duygusu oluşturmuş olmalı.Umuyorum...Bir hayvanın leşine kıyamayan ruhun, canavara dönüşmüş insancıkların akan salyalarıyla kovalanıyor olması gerçeği, kötü ruhları rahatsız etmiş olmalı.Kötü olmanın bedeli olan tokadı bu filmle yemiş olmalılar, ar duymalılar..Bir filmden, bir sanatçıdan beklentimiz nedir bizim? Gerçekleri yüzlere vurması değil midir? Kendimizle yüzleşmemiz değil midir isteğimiz? Bana göre gerçek sanatçılar bu dünyada tanrının elçileridir.Onlar insanlığı doğruya, güzelliğe ,dürüstlüğe, insanca ve barış içinde yaşamaya yöneltirler hayata gelme amaçları budur...Eleştirirler ve gerekirse tokat da atıp kendimize gelmemizi sağlarlar.Ve bu uğurda o cesur yürekleri hedef de olur ve bu elçilerin sayıları çok değildir.Bu filmin ve bana göre &elçi& &Emin Alper& in ve tüm ekibinin kıymetinin bilinmesini tüm kalbimle umuyorum...",
         "5.0"
        ],
        [
         "24",
         "İzlediğim en iyi yerli dizi. Görselinden anlatmaya çalıştığı mesaja kadar çok iyiydi. Kasaba Türkiye'nin küçük versiyonu gibiydi. Beğenmeyenler aksiyon filmi bekleyip gitmiş hehalde.",
         "5.0"
        ],
        [
         "25",
         "Bir film bu kadar mı özenilmeden çekilir. En azından bir hukukçu ve emniyetten bir danışman kullanılsaydı. Bu devirde bıyıklı üniformalı polis mi olur. Bir savcı böyle basit hatalar yapacak kadar cahil olamaz... Verilen emeğe yazık.",
         "1.0"
        ],
        [
         "26",
         "Uzun zamandır, bir film bittikten sonra oturduğum yerde çakılı kaldığımı hatırlamıyorum. Bu film bana bu anı tekrar yaşattı.",
         "5.0"
        ],
        [
         "27",
         "sinemaya verdiğim para değilde 2 saatimin çöpe gitmesi koydu bir kere mimik oynatamadım izlemeyin vaktinize yazık olur",
         "1.0"
        ],
        [
         "28",
         "Hayatımda izlediğim en kötü filmlerden bir tanesiydi diyebilirim. Oyunculuklarda senaryo da çok vasattı👎🏻",
         "0.5"
        ],
        [
         "29",
         "Gerçekten bu ekipten bekmedigim bir performans olmuş bir sahnesinde dahi gulemedik ilk yarıda cikicaktik ama belki ikinci yarıda olur birşeyler dedik ama malesef",
         "0.5"
        ],
        [
         "30",
         "ÇOKKK ÇOKKK ÇOKK KÖTÜ VERDİĞİM PARAYA DEĞİL BOŞA GEÇEN 2 SATİME ÜZÜLÜYORUM. FİLM AŞIRI ÇIPLAKLIK VE CİNSELLİK İÇERİYOR REZALET BU EKİPTEN BUKADAR KÖTÜSÜNÜ BEKLEMEZDİK !!!",
         "1.0"
        ],
        [
         "31",
         "İnanılmaz kötüydü,sürekli küfür,sürekli bel altı,bi karının tahrik oluşunu açık açık izletiyorlar,siyasi mesajlar bilmem ne. Biz film izlemeye bunlar için mi geliyoruz ya ? Özellikle bunlara mı gülmemiz gerekiyor ? Serinin en beter filmiydi. İzlediğim en kötü filmler sıralamasına da girer. Ne edep kaldı ne haya. Sinemada bir düzine 13+ çocuk var ve bu filmin 13+ olma şansı yok.Yazık ki bu çocuklar bunları izliyor .18+ dır kesinlikle , gerçi bunu kim önemsiyor ki artık. Üzücü olaylar çok üzücü.",
         "0.5"
        ],
        [
         "32",
         "Filmde çok fazla gereksiz sahne ve doğal olarak birçok mantık hatası vardı. Sıkılmadan zaman geçti ancak nitelik olarak bu oyunculardan beklenenin altında kalan bir film. Kötü.",
         "1.5"
        ],
        [
         "33",
         "Bu ekipten bu kadar berbat bi film çıkması üzdü Zaman kaybından başka bir şey değil Komedi diye gidip hiç gülmediğim ve salondan da gülme sesi duymadığım berbat bir filmdi",
         "0.5"
        ],
        [
         "34",
         "Gerçekten vasat bir film olmuş kesinlikle +18 olarak belirtilmeliydi. Bu kadrodan böyle bir film beklemezdim.",
         "0.5"
        ],
        [
         "35",
         "bence gayet konusu ve esprileri güzeldi ben beğendim imbdsi 7yi hakediyor diye düsünüyor en cokta deli hikmette güldüm :D cok iyiydi",
         "5.0"
        ],
        [
         "36",
         "Berbat ... Zaman kaybı .... Ucuz bir film ... Hatta film bile yok ortada daha sinemada izlerken yazıyorum ki gitmeyin gişe yapmasın ki böyle film yapmasinlar vizyonsuz senaristler. ...",
         "0.5"
        ],
        [
         "37",
         "sinema kültürü gitikçe tükenen ülkemizde dijital mecraların çoğalmasına rağmen ben çakallarla dans 6 filmine gitim merak ettiğimden keşke gitmeseydim içimde hep bir merak olarak kalması çok daha iyi olurdu",
         "1.5"
        ],
        [
         "38",
         "filmin ilk yarısında hiç bir şey yoktu dedim ne zaman çakallık yapacak bunlar, son 15dk hareketlendi, anca müzikle şişirilmiş bir film, eğerki konununuz yoksa yapmayın kardeşim seriye devam etmeyin yazık günah verdiğimiz paraya mı acıyalım yoksa zamanımıza mı, tek olumlu yanı sinemaya eşimle gittim sadece ikimiz vardık salonu kapatmış gibi oldum onun havasını attım :)",
         "0.5"
        ],
        [
         "39",
         "2 yıldız, ama sadece kadroyu sevdiğim için. Onun dışında senaryo berbat. Filmden beklentim yüksekti ancak hayal kırıklığı oldu tavsiye etmiyorum.",
         "2.0"
        ],
        [
         "40",
         "Berbat bir film ilk yarıda salondan çıktık kesinlikle komik tek bir sahnesi bile yok verilen parayada yazık",
         "0.5"
        ],
        [
         "41",
         "Arkadaşlar filmi izledim normalde 0.5 yıldız vericektim ama oyuncu kadrosundan 1 puan ekledim.Öncelikle filmde küfür olmasa hiçbir şekilde komiklik falan yok ve saçma ötesi film bunun yerine Vahşi Gece filmine gidicektim arkadaşlar ısrar etti o yüzden buna geldim.yani gelmenizi tavsiye etmiyeceğim bir film zaten 5-10 gün sonra kaçağı çıkar ve saçma yani komikte değil harbiden saçma bir film olmuş gitmeyin",
         "1.5"
        ],
        [
         "42",
         "Filmi beğenmeyen aradığı heyecanı bulamayan herkese söyleyeceğim şu ki 15 yaşında gencliğinin baharında şehit edilen bir çocuk ile hayatını mesleğine adamış yaşamamış yaşatmış bir asker ne yaşamış olabilir o yaşlarına kadar? Nasıl bir aksiyon ya da nasıl bir heyecan bekliyordunuz? Yapılan bu film abartıdan uzak yaşanılan hayatı net temiz şekilde ortaya koyan bir film. Ne bizi duygu olarak ağır drama sürüklemek zorunda ne de savaş filmlerinde ki gibi aksiyon dolu sahneler olmak zorunda. Onların hayatı buydu ve o şekilde hatıra bırakıldı. Kimsenin beklentisini karşılamak zorunda değiller. Bu film kurgu değil ki daha Baska hissettirsin. Onların acısını onların yarım kalmış hayatlarını kalbinde hisseden herkesi derinden etkileyen bir yapıt. Ne kurgu hayatlar ne de gerceklikten uzak sahneler yok. Önemli olan ereni ve Ferhat başçavuşu bilmek anlamak hayatlarını ne şartlarda sürdürmüşler farkına varmak. Anısını tazelemek. Unuttuğumuz her bir değeri yeniden anlamak. Bir kez daha onların varlığını hissetmek. Bizim haberimiz yokken ne hayatlar yaşanıyor ve bitiyor görmek. Bu ülkeye kanını sermiş bu şehitleri yakından tanımak. Perde arkasını bilmek haberlerde izledğimizden çok. İşte bu yüzden bizi bu filmle buluşturan herkese sonsuz teşekkürler. Gözümüz yaşlı kalbimiz yorgun ayrıldık sonunda. Allah yakınlarına sabır versin... Heyecan ve aksiyon arayan başka filmlere bilet alsın. Bu film o filmlerden değil.",
         "5.0"
        ],
        [
         "43",
         "Tek kelimeyle harikaydı,severek, ağlayarak izledim.Çok kaliteli bir flim olmuş.Gerçek hayatları anlatması ayrı güzel. emeği geçen herkese teşekkürler.🙏 İyiki varsın Eren❤️",
         "5.0"
        ],
        [
         "44",
         "cok duygusallık var set gayet güzel ve gercekten sanki gercek olay gibi iyiki varsın eren iyiki varsın eren iyiki varsın eren",
         "5.0"
        ],
        [
         "45",
         "Film tek kelimeyle muhteşemdi Tavsiye ederim gidebilirsiniz harika [spoiler][/spoiler] İYİKİ VARSIN ERRN",
         "5.0"
        ],
        [
         "46",
         "Gerçekten bu kadar mükemmel bir film beklemiyordum filmin sonlarına kadar bir iki tane sevmediğim yeri olsada film finaliyle öyle bir çarptıki o Erenin vurulma anı ve sonrasında çıkan görüntülerde o kadar ağladımki her şeyi ile mükemmel bir film. Eren iyi ki varsın... son olarakta Eren gibi bir kahramanın filminin çekilmesi zoruna giden vatan hainlerine vatanını milletini sevmeyen insanlara bu filmi bir duygu sömürüsü olarak gören s*k kafalılara bir şey demek istiyorum ne ara bu kadar vicdansız oldunuz Eren gibi birinin filmi çekilmiyecekte salak salak insanların mı filmi çekilcek? Noldu zorunuzamı gitti??? Bir kere eğer duygu sömürüsü yapıcak olsalar Ferhat Gediğin ağlayan çocuklarını geride bıraktığı karısını gösterirlerdi Eren'in ağlayan annesini geride bıraktığı 10 kardeşini gösterirlerdi. Son olarakta bu film küçük bir çocuğun üzerinden yapılan bir prim değil sizin bu filmi eleştirmek bahanesiyle Ereni kötülemeniz prim yazıklar olsun hepinize...",
         "5.0"
        ],
        [
         "47",
         "Bir Hollywood fimi değil.ama bence harika.bizden bir film.beğenmeyen ne amaçlı gitti bilinmez ama gayet iyi anlatılmış.",
         "4.5"
        ],
        [
         "48",
         "Çok duygusal güzel bir film olmuş. Oyuncularda hakkını vermiş. İzlenmesi gereken bir film, tavsiye ederim.",
         "5.0"
        ],
        [
         "49",
         "Şimdi sinemadan çıktım ailecek göz yaşlarımızı hala tutamıyoruz. Sanki oradaymışım gibi yaşadım filmi resmen. Biz çok beğendik çok etkilendik. Rabbim tüm şehitlerimizin, Ferhat astsubay ve Eren kardeşimin makamını cenneti-alâ eylesin. Mazlumların ciğerlerini yakanlara dünyada ve ahirette gün yüzü göstermesin Amin",
         "5.0"
        ]
       ],
       "shape": {
        "columns": 2,
        "rows": 45280
       }
      },
      "text/html": [
       "<div>\n",
       "<style scoped>\n",
       "    .dataframe tbody tr th:only-of-type {\n",
       "        vertical-align: middle;\n",
       "    }\n",
       "\n",
       "    .dataframe tbody tr th {\n",
       "        vertical-align: top;\n",
       "    }\n",
       "\n",
       "    .dataframe thead th {\n",
       "        text-align: right;\n",
       "    }\n",
       "</style>\n",
       "<table border=\"1\" class=\"dataframe\">\n",
       "  <thead>\n",
       "    <tr style=\"text-align: right;\">\n",
       "      <th></th>\n",
       "      <th>review</th>\n",
       "      <th>rating</th>\n",
       "    </tr>\n",
       "  </thead>\n",
       "  <tbody>\n",
       "    <tr>\n",
       "      <th>0</th>\n",
       "      <td>Filmi bugün Nişanlımla birlikte izleme şansım ...</td>\n",
       "      <td>4.0</td>\n",
       "    </tr>\n",
       "    <tr>\n",
       "      <th>1</th>\n",
       "      <td>Film gerçekten hakkını veriyor. Saatin nasıl g...</td>\n",
       "      <td>5.0</td>\n",
       "    </tr>\n",
       "    <tr>\n",
       "      <th>2</th>\n",
       "      <td>Açıkçası film beklentilerimi karşılayamadı. Ta...</td>\n",
       "      <td>3.5</td>\n",
       "    </tr>\n",
       "    <tr>\n",
       "      <th>3</th>\n",
       "      <td>Bu eleştiride spoiler vardır! Avatar the way o...</td>\n",
       "      <td>5.0</td>\n",
       "    </tr>\n",
       "    <tr>\n",
       "      <th>4</th>\n",
       "      <td>SADECE SİNEMA KONUŞULAN, YORUMLAR YAPILAN, TAV...</td>\n",
       "      <td>5.0</td>\n",
       "    </tr>\n",
       "    <tr>\n",
       "      <th>...</th>\n",
       "      <td>...</td>\n",
       "      <td>...</td>\n",
       "    </tr>\n",
       "    <tr>\n",
       "      <th>45275</th>\n",
       "      <td>Film konu olarak ilginç, ancak filmde eksik bi...</td>\n",
       "      <td>2.5</td>\n",
       "    </tr>\n",
       "    <tr>\n",
       "      <th>45276</th>\n",
       "      <td>Film çok ilginç bir senaryoya sahip. sıradanlı...</td>\n",
       "      <td>4.0</td>\n",
       "    </tr>\n",
       "    <tr>\n",
       "      <th>45277</th>\n",
       "      <td>Büyük bir vakit kaybı. Televizyonu açıp rastge...</td>\n",
       "      <td>1.0</td>\n",
       "    </tr>\n",
       "    <tr>\n",
       "      <th>45278</th>\n",
       "      <td>Film çok güzel.Mutlaka izleyin.Bide arkadaşlar...</td>\n",
       "      <td>5.0</td>\n",
       "    </tr>\n",
       "    <tr>\n",
       "      <th>45279</th>\n",
       "      <td>bu filmi bulun ve izleyin.. Senaryosu benim ço...</td>\n",
       "      <td>4.0</td>\n",
       "    </tr>\n",
       "  </tbody>\n",
       "</table>\n",
       "<p>45280 rows × 2 columns</p>\n",
       "</div>"
      ],
      "text/plain": [
       "                                                  review  rating\n",
       "0      Filmi bugün Nişanlımla birlikte izleme şansım ...     4.0\n",
       "1      Film gerçekten hakkını veriyor. Saatin nasıl g...     5.0\n",
       "2      Açıkçası film beklentilerimi karşılayamadı. Ta...     3.5\n",
       "3      Bu eleştiride spoiler vardır! Avatar the way o...     5.0\n",
       "4      SADECE SİNEMA KONUŞULAN, YORUMLAR YAPILAN, TAV...     5.0\n",
       "...                                                  ...     ...\n",
       "45275  Film konu olarak ilginç, ancak filmde eksik bi...     2.5\n",
       "45276  Film çok ilginç bir senaryoya sahip. sıradanlı...     4.0\n",
       "45277  Büyük bir vakit kaybı. Televizyonu açıp rastge...     1.0\n",
       "45278  Film çok güzel.Mutlaka izleyin.Bide arkadaşlar...     5.0\n",
       "45279  bu filmi bulun ve izleyin.. Senaryosu benim ço...     4.0\n",
       "\n",
       "[45280 rows x 2 columns]"
      ]
     },
     "execution_count": 5,
     "metadata": {},
     "output_type": "execute_result"
    }
   ],
   "source": [
    "# DataFrame oluştur\n",
    "df = pd.DataFrame({'review': yorumlar, 'rating': derecelendirmeler})\n",
    "df"
   ]
  },
  {
   "cell_type": "markdown",
   "metadata": {},
   "source": [
    "## Yorumları Sınıflandır"
   ]
  },
  {
   "cell_type": "code",
   "execution_count": 7,
   "metadata": {},
   "outputs": [
    {
     "data": {
      "application/vnd.microsoft.datawrangler.viewer.v0+json": {
       "columns": [
        {
         "name": "index",
         "rawType": "int64",
         "type": "integer"
        },
        {
         "name": "review",
         "rawType": "object",
         "type": "string"
        },
        {
         "name": "rating",
         "rawType": "float64",
         "type": "float"
        },
        {
         "name": "sentiment",
         "rawType": "int64",
         "type": "integer"
        }
       ],
       "conversionMethod": "pd.DataFrame",
       "ref": "a29e76ba-6230-4bcb-9e92-b048ae4c6f57",
       "rows": [
        [
         "0",
         "Filmi bugün Nişanlımla birlikte izleme şansım oldu. Avatarı ilk izlediğimde nedense çokta etkisinde kalmamıştım. bu filme de gittiğimde ilk filmi unutmuştum bile. Avatar 2 yi izleyince Avatar evreni ilgimi çekmeyi başardı. üçüncü filmi beklemiyorum desem yalan olur. Üçüncü Filmde fantastik ögelerden çok bilim kurgu yönünün ağır basması filmi daha anlamlı kılacağını düşünüyorum. Umarım üçüncü filmde yönetmen bu konuya önem verir. Onun dışında Film son zamanlarda izlediğim en naif en ahlaklı yapım diyebilirim. Ailecek gönül rahatlığıyla gidip izleyebilirsiniz. Günümüz yapımları gibi saçma sapan cinsel içerikli konuşmalardan, hareketlerden ibaret değildi. Filmde iki önemli mesaj vardı bunlardan biri aile diğeri küresel iklim değişikliği yani Doğa. Hep doğaya hemde aile yaşantısına karşı çokça mesaj çokça replik barındıran anlamlı bir filmdi. (Aile olmak hem en büyük zaafımız hemde en büyük gücümüz.) Üç saat olmasına rağmen hiçbir sıkılmadım. Aksiyon ve Trajediyi harmanlayıp izleyiciye çok iyi aktarıldığını düşünüyorum. Görsel efekt çekim teknikleri karakterler ve mekanlar harikulade diyebilirim. Tek kusur gördüğüm şey keşke iyi ve kötünün savaşını sadece bir aile sorununa indirgemeyip bu sorunu gezegenin tüm sorunu olarak göstermesi daha ihtişamlı olabilirdi. Sonuçta düşmanlar gezegene sadece Jake için gelmiyordu gezegeni tümüyle işgal edip, sömürmek için geliyordu. Ayrıca çocuk karakterler filmin yarısından sonra biraz fazla filme dahil olmaya başladı, bu bazı seyircileri sıkmış olabilir. Neyse sonuçta James Cameron müthiş bir evren oluşturmuş, izlemeye değer.",
         "4.0",
         "1"
        ],
        [
         "1",
         "Film gerçekten hakkını veriyor. Saatin nasıl geçtiğini anlamıyorsunuz. Filmin geri kalan serisini sabırsızlıkla bekliyoruz.",
         "5.0",
         "1"
        ],
        [
         "2",
         "Açıkçası film beklentilerimi karşılayamadı. Tabi her şeyin ilki güzel ama son seride iyi olabilirdi. Filmde görsel olarak her şey güzeldi kendimi filmi izledikten sonra ıslanmış gibi hissettim :D Puan kırdığım noktalar filmin bilim kurgudan fantastiğe doğru kayması. Ardından sır kapısına döndürüp iyilik yapan iyilik bulur moduna girmesi. Çoğu sahnelerin çocuklara hitap etmesi. Neyse serinin üçüncü filmi sağlam olucak gibi...",
         "3.5",
         "1"
        ],
        [
         "3",
         "Bu eleştiride spoiler vardır! Avatar the way of Water tam anlamıyla bir dastan olmuş filmi 4dx bir salonda en önün en köşesinden izlememe rağmen filme hayranlık duydum... Filmin görselliğine büyülendim bir an olsun 3 saatlik süresine rağmen sıkılmadım farklı dünyalara atıldım tüm gündelik dertlerimi unutup ağzım açık bir şekilde izledim film bitince başım dönüyordu avatar 2 izlemesi gerçekten yorucu bir film olsada filmi 2. Kez birde imax olarak izleyeceğim. Film benim için dünyanın en iyi ilk 10 filmine girecek düzeyde ilk filmden epey önde muhteşem ötesi destansı bir işti. Şimdi filmi enine boyuna konuşacacağım. Film ilk filmin kaldığı yerden başlıyor Jake ve Neytiri'nin çocukları olmuş,bir aile olmuşlar film zaten tema olarak aile ve babalık üzerinden gidiyor. İlk filmde gördüğümüz Albay Miles kendini navi yapmış ve yine kötü karakter onun dışında filme eklenen ve gelecek filmlerde büyük önemi olacağını düşündüğüm Albayın oğlu Spider var,spider bence filmde iyi işlenmiş bir karakterdi ancak devam filmlerinde bir hainlik yapacsk gibiydi özellikle son kısımda, neyse ondan sonra muhteşem bir görsellik ve kurgu eşliğinde Pandorra 'nın ormanları yakıp Spiderı kaçırıyorlar Albay ve ordusu, bunun üzerine film tam olarak başlıyor diyebiliriz benim filmi ilk filmden daha çok sevmemin en büyük nedeni Pandorranın okyanusları bence ormanlarından daha ilgi çekici bir konu. Bu arada film de en çok yer alan çocuk hem de ilk çocukları olan Neyatam açıkçası filmin sonunda Neyetamın ölmesine hem şaşırdım hem de üzüldüm şaşırmamın nedeni filmde çok yer alıyor ve film onun üzerinden ilerliyor ama böyle giderken birden pat diye ölmesi garipti, neyse filmin sonunda 40 dakikalık bir aksiyon sahnesi var ve bu sahne izlediğim en iyi aksiyon sahnelerinden olabilir. Filmde etkileyici çok yer vardı ama bence etkileyici yer Neyetamın ölüsünü doğumuyla aynı pozisyonda o deniz yerine yatırmalarıydı... Ama ben filmin sonunda Spider 'ın Albayı kurtarmasına aşırı sinir oldum ya Ben cidden bir film daha aynı kötüyü görmek istemiyorum. Toparlarsak bu yazıyı filmi mutlaka izleyin,izletin gencinden,yaşlısına arthousecusundan gişe filmcisine herkesin izlemesi gereken bir başyapıttan bile öte bir şaheser umarım film gişede istediğini bulur ve her zaman böyle kusursuz işler izleriz. MUTLAKA İZLEYİN 10/10",
         "5.0",
         "1"
        ],
        [
         "4",
         "SADECE SİNEMA KONUŞULAN, YORUMLAR YAPILAN, TAVSİYELER ALINIP VERİLEN BİR SİNEMA WHATSAPP GURUBU DÜŞÜNÜN. 2. YILIMIZI KUTLUYORUZ. 05522477170",
         "5.0",
         "1"
        ],
        [
         "5",
         "Şirinlerin teknolojik versiyonu sinemanın geldiği dip nokta birincisi neydi ki ikincisi birşeye benzesin !!!!",
         "0.5",
         "0"
        ],
        [
         "6",
         "Bugün sinemada izledim görsel olarak çok beğendim inşallah devamı gelir serinin ama tabi ilk filmin daha güzeldi sanki",
         "5.0",
         "1"
        ],
        [
         "7",
         "seyretmedim daha ne diyebilirim ki boş konuşmak istemiyorum ilk defa giriyorum siteyee inşallah bekledigim gibi çıkar site",
         "3.0",
         "0"
        ],
        [
         "8",
         "Avatar1 benim en sevdiğim film dir, benim için filmlerin nirvanası ve bu kadar yıl ikincisini bekledikten sonra beklentim çok yüksek gittim. Gelelim avatar 2 ye; görsel efektler muhteşem, emek çok fazla, 3D izledim, bi ara koltuktan düşecekgibiydim tutunma ihtiyacı hissettim. Bunun için 5 yıldız. Gelelim hikayeye; [spoiler][/spoiler]Film Jake nin salak iki oğlunun aptallıkları yüzünden başlarına gelenleri anlatıyor. Film bu ikisine sinir olmakla geçiyor. Hani ilk filmi ormanda yaptıkya ikincisini de denizde çekelim demişler, çekmişler sadece. Ya çocukları kurtarmaya koca bir ordu gittiler, sadece aile (5kişi, jake ve ailesi) ve insan spider savaştı o kadar düşmana karşı. O koca ordu neredeydi, nereye kayboldu biri anlatsın ya? ya spider kardeşim navilerden misin, insanlardan mı? Baban olacak o yavşağı neden kurtardın? o zaman onun yanında kal niye navi lerle kalıyorsun, yada kurtarma.. Netice de en sevdiğim film olarak ben hikayeyi ve işlenişini beğenmedim, çok basit olmuş özellikle bukadar yıl bekledikten sonra. Hani görsel olmasa sıradan bir film. Bu yüzden 2 yıldız kestim. Filmi eğer izleyecekseniz görseli için mutlaka 3D izleyin, çok keyifli. tv de izlerim diyorsanız 3 saatinizi boşa harcamayın. Hikayesi için de beklentinizi yüksek tutmayın.[spoiler][/spoiler]",
         "3.0",
         "0"
        ],
        [
         "9",
         "Berrak denizde su altı gündüz nasıl görünür, bir de gece ışıklar nasıl parıldar, 3,5 saat seyredip çıktık. Oğlum bile pişman oldu, &İlk bölümde de hiç konu yoktu, biz buna niye geldik& diye :) Ben de dedim, &En azından &12 yılda hazırlanan bir film nasıldır acaba?& diye artık merak etmeyeceğiz&. Milyon kere tekrarlanmış klişeler, &muhteşeme efektler& paketinde tekrar sunulmuş (kibarca ifade ediyorum). Efekt meraklıları, evde ortalardan bir yeri açıp 10 dakika bakarlarsa filmi seyretmiş olurlar. Filmin kendisi 6,5'u geçmez, efektlerin hakkını yemeyelim diye 7/10.",
         "3.0",
         "0"
        ],
        [
         "10",
         "Sıkıldım ve başım ağrıdı. Konu sürükleyici değil. Kendilerince görsel bir şölen hazırlamışlar. O yönü fena değil ama bu kadar süre fazla",
         "3.0",
         "0"
        ],
        [
         "11",
         "Film genel olarak güzeldi. Çok az yerde sıkıldım süresi bir tık uzun ama görsel açıdan çok kaliteli bir film olduğu için hiç sıkmıyor. Hikaye olarak bize ailenin önemini anlatan bir film olurken bir yandan farklı farklı karakterlerin kendi öz hikayesini anlatıyor. Bazı yerlerde mantık hataları var o da bir zahmet olsun ama James Cameron döktürmüş yine. Genel olarak Avatar filmini çok seven biri değilim bu filme de gittiğimde ilk filmi unuttum bile tabi bunun sebebi ilk film çok eski olması ama üçüncü filmi beklemiyorum desem yalan olur. Bence gişe rekoları kırabilecek bir film bakalım ilk filmi geçebilecek mi?",
         "3.5",
         "1"
        ],
        [
         "12",
         "Efekt göresel bakımdan mükemmel bir film. Birincisine nazaran daha iyi olmuş. Keyif alacağınız bir film. Ellerinize sağlık avatar ekibi. Mutlaka izleyin",
         "5.0",
         "1"
        ],
        [
         "13",
         "Kesinlikle vakit harcamaya değmez çok sıkılıp yarısında çıktık çocuk çizgi filmi mantığında yapılmış 2.45 dk lık bir zaman kaybı",
         "0.5",
         "0"
        ],
        [
         "14",
         "James Cameron der dururum Bu adam Boş duvarı çekse film yapsa gider seyrederim. Avatar Suyun Yolu Muhteşem görsel şov ve geliştirilmiş cgi efektleri gerçeklik algısı 3D Harika bir biçimde işlenmiş, Öncelikle bu filmi kesinlikle İMAX VEYA SCREEN X3D sinemalarında izlemelisiniz çünkü filmin yapısı ona göre 3 saat lik sürede film hiç kopmuyor sürekli bir action var Jake Sully ve Neytri aile olmuşlar ve farklı bir evrende yeni navi türleriyle Pandora'nın müthiş okyanusu ve harika yeni canlı türlerine ve görsel şölene eşlik edeceksiniz. Filmin Ana teması doğayı Evrenin var oluşundaki enerjiyi ve hayat formlarını aileyi SEVGİYİ ve korumayı çok iyi işlemiş, Tabi senaryo daha da farklı geliştirilebilirdi ama bu devam filminin de geleceği anlamına geliyor. spoiler vermeden söyleyeyim bu tarz fantastik ve bilim kurgu yapıtlarını seviyorsanız gidin rahat kıyafetlerle oturun ve bambaşka hayal dünyasına dalın, Filmden çıkınca da İnsan ırkının hırsının bu evrende nasıl kötü bir tür olduğumuzu bir kez daha düşünün ve sorgulayın.&Her hayat ve enerji geçici verilmiş bir armağındır. zamanı geldiğinde geri vermek gerekir& Teşekkürler James CAMERON iyi seyiler",
         "4.0",
         "1"
        ],
        [
         "15",
         "Filme girmeden önce yorumları okumuştum. Ya çok sevilmiş ya da hiç sevilmemiş olduğunu gördüm. Filmi izledikten sonra anladım ki olumsuz görüş sahiplerinin çoğunun mutsuzlukları mısır cipsi ve kola eşliğinde hepimizin aşina olduğu hollywood estetiği beklentisinin karşılanmamasındanmış. Böyle bir isteğiniz, beklentiniz varsa bu filmden hemen kaçın. Filmin böyle bir derdi yok. Filmin nasıl yaşadığımız, ya da yaşamak zorunda bırakıldıklarımizla ilgili söylemek istediği bir sürü şey var. Bunları , bu memnuniyetsizliklerini de doğal olarak -halinden memnun- bir bakış açısıyla anlatmıyor. Ayrıca size kurtarıcı bir kahraman da vaat etmiyor üzgünüm. Bu bokun içinde bir başınasınız! Şöyle düşünebiliriz, örneğin soğan, sarımsak yemiş bir adamın ağzınızın içine girerek dakikalarca konuşmasını bir 3. kişiye hissettirerek anlatmak istiyorsunuz. Dogru anlatırsanız adamın nasıl canı sıkılır degil mi, bu filmden de onu beklemek lazım. Bence film derdini anlatıyor sadece bazı bölümler bence son 2 bölüm gereğinden fazla hızlandırılmış, bir parça daha sindirerek ilerlerse daha derin bir ürüne dönüşebilirdi. Yine de son 2 yıldır izlediğim en iyi yerli filmdi. Emeği Geçen herkese Teşekkür ederim. Kurak Kayseri'den selamlar",
         "4.0",
         "1"
        ],
        [
         "16",
         "hukukun adaletin yozmasligi, ahlak, harika bir turkiye alegorisi gerilim unsurlarini cok iyi kullanmis seyircinin kendisini rahat hissetmemesini saglamis katharsis yasatmamis tabi ki. alegorinin kotu tarafi sagolsun filmin reklamina cok vesile oldu, ilk haftasonu sayisi kis uykusu ahlat agacini gecmis. kendisini boyle basarilarda gormek cok onur verici cunku filmi tasarladigi siralarda biz muhendislere sinema sanati dersi veriyodu teknik universitede. gercekten inanilmaz dolu bir insan ve hayatimizda aldigimiz en iyi dersti sinif arkadaslarimla.",
         "5.0",
         "1"
        ],
        [
         "17",
         "Nuri Bilge Ceylan tadında bir film Sinema şölenine hoş geldiniz.Yerellikten evrensellige ustaca atlamalar ve ilmek,ilmek örgüsüyle muhteşem bir görsel şölen.",
         "5.0",
         "1"
        ],
        [
         "18",
         "Güzel bir film olmuş. Sürükleyici ve gerilim dolu. Bence son dönemlerdeki en iyi politik film. Günümüz sağ iktidarlarının kirli yüzünü ortaya çıkarmış.",
         "3.5",
         "1"
        ],
        [
         "19",
         "Emin Alper son yılların en iyi yönetmenlerinden biri. Daha önce Kızkardeşler filmini çok beğenmiştim. Filmin başlangıcı ve finali çarpıcı. Çekimleriyle ve temasıyla muhteşem bir film. Oyuncular da çok başarılı. Eğer sadece eğlenmek için film izliyorsanız size hitap etmez.",
         "5.0",
         "1"
        ],
        [
         "20",
         "Büyük bir hevesle gittiğim film, hayal kırıklığı ile sonuçlandı. Sıkıcı ve amaçsız bir film. Vermek istediği bir mesaj yok",
         "0.5",
         "0"
        ],
        [
         "21",
         "İstanbul Forum sinemasında bu filmi 17.12 2022 tarihinde izledim izlediğime izleyeceğime her türlü pişman oldum bir tiyatro yönetmeni olarak filmde hiçbir şeyi anlatmayayım amaçsız bir olgu uğruna beni meşgul eden sevgili yönetmen meslektaşıma sevgilerimi iletiyorum anladınız siz beş para etmez bir film sakın gitmeyin zaten yakında TV'ye düşer ya da internete düşer oradan izlersiniz eğer izleyeceksiniz",
         "1.0",
         "0"
        ],
        [
         "22",
         "Berbat bir film sonu yok gidin çizmeli kedi izleyin daha mantıklıdır bundan - yıldız olsa o bile fazla gerçekten",
         "1.0",
         "0"
        ],
        [
         "23",
         "Film tek kelimeyle muhteşemdi ,emeği geçen herkesin o kocaman yüreklerine sağlık diliyorum...Üllkemizin gerçeklerini tokat gibi yüzümüze vuruyor.Bittiğinde ise gerçekten aydın, iyi ve farkında olan insanların zihinlerinde ve kalplerinde iyileşebilmek için ve ülkemizi iyileştirebilmek için yanması gereken bir kutu kibriti ateşliyor...Diğerleri içinse bir nebze ar duygusu oluşturmuş olmalı.Umuyorum...Bir hayvanın leşine kıyamayan ruhun, canavara dönüşmüş insancıkların akan salyalarıyla kovalanıyor olması gerçeği, kötü ruhları rahatsız etmiş olmalı.Kötü olmanın bedeli olan tokadı bu filmle yemiş olmalılar, ar duymalılar..Bir filmden, bir sanatçıdan beklentimiz nedir bizim? Gerçekleri yüzlere vurması değil midir? Kendimizle yüzleşmemiz değil midir isteğimiz? Bana göre gerçek sanatçılar bu dünyada tanrının elçileridir.Onlar insanlığı doğruya, güzelliğe ,dürüstlüğe, insanca ve barış içinde yaşamaya yöneltirler hayata gelme amaçları budur...Eleştirirler ve gerekirse tokat da atıp kendimize gelmemizi sağlarlar.Ve bu uğurda o cesur yürekleri hedef de olur ve bu elçilerin sayıları çok değildir.Bu filmin ve bana göre &elçi& &Emin Alper& in ve tüm ekibinin kıymetinin bilinmesini tüm kalbimle umuyorum...",
         "5.0",
         "1"
        ],
        [
         "24",
         "İzlediğim en iyi yerli dizi. Görselinden anlatmaya çalıştığı mesaja kadar çok iyiydi. Kasaba Türkiye'nin küçük versiyonu gibiydi. Beğenmeyenler aksiyon filmi bekleyip gitmiş hehalde.",
         "5.0",
         "1"
        ],
        [
         "25",
         "Bir film bu kadar mı özenilmeden çekilir. En azından bir hukukçu ve emniyetten bir danışman kullanılsaydı. Bu devirde bıyıklı üniformalı polis mi olur. Bir savcı böyle basit hatalar yapacak kadar cahil olamaz... Verilen emeğe yazık.",
         "1.0",
         "0"
        ],
        [
         "26",
         "Uzun zamandır, bir film bittikten sonra oturduğum yerde çakılı kaldığımı hatırlamıyorum. Bu film bana bu anı tekrar yaşattı.",
         "5.0",
         "1"
        ],
        [
         "27",
         "sinemaya verdiğim para değilde 2 saatimin çöpe gitmesi koydu bir kere mimik oynatamadım izlemeyin vaktinize yazık olur",
         "1.0",
         "0"
        ],
        [
         "28",
         "Hayatımda izlediğim en kötü filmlerden bir tanesiydi diyebilirim. Oyunculuklarda senaryo da çok vasattı👎🏻",
         "0.5",
         "0"
        ],
        [
         "29",
         "Gerçekten bu ekipten bekmedigim bir performans olmuş bir sahnesinde dahi gulemedik ilk yarıda cikicaktik ama belki ikinci yarıda olur birşeyler dedik ama malesef",
         "0.5",
         "0"
        ],
        [
         "30",
         "ÇOKKK ÇOKKK ÇOKK KÖTÜ VERDİĞİM PARAYA DEĞİL BOŞA GEÇEN 2 SATİME ÜZÜLÜYORUM. FİLM AŞIRI ÇIPLAKLIK VE CİNSELLİK İÇERİYOR REZALET BU EKİPTEN BUKADAR KÖTÜSÜNÜ BEKLEMEZDİK !!!",
         "1.0",
         "0"
        ],
        [
         "31",
         "İnanılmaz kötüydü,sürekli küfür,sürekli bel altı,bi karının tahrik oluşunu açık açık izletiyorlar,siyasi mesajlar bilmem ne. Biz film izlemeye bunlar için mi geliyoruz ya ? Özellikle bunlara mı gülmemiz gerekiyor ? Serinin en beter filmiydi. İzlediğim en kötü filmler sıralamasına da girer. Ne edep kaldı ne haya. Sinemada bir düzine 13+ çocuk var ve bu filmin 13+ olma şansı yok.Yazık ki bu çocuklar bunları izliyor .18+ dır kesinlikle , gerçi bunu kim önemsiyor ki artık. Üzücü olaylar çok üzücü.",
         "0.5",
         "0"
        ],
        [
         "32",
         "Filmde çok fazla gereksiz sahne ve doğal olarak birçok mantık hatası vardı. Sıkılmadan zaman geçti ancak nitelik olarak bu oyunculardan beklenenin altında kalan bir film. Kötü.",
         "1.5",
         "0"
        ],
        [
         "33",
         "Bu ekipten bu kadar berbat bi film çıkması üzdü Zaman kaybından başka bir şey değil Komedi diye gidip hiç gülmediğim ve salondan da gülme sesi duymadığım berbat bir filmdi",
         "0.5",
         "0"
        ],
        [
         "34",
         "Gerçekten vasat bir film olmuş kesinlikle +18 olarak belirtilmeliydi. Bu kadrodan böyle bir film beklemezdim.",
         "0.5",
         "0"
        ],
        [
         "35",
         "bence gayet konusu ve esprileri güzeldi ben beğendim imbdsi 7yi hakediyor diye düsünüyor en cokta deli hikmette güldüm :D cok iyiydi",
         "5.0",
         "1"
        ],
        [
         "36",
         "Berbat ... Zaman kaybı .... Ucuz bir film ... Hatta film bile yok ortada daha sinemada izlerken yazıyorum ki gitmeyin gişe yapmasın ki böyle film yapmasinlar vizyonsuz senaristler. ...",
         "0.5",
         "0"
        ],
        [
         "37",
         "sinema kültürü gitikçe tükenen ülkemizde dijital mecraların çoğalmasına rağmen ben çakallarla dans 6 filmine gitim merak ettiğimden keşke gitmeseydim içimde hep bir merak olarak kalması çok daha iyi olurdu",
         "1.5",
         "0"
        ],
        [
         "38",
         "filmin ilk yarısında hiç bir şey yoktu dedim ne zaman çakallık yapacak bunlar, son 15dk hareketlendi, anca müzikle şişirilmiş bir film, eğerki konununuz yoksa yapmayın kardeşim seriye devam etmeyin yazık günah verdiğimiz paraya mı acıyalım yoksa zamanımıza mı, tek olumlu yanı sinemaya eşimle gittim sadece ikimiz vardık salonu kapatmış gibi oldum onun havasını attım :)",
         "0.5",
         "0"
        ],
        [
         "39",
         "2 yıldız, ama sadece kadroyu sevdiğim için. Onun dışında senaryo berbat. Filmden beklentim yüksekti ancak hayal kırıklığı oldu tavsiye etmiyorum.",
         "2.0",
         "0"
        ],
        [
         "40",
         "Berbat bir film ilk yarıda salondan çıktık kesinlikle komik tek bir sahnesi bile yok verilen parayada yazık",
         "0.5",
         "0"
        ],
        [
         "41",
         "Arkadaşlar filmi izledim normalde 0.5 yıldız vericektim ama oyuncu kadrosundan 1 puan ekledim.Öncelikle filmde küfür olmasa hiçbir şekilde komiklik falan yok ve saçma ötesi film bunun yerine Vahşi Gece filmine gidicektim arkadaşlar ısrar etti o yüzden buna geldim.yani gelmenizi tavsiye etmiyeceğim bir film zaten 5-10 gün sonra kaçağı çıkar ve saçma yani komikte değil harbiden saçma bir film olmuş gitmeyin",
         "1.5",
         "0"
        ],
        [
         "42",
         "Filmi beğenmeyen aradığı heyecanı bulamayan herkese söyleyeceğim şu ki 15 yaşında gencliğinin baharında şehit edilen bir çocuk ile hayatını mesleğine adamış yaşamamış yaşatmış bir asker ne yaşamış olabilir o yaşlarına kadar? Nasıl bir aksiyon ya da nasıl bir heyecan bekliyordunuz? Yapılan bu film abartıdan uzak yaşanılan hayatı net temiz şekilde ortaya koyan bir film. Ne bizi duygu olarak ağır drama sürüklemek zorunda ne de savaş filmlerinde ki gibi aksiyon dolu sahneler olmak zorunda. Onların hayatı buydu ve o şekilde hatıra bırakıldı. Kimsenin beklentisini karşılamak zorunda değiller. Bu film kurgu değil ki daha Baska hissettirsin. Onların acısını onların yarım kalmış hayatlarını kalbinde hisseden herkesi derinden etkileyen bir yapıt. Ne kurgu hayatlar ne de gerceklikten uzak sahneler yok. Önemli olan ereni ve Ferhat başçavuşu bilmek anlamak hayatlarını ne şartlarda sürdürmüşler farkına varmak. Anısını tazelemek. Unuttuğumuz her bir değeri yeniden anlamak. Bir kez daha onların varlığını hissetmek. Bizim haberimiz yokken ne hayatlar yaşanıyor ve bitiyor görmek. Bu ülkeye kanını sermiş bu şehitleri yakından tanımak. Perde arkasını bilmek haberlerde izledğimizden çok. İşte bu yüzden bizi bu filmle buluşturan herkese sonsuz teşekkürler. Gözümüz yaşlı kalbimiz yorgun ayrıldık sonunda. Allah yakınlarına sabır versin... Heyecan ve aksiyon arayan başka filmlere bilet alsın. Bu film o filmlerden değil.",
         "5.0",
         "1"
        ],
        [
         "43",
         "Tek kelimeyle harikaydı,severek, ağlayarak izledim.Çok kaliteli bir flim olmuş.Gerçek hayatları anlatması ayrı güzel. emeği geçen herkese teşekkürler.🙏 İyiki varsın Eren❤️",
         "5.0",
         "1"
        ],
        [
         "44",
         "cok duygusallık var set gayet güzel ve gercekten sanki gercek olay gibi iyiki varsın eren iyiki varsın eren iyiki varsın eren",
         "5.0",
         "1"
        ],
        [
         "45",
         "Film tek kelimeyle muhteşemdi Tavsiye ederim gidebilirsiniz harika [spoiler][/spoiler] İYİKİ VARSIN ERRN",
         "5.0",
         "1"
        ],
        [
         "46",
         "Gerçekten bu kadar mükemmel bir film beklemiyordum filmin sonlarına kadar bir iki tane sevmediğim yeri olsada film finaliyle öyle bir çarptıki o Erenin vurulma anı ve sonrasında çıkan görüntülerde o kadar ağladımki her şeyi ile mükemmel bir film. Eren iyi ki varsın... son olarakta Eren gibi bir kahramanın filminin çekilmesi zoruna giden vatan hainlerine vatanını milletini sevmeyen insanlara bu filmi bir duygu sömürüsü olarak gören s*k kafalılara bir şey demek istiyorum ne ara bu kadar vicdansız oldunuz Eren gibi birinin filmi çekilmiyecekte salak salak insanların mı filmi çekilcek? Noldu zorunuzamı gitti??? Bir kere eğer duygu sömürüsü yapıcak olsalar Ferhat Gediğin ağlayan çocuklarını geride bıraktığı karısını gösterirlerdi Eren'in ağlayan annesini geride bıraktığı 10 kardeşini gösterirlerdi. Son olarakta bu film küçük bir çocuğun üzerinden yapılan bir prim değil sizin bu filmi eleştirmek bahanesiyle Ereni kötülemeniz prim yazıklar olsun hepinize...",
         "5.0",
         "1"
        ],
        [
         "47",
         "Bir Hollywood fimi değil.ama bence harika.bizden bir film.beğenmeyen ne amaçlı gitti bilinmez ama gayet iyi anlatılmış.",
         "4.5",
         "1"
        ],
        [
         "48",
         "Çok duygusal güzel bir film olmuş. Oyuncularda hakkını vermiş. İzlenmesi gereken bir film, tavsiye ederim.",
         "5.0",
         "1"
        ],
        [
         "49",
         "Şimdi sinemadan çıktım ailecek göz yaşlarımızı hala tutamıyoruz. Sanki oradaymışım gibi yaşadım filmi resmen. Biz çok beğendik çok etkilendik. Rabbim tüm şehitlerimizin, Ferhat astsubay ve Eren kardeşimin makamını cenneti-alâ eylesin. Mazlumların ciğerlerini yakanlara dünyada ve ahirette gün yüzü göstermesin Amin",
         "5.0",
         "1"
        ]
       ],
       "shape": {
        "columns": 3,
        "rows": 45280
       }
      },
      "text/html": [
       "<div>\n",
       "<style scoped>\n",
       "    .dataframe tbody tr th:only-of-type {\n",
       "        vertical-align: middle;\n",
       "    }\n",
       "\n",
       "    .dataframe tbody tr th {\n",
       "        vertical-align: top;\n",
       "    }\n",
       "\n",
       "    .dataframe thead th {\n",
       "        text-align: right;\n",
       "    }\n",
       "</style>\n",
       "<table border=\"1\" class=\"dataframe\">\n",
       "  <thead>\n",
       "    <tr style=\"text-align: right;\">\n",
       "      <th></th>\n",
       "      <th>review</th>\n",
       "      <th>rating</th>\n",
       "      <th>sentiment</th>\n",
       "    </tr>\n",
       "  </thead>\n",
       "  <tbody>\n",
       "    <tr>\n",
       "      <th>0</th>\n",
       "      <td>Filmi bugün Nişanlımla birlikte izleme şansım ...</td>\n",
       "      <td>4.0</td>\n",
       "      <td>1</td>\n",
       "    </tr>\n",
       "    <tr>\n",
       "      <th>1</th>\n",
       "      <td>Film gerçekten hakkını veriyor. Saatin nasıl g...</td>\n",
       "      <td>5.0</td>\n",
       "      <td>1</td>\n",
       "    </tr>\n",
       "    <tr>\n",
       "      <th>2</th>\n",
       "      <td>Açıkçası film beklentilerimi karşılayamadı. Ta...</td>\n",
       "      <td>3.5</td>\n",
       "      <td>1</td>\n",
       "    </tr>\n",
       "    <tr>\n",
       "      <th>3</th>\n",
       "      <td>Bu eleştiride spoiler vardır! Avatar the way o...</td>\n",
       "      <td>5.0</td>\n",
       "      <td>1</td>\n",
       "    </tr>\n",
       "    <tr>\n",
       "      <th>4</th>\n",
       "      <td>SADECE SİNEMA KONUŞULAN, YORUMLAR YAPILAN, TAV...</td>\n",
       "      <td>5.0</td>\n",
       "      <td>1</td>\n",
       "    </tr>\n",
       "    <tr>\n",
       "      <th>...</th>\n",
       "      <td>...</td>\n",
       "      <td>...</td>\n",
       "      <td>...</td>\n",
       "    </tr>\n",
       "    <tr>\n",
       "      <th>45275</th>\n",
       "      <td>Film konu olarak ilginç, ancak filmde eksik bi...</td>\n",
       "      <td>2.5</td>\n",
       "      <td>0</td>\n",
       "    </tr>\n",
       "    <tr>\n",
       "      <th>45276</th>\n",
       "      <td>Film çok ilginç bir senaryoya sahip. sıradanlı...</td>\n",
       "      <td>4.0</td>\n",
       "      <td>1</td>\n",
       "    </tr>\n",
       "    <tr>\n",
       "      <th>45277</th>\n",
       "      <td>Büyük bir vakit kaybı. Televizyonu açıp rastge...</td>\n",
       "      <td>1.0</td>\n",
       "      <td>0</td>\n",
       "    </tr>\n",
       "    <tr>\n",
       "      <th>45278</th>\n",
       "      <td>Film çok güzel.Mutlaka izleyin.Bide arkadaşlar...</td>\n",
       "      <td>5.0</td>\n",
       "      <td>1</td>\n",
       "    </tr>\n",
       "    <tr>\n",
       "      <th>45279</th>\n",
       "      <td>bu filmi bulun ve izleyin.. Senaryosu benim ço...</td>\n",
       "      <td>4.0</td>\n",
       "      <td>1</td>\n",
       "    </tr>\n",
       "  </tbody>\n",
       "</table>\n",
       "<p>45280 rows × 3 columns</p>\n",
       "</div>"
      ],
      "text/plain": [
       "                                                  review  rating  sentiment\n",
       "0      Filmi bugün Nişanlımla birlikte izleme şansım ...     4.0          1\n",
       "1      Film gerçekten hakkını veriyor. Saatin nasıl g...     5.0          1\n",
       "2      Açıkçası film beklentilerimi karşılayamadı. Ta...     3.5          1\n",
       "3      Bu eleştiride spoiler vardır! Avatar the way o...     5.0          1\n",
       "4      SADECE SİNEMA KONUŞULAN, YORUMLAR YAPILAN, TAV...     5.0          1\n",
       "...                                                  ...     ...        ...\n",
       "45275  Film konu olarak ilginç, ancak filmde eksik bi...     2.5          0\n",
       "45276  Film çok ilginç bir senaryoya sahip. sıradanlı...     4.0          1\n",
       "45277  Büyük bir vakit kaybı. Televizyonu açıp rastge...     1.0          0\n",
       "45278  Film çok güzel.Mutlaka izleyin.Bide arkadaşlar...     5.0          1\n",
       "45279  bu filmi bulun ve izleyin.. Senaryosu benim ço...     4.0          1\n",
       "\n",
       "[45280 rows x 3 columns]"
      ]
     },
     "execution_count": 7,
     "metadata": {},
     "output_type": "execute_result"
    }
   ],
   "source": [
    "# Puanı 3.5 ve üzeri olanları olumlu (1), altındakileri olumsuz (0) olarak etiketle\n",
    "df['sentiment'] = df['rating'].apply(lambda x: 1 if x >= 3.5 else 0)\n",
    "df"
   ]
  },
  {
   "cell_type": "markdown",
   "metadata": {},
   "source": [
    "## Veriyi Keşfet"
   ]
  },
  {
   "cell_type": "code",
   "execution_count": 9,
   "metadata": {},
   "outputs": [
    {
     "data": {
      "image/png": "[encoded data removed]",
      "text/plain": [
       "<Figure size 640x480 with 1 Axes>"
      ]
     },
     "metadata": {},
     "output_type": "display_data"
    }
   ],
   "source": [
    "import matplotlib.pyplot as plt\n",
    "df['sentiment'].value_counts().plot(kind='bar', color=['blue', 'red'])\n",
    "plt.title(\"Pozitif ve Negatif Yorumların Dağılımı\")\n",
    "plt.xlabel(\"Duygu\")\n",
    "plt.ylabel(\"Frekans\")\n",
    "plt.show()\n"
   ]
  },
  {
   "cell_type": "markdown",
   "metadata": {},
   "source": [
    "## Veriyi Temizle"
   ]
  },
  {
   "cell_type": "code",
   "execution_count": 17,
   "metadata": {},
   "outputs": [],
   "source": [
    "def metni_temizle(text):\n",
    "    text = text.lower()  # Küçük harfe çevir\n",
    "    text = re.sub(r'[^\\w\\s]', '', text)  # Noktalama işaretlerini kaldır\n",
    "    words = text.split()\n",
    "    words = [word for word in words if word not in stop_words]  # Stopwords temizle\n",
    "    return \" \".join(words)\n",
    "\n",
    "df['cleaned_review'] = df['review'].apply(metni_temizle)\n"
   ]
  },
  {
   "cell_type": "markdown",
   "metadata": {},
   "source": [
    "## Metinleri Sayısallaştır (tokenization)"
   ]
  },
  {
   "cell_type": "code",
   "execution_count": 12,
   "metadata": {},
   "outputs": [],
   "source": [
    "vectorizer = TfidfVectorizer(max_features=5000)  # En sık kullanılan 5000 kelimeyi kullan\n",
    "X = vectorizer.fit_transform(df['cleaned_review']).toarray()"
   ]
  },
  {
   "cell_type": "markdown",
   "metadata": {},
   "source": [
    "## Veriyi Eğitim ve Test Setine Ayır (train-test-split)"
   ]
  },
  {
   "cell_type": "code",
   "execution_count": 13,
   "metadata": {},
   "outputs": [],
   "source": [
    "y = df['sentiment']\n",
    "X_train, X_test, y_train, y_test = train_test_split(X, y, test_size=0.2, random_state=42, stratify=y)"
   ]
  },
  {
   "cell_type": "markdown",
   "metadata": {},
   "source": [
    "## Modeli Seç ve Eğit "
   ]
  },
  {
   "cell_type": "code",
   "execution_count": 14,
   "metadata": {},
   "outputs": [
    {
     "data": {
      "text/html": [
       "<style>#sk-container-id-1 {\n",
       "  /* Definition of color scheme common for light and dark mode */\n",
       "  --sklearn-color-text: #000;\n",
       "  --sklearn-color-text-muted: #666;\n",
       "  --sklearn-color-line: gray;\n",
       "  /* Definition of color scheme for unfitted estimators */\n",
       "  --sklearn-color-unfitted-level-0: #fff5e6;\n",
       "  --sklearn-color-unfitted-level-1: #f6e4d2;\n",
       "  --sklearn-color-unfitted-level-2: #ffe0b3;\n",
       "  --sklearn-color-unfitted-level-3: chocolate;\n",
       "  /* Definition of color scheme for fitted estimators */\n",
       "  --sklearn-color-fitted-level-0: #f0f8ff;\n",
       "  --sklearn-color-fitted-level-1: #d4ebff;\n",
       "  --sklearn-color-fitted-level-2: #b3dbfd;\n",
       "  --sklearn-color-fitted-level-3: cornflowerblue;\n",
       "\n",
       "  /* Specific color for light theme */\n",
       "  --sklearn-color-text-on-default-background: var(--sg-text-color, var(--theme-code-foreground, var(--jp-content-font-color1, black)));\n",
       "  --sklearn-color-background: var(--sg-background-color, var(--theme-background, var(--jp-layout-color0, white)));\n",
       "  --sklearn-color-border-box: var(--sg-text-color, var(--theme-code-foreground, var(--jp-content-font-color1, black)));\n",
       "  --sklearn-color-icon: #696969;\n",
       "\n",
       "  @media (prefers-color-scheme: dark) {\n",
       "    /* Redefinition of color scheme for dark theme */\n",
       "    --sklearn-color-text-on-default-background: var(--sg-text-color, var(--theme-code-foreground, var(--jp-content-font-color1, white)));\n",
       "    --sklearn-color-background: var(--sg-background-color, var(--theme-background, var(--jp-layout-color0, #111)));\n",
       "    --sklearn-color-border-box: var(--sg-text-color, var(--theme-code-foreground, var(--jp-content-font-color1, white)));\n",
       "    --sklearn-color-icon: #878787;\n",
       "  }\n",
       "}\n",
       "\n",
       "#sk-container-id-1 {\n",
       "  color: var(--sklearn-color-text);\n",
       "}\n",
       "\n",
       "#sk-container-id-1 pre {\n",
       "  padding: 0;\n",
       "}\n",
       "\n",
       "#sk-container-id-1 input.sk-hidden--visually {\n",
       "  border: 0;\n",
       "  clip: rect(1px 1px 1px 1px);\n",
       "  clip: rect(1px, 1px, 1px, 1px);\n",
       "  height: 1px;\n",
       "  margin: -1px;\n",
       "  overflow: hidden;\n",
       "  padding: 0;\n",
       "  position: absolute;\n",
       "  width: 1px;\n",
       "}\n",
       "\n",
       "#sk-container-id-1 div.sk-dashed-wrapped {\n",
       "  border: 1px dashed var(--sklearn-color-line);\n",
       "  margin: 0 0.4em 0.5em 0.4em;\n",
       "  box-sizing: border-box;\n",
       "  padding-bottom: 0.4em;\n",
       "  background-color: var(--sklearn-color-background);\n",
       "}\n",
       "\n",
       "#sk-container-id-1 div.sk-container {\n",
       "  /* jupyter's `normalize.less` sets `[hidden] { display: none; }`\n",
       "     but bootstrap.min.css set `[hidden] { display: none !important; }`\n",
       "     so we also need the `!important` here to be able to override the\n",
       "     default hidden behavior on the sphinx rendered scikit-learn.org.\n",
       "     See: https://github.com/scikit-learn/scikit-learn/issues/21755 */\n",
       "  display: inline-block !important;\n",
       "  position: relative;\n",
       "}\n",
       "\n",
       "#sk-container-id-1 div.sk-text-repr-fallback {\n",
       "  display: none;\n",
       "}\n",
       "\n",
       "div.sk-parallel-item,\n",
       "div.sk-serial,\n",
       "div.sk-item {\n",
       "  /* draw centered vertical line to link estimators */\n",
       "  background-image: linear-gradient(var(--sklearn-color-text-on-default-background), var(--sklearn-color-text-on-default-background));\n",
       "  background-size: 2px 100%;\n",
       "  background-repeat: no-repeat;\n",
       "  background-position: center center;\n",
       "}\n",
       "\n",
       "/* Parallel-specific style estimator block */\n",
       "\n",
       "#sk-container-id-1 div.sk-parallel-item::after {\n",
       "  content: \"\";\n",
       "  width: 100%;\n",
       "  border-bottom: 2px solid var(--sklearn-color-text-on-default-background);\n",
       "  flex-grow: 1;\n",
       "}\n",
       "\n",
       "#sk-container-id-1 div.sk-parallel {\n",
       "  display: flex;\n",
       "  align-items: stretch;\n",
       "  justify-content: center;\n",
       "  background-color: var(--sklearn-color-background);\n",
       "  position: relative;\n",
       "}\n",
       "\n",
       "#sk-container-id-1 div.sk-parallel-item {\n",
       "  display: flex;\n",
       "  flex-direction: column;\n",
       "}\n",
       "\n",
       "#sk-container-id-1 div.sk-parallel-item:first-child::after {\n",
       "  align-self: flex-end;\n",
       "  width: 50%;\n",
       "}\n",
       "\n",
       "#sk-container-id-1 div.sk-parallel-item:last-child::after {\n",
       "  align-self: flex-start;\n",
       "  width: 50%;\n",
       "}\n",
       "\n",
       "#sk-container-id-1 div.sk-parallel-item:only-child::after {\n",
       "  width: 0;\n",
       "}\n",
       "\n",
       "/* Serial-specific style estimator block */\n",
       "\n",
       "#sk-container-id-1 div.sk-serial {\n",
       "  display: flex;\n",
       "  flex-direction: column;\n",
       "  align-items: center;\n",
       "  background-color: var(--sklearn-color-background);\n",
       "  padding-right: 1em;\n",
       "  padding-left: 1em;\n",
       "}\n",
       "\n",
       "\n",
       "/* Toggleable style: style used for estimator/Pipeline/ColumnTransformer box that is\n",
       "clickable and can be expanded/collapsed.\n",
       "- Pipeline and ColumnTransformer use this feature and define the default style\n",
       "- Estimators will overwrite some part of the style using the `sk-estimator` class\n",
       "*/\n",
       "\n",
       "/* Pipeline and ColumnTransformer style (default) */\n",
       "\n",
       "#sk-container-id-1 div.sk-toggleable {\n",
       "  /* Default theme specific background. It is overwritten whether we have a\n",
       "  specific estimator or a Pipeline/ColumnTransformer */\n",
       "  background-color: var(--sklearn-color-background);\n",
       "}\n",
       "\n",
       "/* Toggleable label */\n",
       "#sk-container-id-1 label.sk-toggleable__label {\n",
       "  cursor: pointer;\n",
       "  display: flex;\n",
       "  width: 100%;\n",
       "  margin-bottom: 0;\n",
       "  padding: 0.5em;\n",
       "  box-sizing: border-box;\n",
       "  text-align: center;\n",
       "  align-items: start;\n",
       "  justify-content: space-between;\n",
       "  gap: 0.5em;\n",
       "}\n",
       "\n",
       "#sk-container-id-1 label.sk-toggleable__label .caption {\n",
       "  font-size: 0.6rem;\n",
       "  font-weight: lighter;\n",
       "  color: var(--sklearn-color-text-muted);\n",
       "}\n",
       "\n",
       "#sk-container-id-1 label.sk-toggleable__label-arrow:before {\n",
       "  /* Arrow on the left of the label */\n",
       "  content: \"▸\";\n",
       "  float: left;\n",
       "  margin-right: 0.25em;\n",
       "  color: var(--sklearn-color-icon);\n",
       "}\n",
       "\n",
       "#sk-container-id-1 label.sk-toggleable__label-arrow:hover:before {\n",
       "  color: var(--sklearn-color-text);\n",
       "}\n",
       "\n",
       "/* Toggleable content - dropdown */\n",
       "\n",
       "#sk-container-id-1 div.sk-toggleable__content {\n",
       "  max-height: 0;\n",
       "  max-width: 0;\n",
       "  overflow: hidden;\n",
       "  text-align: left;\n",
       "  /* unfitted */\n",
       "  background-color: var(--sklearn-color-unfitted-level-0);\n",
       "}\n",
       "\n",
       "#sk-container-id-1 div.sk-toggleable__content.fitted {\n",
       "  /* fitted */\n",
       "  background-color: var(--sklearn-color-fitted-level-0);\n",
       "}\n",
       "\n",
       "#sk-container-id-1 div.sk-toggleable__content pre {\n",
       "  margin: 0.2em;\n",
       "  border-radius: 0.25em;\n",
       "  color: var(--sklearn-color-text);\n",
       "  /* unfitted */\n",
       "  background-color: var(--sklearn-color-unfitted-level-0);\n",
       "}\n",
       "\n",
       "#sk-container-id-1 div.sk-toggleable__content.fitted pre {\n",
       "  /* unfitted */\n",
       "  background-color: var(--sklearn-color-fitted-level-0);\n",
       "}\n",
       "\n",
       "#sk-container-id-1 input.sk-toggleable__control:checked~div.sk-toggleable__content {\n",
       "  /* Expand drop-down */\n",
       "  max-height: 200px;\n",
       "  max-width: 100%;\n",
       "  overflow: auto;\n",
       "}\n",
       "\n",
       "#sk-container-id-1 input.sk-toggleable__control:checked~label.sk-toggleable__label-arrow:before {\n",
       "  content: \"▾\";\n",
       "}\n",
       "\n",
       "/* Pipeline/ColumnTransformer-specific style */\n",
       "\n",
       "#sk-container-id-1 div.sk-label input.sk-toggleable__control:checked~label.sk-toggleable__label {\n",
       "  color: var(--sklearn-color-text);\n",
       "  background-color: var(--sklearn-color-unfitted-level-2);\n",
       "}\n",
       "\n",
       "#sk-container-id-1 div.sk-label.fitted input.sk-toggleable__control:checked~label.sk-toggleable__label {\n",
       "  background-color: var(--sklearn-color-fitted-level-2);\n",
       "}\n",
       "\n",
       "/* Estimator-specific style */\n",
       "\n",
       "/* Colorize estimator box */\n",
       "#sk-container-id-1 div.sk-estimator input.sk-toggleable__control:checked~label.sk-toggleable__label {\n",
       "  /* unfitted */\n",
       "  background-color: var(--sklearn-color-unfitted-level-2);\n",
       "}\n",
       "\n",
       "#sk-container-id-1 div.sk-estimator.fitted input.sk-toggleable__control:checked~label.sk-toggleable__label {\n",
       "  /* fitted */\n",
       "  background-color: var(--sklearn-color-fitted-level-2);\n",
       "}\n",
       "\n",
       "#sk-container-id-1 div.sk-label label.sk-toggleable__label,\n",
       "#sk-container-id-1 div.sk-label label {\n",
       "  /* The background is the default theme color */\n",
       "  color: var(--sklearn-color-text-on-default-background);\n",
       "}\n",
       "\n",
       "/* On hover, darken the color of the background */\n",
       "#sk-container-id-1 div.sk-label:hover label.sk-toggleable__label {\n",
       "  color: var(--sklearn-color-text);\n",
       "  background-color: var(--sklearn-color-unfitted-level-2);\n",
       "}\n",
       "\n",
       "/* Label box, darken color on hover, fitted */\n",
       "#sk-container-id-1 div.sk-label.fitted:hover label.sk-toggleable__label.fitted {\n",
       "  color: var(--sklearn-color-text);\n",
       "  background-color: var(--sklearn-color-fitted-level-2);\n",
       "}\n",
       "\n",
       "/* Estimator label */\n",
       "\n",
       "#sk-container-id-1 div.sk-label label {\n",
       "  font-family: monospace;\n",
       "  font-weight: bold;\n",
       "  display: inline-block;\n",
       "  line-height: 1.2em;\n",
       "}\n",
       "\n",
       "#sk-container-id-1 div.sk-label-container {\n",
       "  text-align: center;\n",
       "}\n",
       "\n",
       "/* Estimator-specific */\n",
       "#sk-container-id-1 div.sk-estimator {\n",
       "  font-family: monospace;\n",
       "  border: 1px dotted var(--sklearn-color-border-box);\n",
       "  border-radius: 0.25em;\n",
       "  box-sizing: border-box;\n",
       "  margin-bottom: 0.5em;\n",
       "  /* unfitted */\n",
       "  background-color: var(--sklearn-color-unfitted-level-0);\n",
       "}\n",
       "\n",
       "#sk-container-id-1 div.sk-estimator.fitted {\n",
       "  /* fitted */\n",
       "  background-color: var(--sklearn-color-fitted-level-0);\n",
       "}\n",
       "\n",
       "/* on hover */\n",
       "#sk-container-id-1 div.sk-estimator:hover {\n",
       "  /* unfitted */\n",
       "  background-color: var(--sklearn-color-unfitted-level-2);\n",
       "}\n",
       "\n",
       "#sk-container-id-1 div.sk-estimator.fitted:hover {\n",
       "  /* fitted */\n",
       "  background-color: var(--sklearn-color-fitted-level-2);\n",
       "}\n",
       "\n",
       "/* Specification for estimator info (e.g. \"i\" and \"?\") */\n",
       "\n",
       "/* Common style for \"i\" and \"?\" */\n",
       "\n",
       ".sk-estimator-doc-link,\n",
       "a:link.sk-estimator-doc-link,\n",
       "a:visited.sk-estimator-doc-link {\n",
       "  float: right;\n",
       "  font-size: smaller;\n",
       "  line-height: 1em;\n",
       "  font-family: monospace;\n",
       "  background-color: var(--sklearn-color-background);\n",
       "  border-radius: 1em;\n",
       "  height: 1em;\n",
       "  width: 1em;\n",
       "  text-decoration: none !important;\n",
       "  margin-left: 0.5em;\n",
       "  text-align: center;\n",
       "  /* unfitted */\n",
       "  border: var(--sklearn-color-unfitted-level-1) 1pt solid;\n",
       "  color: var(--sklearn-color-unfitted-level-1);\n",
       "}\n",
       "\n",
       ".sk-estimator-doc-link.fitted,\n",
       "a:link.sk-estimator-doc-link.fitted,\n",
       "a:visited.sk-estimator-doc-link.fitted {\n",
       "  /* fitted */\n",
       "  border: var(--sklearn-color-fitted-level-1) 1pt solid;\n",
       "  color: var(--sklearn-color-fitted-level-1);\n",
       "}\n",
       "\n",
       "/* On hover */\n",
       "div.sk-estimator:hover .sk-estimator-doc-link:hover,\n",
       ".sk-estimator-doc-link:hover,\n",
       "div.sk-label-container:hover .sk-estimator-doc-link:hover,\n",
       ".sk-estimator-doc-link:hover {\n",
       "  /* unfitted */\n",
       "  background-color: var(--sklearn-color-unfitted-level-3);\n",
       "  color: var(--sklearn-color-background);\n",
       "  text-decoration: none;\n",
       "}\n",
       "\n",
       "div.sk-estimator.fitted:hover .sk-estimator-doc-link.fitted:hover,\n",
       ".sk-estimator-doc-link.fitted:hover,\n",
       "div.sk-label-container:hover .sk-estimator-doc-link.fitted:hover,\n",
       ".sk-estimator-doc-link.fitted:hover {\n",
       "  /* fitted */\n",
       "  background-color: var(--sklearn-color-fitted-level-3);\n",
       "  color: var(--sklearn-color-background);\n",
       "  text-decoration: none;\n",
       "}\n",
       "\n",
       "/* Span, style for the box shown on hovering the info icon */\n",
       ".sk-estimator-doc-link span {\n",
       "  display: none;\n",
       "  z-index: 9999;\n",
       "  position: relative;\n",
       "  font-weight: normal;\n",
       "  right: .2ex;\n",
       "  padding: .5ex;\n",
       "  margin: .5ex;\n",
       "  width: min-content;\n",
       "  min-width: 20ex;\n",
       "  max-width: 50ex;\n",
       "  color: var(--sklearn-color-text);\n",
       "  box-shadow: 2pt 2pt 4pt #999;\n",
       "  /* unfitted */\n",
       "  background: var(--sklearn-color-unfitted-level-0);\n",
       "  border: .5pt solid var(--sklearn-color-unfitted-level-3);\n",
       "}\n",
       "\n",
       ".sk-estimator-doc-link.fitted span {\n",
       "  /* fitted */\n",
       "  background: var(--sklearn-color-fitted-level-0);\n",
       "  border: var(--sklearn-color-fitted-level-3);\n",
       "}\n",
       "\n",
       ".sk-estimator-doc-link:hover span {\n",
       "  display: block;\n",
       "}\n",
       "\n",
       "/* \"?\"-specific style due to the `<a>` HTML tag */\n",
       "\n",
       "#sk-container-id-1 a.estimator_doc_link {\n",
       "  float: right;\n",
       "  font-size: 1rem;\n",
       "  line-height: 1em;\n",
       "  font-family: monospace;\n",
       "  background-color: var(--sklearn-color-background);\n",
       "  border-radius: 1rem;\n",
       "  height: 1rem;\n",
       "  width: 1rem;\n",
       "  text-decoration: none;\n",
       "  /* unfitted */\n",
       "  color: var(--sklearn-color-unfitted-level-1);\n",
       "  border: var(--sklearn-color-unfitted-level-1) 1pt solid;\n",
       "}\n",
       "\n",
       "#sk-container-id-1 a.estimator_doc_link.fitted {\n",
       "  /* fitted */\n",
       "  border: var(--sklearn-color-fitted-level-1) 1pt solid;\n",
       "  color: var(--sklearn-color-fitted-level-1);\n",
       "}\n",
       "\n",
       "/* On hover */\n",
       "#sk-container-id-1 a.estimator_doc_link:hover {\n",
       "  /* unfitted */\n",
       "  background-color: var(--sklearn-color-unfitted-level-3);\n",
       "  color: var(--sklearn-color-background);\n",
       "  text-decoration: none;\n",
       "}\n",
       "\n",
       "#sk-container-id-1 a.estimator_doc_link.fitted:hover {\n",
       "  /* fitted */\n",
       "  background-color: var(--sklearn-color-fitted-level-3);\n",
       "}\n",
       "</style><div id=\"sk-container-id-1\" class=\"sk-top-container\"><div class=\"sk-text-repr-fallback\"><pre>MultinomialNB()</pre><b>In a Jupyter environment, please rerun this cell to show the HTML representation or trust the notebook. <br />On GitHub, the HTML representation is unable to render, please try loading this page with nbviewer.org.</b></div><div class=\"sk-container\" hidden><div class=\"sk-item\"><div class=\"sk-estimator fitted sk-toggleable\"><input class=\"sk-toggleable__control sk-hidden--visually\" id=\"sk-estimator-id-1\" type=\"checkbox\" checked><label for=\"sk-estimator-id-1\" class=\"sk-toggleable__label fitted sk-toggleable__label-arrow\"><div><div>MultinomialNB</div></div><div><a class=\"sk-estimator-doc-link fitted\" rel=\"noreferrer\" target=\"_blank\" href=\"https://scikit-learn.org/1.6/modules/generated/sklearn.naive_bayes.MultinomialNB.html\">?<span>Documentation for MultinomialNB</span></a><span class=\"sk-estimator-doc-link fitted\">i<span>Fitted</span></span></div></label><div class=\"sk-toggleable__content fitted\"><pre>MultinomialNB()</pre></div> </div></div></div></div>"
      ],
      "text/plain": [
       "MultinomialNB()"
      ]
     },
     "execution_count": 14,
     "metadata": {},
     "output_type": "execute_result"
    }
   ],
   "source": [
    "model = MultinomialNB()\n",
    "model.fit(X_train, y_train)\n"
   ]
  },
  {
   "cell_type": "markdown",
   "metadata": {},
   "source": [
    "## Modeli Değerlendir"
   ]
  },
  {
   "cell_type": "code",
   "execution_count": 16,
   "metadata": {},
   "outputs": [
    {
     "name": "stdout",
     "output_type": "stream",
     "text": [
      "Model Doğruluk Oranı: 0.79\n",
      "\n",
      "Sınıflandırma Raporu:\n",
      "              precision    recall  f1-score   support\n",
      "\n",
      "           0       0.83      0.60      0.70      3611\n",
      "           1       0.78      0.92      0.84      5445\n",
      "\n",
      "    accuracy                           0.79      9056\n",
      "   macro avg       0.80      0.76      0.77      9056\n",
      "weighted avg       0.80      0.79      0.78      9056\n",
      "\n",
      "\n",
      "Karışıklık Matrisi:\n",
      "[[2172 1439]\n",
      " [ 446 4999]]\n"
     ]
    }
   ],
   "source": [
    "y_pred = model.predict(X_test)\n",
    "\n",
    "accuracy = accuracy_score(y_test, y_pred)\n",
    "print(f\"Model Doğruluk Oranı: {accuracy:.2f}\\n\")\n",
    "\n",
    "print(\"Sınıflandırma Raporu:\")\n",
    "print(classification_report(y_test, y_pred))\n",
    "\n",
    "print(\"\\nKarışıklık Matrisi:\")\n",
    "print(confusion_matrix(y_test, y_pred))\n"
   ]
  },
  {
   "cell_type": "markdown",
   "metadata": {},
   "source": [
    "## Gerçek Yorumlarla Test Et"
   ]
  },
  {
   "cell_type": "code",
   "execution_count": null,
   "metadata": {},
   "outputs": [
    {
     "name": "stdout",
     "output_type": "stream",
     "text": [
      "Yorumun Tahmin Edilen Duygusu: Olumlu\n"
     ]
    }
   ],
   "source": [
    "new_review_p = [\"Bu film gerçekten harikaydı, oyunculuk mükemmeldi!\"]\n",
    "new_review_p_cleaned = [metni_temizle(new_review_p[0])]\n",
    "new_review_p_tfidf = vectorizer.transform(new_review_p_cleaned).toarray()\n",
    "\n",
    "prediction = model.predict(new_review_p_tfidf)\n",
    "sentiment_label = \"Olumlu\" if prediction[0] == 1 else \"Olumsuz\"\n",
    "print(f\"Yorumun Tahmin Edilen Duygusu: {sentiment_label}\")\n"
   ]
  },
  {
   "cell_type": "code",
   "execution_count": 19,
   "metadata": {},
   "outputs": [
    {
     "name": "stdout",
     "output_type": "stream",
     "text": [
      "Yorumun Tahmin Edilen Duygusu: Olumsuz\n"
     ]
    }
   ],
   "source": [
    "new_review_n = [\"Bu film berbattı , oyuncu kadrosunun genişliğine aldanıp açtım kimseye önermem!!!\"]\n",
    "new_review_n_cleaned = [metni_temizle(new_review_n[0])]\n",
    "new_review_n_tfidf = vectorizer.transform(new_review_n_cleaned).toarray()\n",
    "\n",
    "prediction = model.predict(new_review_n_tfidf)\n",
    "sentiment_label = \"Olumlu\" if prediction[0] == 1 else \"Olumsuz\"\n",
    "print(f\"Yorumun Tahmin Edilen Duygusu: {sentiment_label}\")"
   ]
  }
 ],
 "metadata": {
  "kernelspec": {
   "display_name": "nlp_projects",
   "language": "python",
   "name": "python3"
  },
  "language_info": {
   "codemirror_mode": {
    "name": "ipython",
    "version": 3
   },
   "file_extension": ".py",
   "mimetype": "text/x-python",
   "name": "python",
   "nbconvert_exporter": "python",
   "pygments_lexer": "ipython3",
   "version": "3.12.9"
  }
 },
 "nbformat": 4,
 "nbformat_minor": 2
}
